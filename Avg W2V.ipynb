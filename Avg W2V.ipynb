{
 "cells": [
  {
   "cell_type": "code",
   "execution_count": 1,
   "metadata": {},
   "outputs": [],
   "source": [
    "import h2o"
   ]
  },
  {
   "cell_type": "code",
   "execution_count": 2,
   "metadata": {},
   "outputs": [
    {
     "name": "stdout",
     "output_type": "stream",
     "text": [
      "Checking whether there is an H2O instance running at http://localhost:54321..... not found.\n",
      "Attempting to start a local H2O server...\n",
      "  Java Version: openjdk version \"1.8.0_181\"; OpenJDK Runtime Environment (build 1.8.0_181-8u181-b13-0ubuntu0.16.04.1-b13); OpenJDK 64-Bit Server VM (build 25.181-b13, mixed mode)\n",
      "  Starting server from /home/paperspace/anaconda3/lib/python3.6/site-packages/h2o/backend/bin/h2o.jar\n",
      "  Ice root: /tmp/tmp9qf57kt4\n",
      "  JVM stdout: /tmp/tmp9qf57kt4/h2o_paperspace_started_from_python.out\n",
      "  JVM stderr: /tmp/tmp9qf57kt4/h2o_paperspace_started_from_python.err\n",
      "  Server is running at http://127.0.0.1:54321\n",
      "Connecting to H2O server at http://127.0.0.1:54321... successful.\n"
     ]
    },
    {
     "data": {
      "text/html": [
       "<div style=\"overflow:auto\"><table style=\"width:50%\"><tr><td>H2O cluster uptime:</td>\n",
       "<td>01 secs</td></tr>\n",
       "<tr><td>H2O cluster timezone:</td>\n",
       "<td>America/New_York</td></tr>\n",
       "<tr><td>H2O data parsing timezone:</td>\n",
       "<td>UTC</td></tr>\n",
       "<tr><td>H2O cluster version:</td>\n",
       "<td>3.20.0.7</td></tr>\n",
       "<tr><td>H2O cluster version age:</td>\n",
       "<td>28 days, 3 hours and 9 minutes </td></tr>\n",
       "<tr><td>H2O cluster name:</td>\n",
       "<td>H2O_from_python_paperspace_xz50ue</td></tr>\n",
       "<tr><td>H2O cluster total nodes:</td>\n",
       "<td>1</td></tr>\n",
       "<tr><td>H2O cluster free memory:</td>\n",
       "<td>22.22 Gb</td></tr>\n",
       "<tr><td>H2O cluster total cores:</td>\n",
       "<td>12</td></tr>\n",
       "<tr><td>H2O cluster allowed cores:</td>\n",
       "<td>12</td></tr>\n",
       "<tr><td>H2O cluster status:</td>\n",
       "<td>accepting new members, healthy</td></tr>\n",
       "<tr><td>H2O connection url:</td>\n",
       "<td>http://127.0.0.1:54321</td></tr>\n",
       "<tr><td>H2O connection proxy:</td>\n",
       "<td>None</td></tr>\n",
       "<tr><td>H2O internal security:</td>\n",
       "<td>False</td></tr>\n",
       "<tr><td>H2O API Extensions:</td>\n",
       "<td>XGBoost, Algos, AutoML, Core V3, Core V4</td></tr>\n",
       "<tr><td>Python version:</td>\n",
       "<td>3.6.6 final</td></tr></table></div>"
      ],
      "text/plain": [
       "--------------------------  ----------------------------------------\n",
       "H2O cluster uptime:         01 secs\n",
       "H2O cluster timezone:       America/New_York\n",
       "H2O data parsing timezone:  UTC\n",
       "H2O cluster version:        3.20.0.7\n",
       "H2O cluster version age:    28 days, 3 hours and 9 minutes\n",
       "H2O cluster name:           H2O_from_python_paperspace_xz50ue\n",
       "H2O cluster total nodes:    1\n",
       "H2O cluster free memory:    22.22 Gb\n",
       "H2O cluster total cores:    12\n",
       "H2O cluster allowed cores:  12\n",
       "H2O cluster status:         accepting new members, healthy\n",
       "H2O connection url:         http://127.0.0.1:54321\n",
       "H2O connection proxy:\n",
       "H2O internal security:      False\n",
       "H2O API Extensions:         XGBoost, Algos, AutoML, Core V3, Core V4\n",
       "Python version:             3.6.6 final\n",
       "--------------------------  ----------------------------------------"
      ]
     },
     "metadata": {},
     "output_type": "display_data"
    }
   ],
   "source": [
    "h2o.init(max_mem_size=\"25g\", nthreads=-1)"
   ]
  },
  {
   "cell_type": "code",
   "execution_count": 3,
   "metadata": {},
   "outputs": [],
   "source": [
    "import sqlite3"
   ]
  },
  {
   "cell_type": "code",
   "execution_count": 4,
   "metadata": {},
   "outputs": [
    {
     "name": "stdout",
     "output_type": "stream",
     "text": [
      "reviewsV1db  reviewsV1.db  reviewsV2.db  reviewsV3.db\r\n"
     ]
    }
   ],
   "source": [
    "!ls ../Databases"
   ]
  },
  {
   "cell_type": "code",
   "execution_count": 5,
   "metadata": {},
   "outputs": [],
   "source": [
    "conn = sqlite3.connect('../Databases/reviewsV1.db')"
   ]
  },
  {
   "cell_type": "code",
   "execution_count": 6,
   "metadata": {},
   "outputs": [],
   "source": [
    "import pandas as pd"
   ]
  },
  {
   "cell_type": "code",
   "execution_count": 7,
   "metadata": {},
   "outputs": [],
   "source": [
    "with sqlite3.connect('../Databases/reviewsV1.db') as conn:\n",
    "    data = pd.read_sql_query('SELECT * FROM Review', conn)"
   ]
  },
  {
   "cell_type": "code",
   "execution_count": 8,
   "metadata": {},
   "outputs": [],
   "source": [
    "data.sort_values(by='Time', inplace=True)\n",
    "data.reset_index(drop=True, inplace=True)\n",
    "TRAIN_SIZE = int(data.shape[0] * 0.7)\n",
    "TEST_SIZE = data.shape[0] - TRAIN_SIZE"
   ]
  },
  {
   "cell_type": "code",
   "execution_count": 9,
   "metadata": {},
   "outputs": [
    {
     "data": {
      "text/plain": [
       "254883"
      ]
     },
     "execution_count": 9,
     "metadata": {},
     "output_type": "execute_result"
    }
   ],
   "source": [
    "TRAIN_SIZE"
   ]
  },
  {
   "cell_type": "code",
   "execution_count": 10,
   "metadata": {},
   "outputs": [
    {
     "data": {
      "text/plain": [
       "109236"
      ]
     },
     "execution_count": 10,
     "metadata": {},
     "output_type": "execute_result"
    }
   ],
   "source": [
    "TEST_SIZE"
   ]
  },
  {
   "cell_type": "code",
   "execution_count": 50,
   "metadata": {},
   "outputs": [],
   "source": [
    "data_train = data[0: TRAIN_SIZE]\n",
    "data_test = data[TRAIN_SIZE:]"
   ]
  },
  {
   "cell_type": "code",
   "execution_count": 12,
   "metadata": {},
   "outputs": [],
   "source": [
    "from h2o.estimators.word2vec import H2OWord2vecEstimator"
   ]
  },
  {
   "cell_type": "code",
   "execution_count": 13,
   "metadata": {},
   "outputs": [],
   "source": [
    "from h2o import H2OFrame"
   ]
  },
  {
   "cell_type": "code",
   "execution_count": 14,
   "metadata": {},
   "outputs": [
    {
     "name": "stderr",
     "output_type": "stream",
     "text": [
      "/home/paperspace/anaconda3/lib/python3.6/site-packages/h2o/utils/shared_utils.py:177: FutureWarning: Method .as_matrix will be removed in a future version. Use .values instead.\n",
      "  data = _handle_python_lists(python_obj.as_matrix().tolist(), -1)[1]\n"
     ]
    },
    {
     "name": "stdout",
     "output_type": "stream",
     "text": [
      "Parse progress: |█████████████████████████████████████████████████████████| 100%\n"
     ]
    }
   ],
   "source": [
    "data_train = H2OFrame(data_train)"
   ]
  },
  {
   "cell_type": "code",
   "execution_count": 15,
   "metadata": {},
   "outputs": [],
   "source": [
    "corpus = data_train['Text'].tokenize(\"\\\\W+\")"
   ]
  },
  {
   "cell_type": "code",
   "execution_count": 16,
   "metadata": {},
   "outputs": [
    {
     "name": "stdout",
     "output_type": "stream",
     "text": [
      "word2vec Model Build progress: |██████████████████████████████████████████| 100%\n"
     ]
    }
   ],
   "source": [
    "w2v_model = H2OWord2vecEstimator(vec_size = 100, model_id = \"w2v.hex\")\n",
    "w2v_model.train(training_frame=corpus)"
   ]
  },
  {
   "cell_type": "code",
   "execution_count": 17,
   "metadata": {},
   "outputs": [
    {
     "name": "stdout",
     "output_type": "stream",
     "text": [
      "Avg W2V.ipynb\t      BOW -- Logistic Regression.ipynb\tTFIDF.ipynb\r\n",
      "best.model\t      README.md\t\t\t\tTFIDF W2v.ipynb\r\n",
      "best_w2v_tfidf.model  tfidf_best.model\t\t\tw2v.hex\r\n"
     ]
    }
   ],
   "source": [
    "!ls"
   ]
  },
  {
   "cell_type": "code",
   "execution_count": 26,
   "metadata": {},
   "outputs": [
    {
     "data": {
      "text/plain": [
       "OrderedDict([('pack', 0.7622376084327698),\n",
       "             ('although', 0.7599578499794006),\n",
       "             ('super', 0.7568118572235107),\n",
       "             ('prefer', 0.7419950366020203),\n",
       "             ('airplane', 0.7144638299942017)])"
      ]
     },
     "execution_count": 26,
     "metadata": {},
     "output_type": "execute_result"
    }
   ],
   "source": [
    "w2v_model.find_synonyms(\"tasty\", count = 5)"
   ]
  },
  {
   "cell_type": "code",
   "execution_count": 32,
   "metadata": {},
   "outputs": [
    {
     "data": {
      "text/plain": [
       "OrderedDict([('looked', 0.8137639760971069),\n",
       "             ('hours', 0.8076111078262329),\n",
       "             ('somehow', 0.7911955714225769),\n",
       "             ('things', 0.7813720107078552),\n",
       "             ('horrified', 0.7732985615730286)])"
      ]
     },
     "execution_count": 32,
     "metadata": {},
     "output_type": "execute_result"
    }
   ],
   "source": [
    "w2v_model.find_synonyms(\"spent\", count = 5)"
   ]
  },
  {
   "cell_type": "code",
   "execution_count": 33,
   "metadata": {},
   "outputs": [],
   "source": [
    "Dtrain = w2v_model.transform(corpus, aggregate_method = \"AVERAGE\")  # Performs average W2V"
   ]
  },
  {
   "cell_type": "code",
   "execution_count": 34,
   "metadata": {},
   "outputs": [
    {
     "data": {
      "text/plain": [
       "(254883, 100)"
      ]
     },
     "execution_count": 34,
     "metadata": {},
     "output_type": "execute_result"
    }
   ],
   "source": [
    "Dtrain.shape"
   ]
  },
  {
   "cell_type": "code",
   "execution_count": 40,
   "metadata": {},
   "outputs": [],
   "source": [
    "Dtrain['Label'] = data_train[\"Polarity\"].asfactor()"
   ]
  },
  {
   "cell_type": "code",
   "execution_count": 51,
   "metadata": {},
   "outputs": [
    {
     "name": "stderr",
     "output_type": "stream",
     "text": [
      "/home/paperspace/anaconda3/lib/python3.6/site-packages/h2o/utils/shared_utils.py:177: FutureWarning: Method .as_matrix will be removed in a future version. Use .values instead.\n",
      "  data = _handle_python_lists(python_obj.as_matrix().tolist(), -1)[1]\n"
     ]
    },
    {
     "name": "stdout",
     "output_type": "stream",
     "text": [
      "Parse progress: |█████████████████████████████████████████████████████████| 100%\n"
     ]
    }
   ],
   "source": [
    "data_test = H2OFrame(data_test)\n",
    "corpus = data_test['Text'].tokenize(\"\\\\W+\")\n",
    "\n",
    "Dtest = w2v_model.transform(corpus, aggregate_method = \"AVERAGE\")\n",
    "\n",
    "\n",
    "Dtest['Label'] = data_test[\"Polarity\"].asfactor()\n",
    "# Dtest.shape"
   ]
  },
  {
   "cell_type": "code",
   "execution_count": 35,
   "metadata": {},
   "outputs": [],
   "source": [
    "from h2o.grid.grid_search import H2OGridSearch\n",
    "from h2o.estimators.glm import H2OGeneralizedLinearEstimator"
   ]
  },
  {
   "cell_type": "code",
   "execution_count": 37,
   "metadata": {},
   "outputs": [],
   "source": [
    "hyper_params = {\n",
    "    'alpha': [0, .25, .5, .75, 1],\n",
    "    'lambda': [1000, 100, 10, 1, 0, 0.1, 0.01, 0.001, 0.0001, 0.00001]\n",
    "}"
   ]
  },
  {
   "cell_type": "code",
   "execution_count": 38,
   "metadata": {},
   "outputs": [],
   "source": [
    "estimator = H2OGeneralizedLinearEstimator(family = 'binomial', # Binomial for logistic regression\n",
    "                                    nfolds=10,\n",
    "                                    keep_cross_validation_predictions=True,  # For getting the cv results\n",
    "                                    fold_assignment=\"stratified\",    # For unbalanced class labels\n",
    "                                    standardize = True,   # Standardize the data before modelling\n",
    "                                    seed=42)"
   ]
  },
  {
   "cell_type": "code",
   "execution_count": 39,
   "metadata": {},
   "outputs": [],
   "source": [
    "grid = H2OGridSearch(model = estimator, \n",
    "                     hyper_params = hyper_params,\n",
    "                     search_criteria = {'strategy': \"Cartesian\"}) # Cartesian for fitting all the hp combinations"
   ]
  },
  {
   "cell_type": "code",
   "execution_count": 41,
   "metadata": {},
   "outputs": [
    {
     "name": "stdout",
     "output_type": "stream",
     "text": [
      "glm Grid Build progress: |████████████████████████████████████████████████| 100%\n"
     ]
    }
   ],
   "source": [
    "grid.train(y = \"Label\", training_frame = Dtrain)"
   ]
  },
  {
   "cell_type": "code",
   "execution_count": 42,
   "metadata": {},
   "outputs": [],
   "source": [
    "param_combs = []\n",
    "for ids in grid.model_ids:\n",
    "    param_combs.append(grid.get_hyperparams_dict(ids, False))\n",
    "\n",
    "cv_results = []\n",
    "for iters, param in enumerate(param_combs):\n",
    "    res = grid._grid_json['cross_validation_metrics_summary'][iters].as_data_frame()\n",
    "    res.set_index('', inplace=True)\n",
    "#     print(param)\n",
    "    cvRes = res.T[['accuracy', 'f1', 'recall', 'precision']].loc['mean']\n",
    "    cvRes['alpha'] = param['alpha']\n",
    "    cvRes['lambda'] = param['lambda']\n",
    "    cv_results.append(cvRes)"
   ]
  },
  {
   "cell_type": "code",
   "execution_count": 43,
   "metadata": {},
   "outputs": [],
   "source": [
    "results = pd.DataFrame(cv_results).reset_index(drop=True)"
   ]
  },
  {
   "cell_type": "code",
   "execution_count": 45,
   "metadata": {},
   "outputs": [
    {
     "data": {
      "text/html": [
       "<div>\n",
       "<style scoped>\n",
       "    .dataframe tbody tr th:only-of-type {\n",
       "        vertical-align: middle;\n",
       "    }\n",
       "\n",
       "    .dataframe tbody tr th {\n",
       "        vertical-align: top;\n",
       "    }\n",
       "\n",
       "    .dataframe thead th {\n",
       "        text-align: right;\n",
       "    }\n",
       "</style>\n",
       "<table border=\"1\" class=\"dataframe\">\n",
       "  <thead>\n",
       "    <tr style=\"text-align: right;\">\n",
       "      <th></th>\n",
       "      <th>accuracy</th>\n",
       "      <th>f1</th>\n",
       "      <th>recall</th>\n",
       "      <th>precision</th>\n",
       "      <th>alpha</th>\n",
       "      <th>lambda</th>\n",
       "    </tr>\n",
       "  </thead>\n",
       "  <tbody>\n",
       "    <tr>\n",
       "      <th>9</th>\n",
       "      <td>0.8970393</td>\n",
       "      <td>0.9411353</td>\n",
       "      <td>0.9673946</td>\n",
       "      <td>0.91630155</td>\n",
       "      <td>0.00</td>\n",
       "      <td>0.00001</td>\n",
       "    </tr>\n",
       "    <tr>\n",
       "      <th>4</th>\n",
       "      <td>0.8971495</td>\n",
       "      <td>0.9411336</td>\n",
       "      <td>0.9663495</td>\n",
       "      <td>0.9172169</td>\n",
       "      <td>1.00</td>\n",
       "      <td>0.00001</td>\n",
       "    </tr>\n",
       "    <tr>\n",
       "      <th>5</th>\n",
       "      <td>0.89686656</td>\n",
       "      <td>0.94113</td>\n",
       "      <td>0.9689185</td>\n",
       "      <td>0.9149249</td>\n",
       "      <td>0.50</td>\n",
       "      <td>0.00001</td>\n",
       "    </tr>\n",
       "    <tr>\n",
       "      <th>3</th>\n",
       "      <td>0.89704335</td>\n",
       "      <td>0.9411288</td>\n",
       "      <td>0.9672499</td>\n",
       "      <td>0.91641736</td>\n",
       "      <td>0.75</td>\n",
       "      <td>0.00001</td>\n",
       "    </tr>\n",
       "    <tr>\n",
       "      <th>12</th>\n",
       "      <td>0.8969846</td>\n",
       "      <td>0.94112825</td>\n",
       "      <td>0.96778834</td>\n",
       "      <td>0.915936</td>\n",
       "      <td>0.75</td>\n",
       "      <td>0.00000</td>\n",
       "    </tr>\n",
       "    <tr>\n",
       "      <th>11</th>\n",
       "      <td>0.8969846</td>\n",
       "      <td>0.94112825</td>\n",
       "      <td>0.96778834</td>\n",
       "      <td>0.915936</td>\n",
       "      <td>1.00</td>\n",
       "      <td>0.00000</td>\n",
       "    </tr>\n",
       "    <tr>\n",
       "      <th>14</th>\n",
       "      <td>0.8969846</td>\n",
       "      <td>0.94112825</td>\n",
       "      <td>0.96778834</td>\n",
       "      <td>0.915936</td>\n",
       "      <td>0.00</td>\n",
       "      <td>0.00000</td>\n",
       "    </tr>\n",
       "    <tr>\n",
       "      <th>13</th>\n",
       "      <td>0.8969846</td>\n",
       "      <td>0.94112825</td>\n",
       "      <td>0.96778834</td>\n",
       "      <td>0.915936</td>\n",
       "      <td>0.25</td>\n",
       "      <td>0.00000</td>\n",
       "    </tr>\n",
       "    <tr>\n",
       "      <th>10</th>\n",
       "      <td>0.8969846</td>\n",
       "      <td>0.94112825</td>\n",
       "      <td>0.96778834</td>\n",
       "      <td>0.915936</td>\n",
       "      <td>0.50</td>\n",
       "      <td>0.00000</td>\n",
       "    </tr>\n",
       "    <tr>\n",
       "      <th>8</th>\n",
       "      <td>0.89705485</td>\n",
       "      <td>0.94112045</td>\n",
       "      <td>0.96699715</td>\n",
       "      <td>0.9166213</td>\n",
       "      <td>0.25</td>\n",
       "      <td>0.00001</td>\n",
       "    </tr>\n",
       "    <tr>\n",
       "      <th>7</th>\n",
       "      <td>0.8969922</td>\n",
       "      <td>0.94111454</td>\n",
       "      <td>0.967484</td>\n",
       "      <td>0.91617954</td>\n",
       "      <td>0.00</td>\n",
       "      <td>0.00010</td>\n",
       "    </tr>\n",
       "    <tr>\n",
       "      <th>0</th>\n",
       "      <td>0.897023</td>\n",
       "      <td>0.9411028</td>\n",
       "      <td>0.9669847</td>\n",
       "      <td>0.91660017</td>\n",
       "      <td>0.50</td>\n",
       "      <td>0.00010</td>\n",
       "    </tr>\n",
       "    <tr>\n",
       "      <th>1</th>\n",
       "      <td>0.8970903</td>\n",
       "      <td>0.9411017</td>\n",
       "      <td>0.9663492</td>\n",
       "      <td>0.91715735</td>\n",
       "      <td>0.25</td>\n",
       "      <td>0.00010</td>\n",
       "    </tr>\n",
       "    <tr>\n",
       "      <th>2</th>\n",
       "      <td>0.8969016</td>\n",
       "      <td>0.94109255</td>\n",
       "      <td>0.9679534</td>\n",
       "      <td>0.91570514</td>\n",
       "      <td>0.75</td>\n",
       "      <td>0.00010</td>\n",
       "    </tr>\n",
       "    <tr>\n",
       "      <th>6</th>\n",
       "      <td>0.8969289</td>\n",
       "      <td>0.941071</td>\n",
       "      <td>0.96731263</td>\n",
       "      <td>0.9162443</td>\n",
       "      <td>1.00</td>\n",
       "      <td>0.00010</td>\n",
       "    </tr>\n",
       "    <tr>\n",
       "      <th>15</th>\n",
       "      <td>0.8969415</td>\n",
       "      <td>0.9410661</td>\n",
       "      <td>0.9671081</td>\n",
       "      <td>0.91642064</td>\n",
       "      <td>0.00</td>\n",
       "      <td>0.00100</td>\n",
       "    </tr>\n",
       "    <tr>\n",
       "      <th>16</th>\n",
       "      <td>0.8966507</td>\n",
       "      <td>0.9410336</td>\n",
       "      <td>0.9692502</td>\n",
       "      <td>0.9144466</td>\n",
       "      <td>0.25</td>\n",
       "      <td>0.00100</td>\n",
       "    </tr>\n",
       "    <tr>\n",
       "      <th>17</th>\n",
       "      <td>0.8967644</td>\n",
       "      <td>0.9409601</td>\n",
       "      <td>0.9668979</td>\n",
       "      <td>0.9164273</td>\n",
       "      <td>0.50</td>\n",
       "      <td>0.00100</td>\n",
       "    </tr>\n",
       "    <tr>\n",
       "      <th>18</th>\n",
       "      <td>0.89644885</td>\n",
       "      <td>0.94084686</td>\n",
       "      <td>0.9678782</td>\n",
       "      <td>0.91531175</td>\n",
       "      <td>0.75</td>\n",
       "      <td>0.00100</td>\n",
       "    </tr>\n",
       "    <tr>\n",
       "      <th>20</th>\n",
       "      <td>0.8964387</td>\n",
       "      <td>0.9408171</td>\n",
       "      <td>0.96747965</td>\n",
       "      <td>0.9156183</td>\n",
       "      <td>0.00</td>\n",
       "      <td>0.01000</td>\n",
       "    </tr>\n",
       "    <tr>\n",
       "      <th>19</th>\n",
       "      <td>0.89624065</td>\n",
       "      <td>0.9407533</td>\n",
       "      <td>0.968202</td>\n",
       "      <td>0.91484874</td>\n",
       "      <td>1.00</td>\n",
       "      <td>0.00100</td>\n",
       "    </tr>\n",
       "    <tr>\n",
       "      <th>21</th>\n",
       "      <td>0.8949913</td>\n",
       "      <td>0.9399506</td>\n",
       "      <td>0.9659723</td>\n",
       "      <td>0.9153186</td>\n",
       "      <td>0.25</td>\n",
       "      <td>0.01000</td>\n",
       "    </tr>\n",
       "    <tr>\n",
       "      <th>24</th>\n",
       "      <td>0.89294386</td>\n",
       "      <td>0.9389687</td>\n",
       "      <td>0.9679211</td>\n",
       "      <td>0.9117435</td>\n",
       "      <td>0.00</td>\n",
       "      <td>0.10000</td>\n",
       "    </tr>\n",
       "    <tr>\n",
       "      <th>22</th>\n",
       "      <td>0.8919665</td>\n",
       "      <td>0.93849134</td>\n",
       "      <td>0.9687291</td>\n",
       "      <td>0.9101176</td>\n",
       "      <td>0.50</td>\n",
       "      <td>0.01000</td>\n",
       "    </tr>\n",
       "    <tr>\n",
       "      <th>23</th>\n",
       "      <td>0.88963395</td>\n",
       "      <td>0.93704087</td>\n",
       "      <td>0.96533555</td>\n",
       "      <td>0.9104089</td>\n",
       "      <td>0.75</td>\n",
       "      <td>0.01000</td>\n",
       "    </tr>\n",
       "    <tr>\n",
       "      <th>25</th>\n",
       "      <td>0.88697743</td>\n",
       "      <td>0.9358346</td>\n",
       "      <td>0.96875125</td>\n",
       "      <td>0.9050923</td>\n",
       "      <td>1.00</td>\n",
       "      <td>0.01000</td>\n",
       "    </tr>\n",
       "    <tr>\n",
       "      <th>27</th>\n",
       "      <td>0.88303286</td>\n",
       "      <td>0.9338098</td>\n",
       "      <td>0.96974856</td>\n",
       "      <td>0.9004694</td>\n",
       "      <td>0.00</td>\n",
       "      <td>1.00000</td>\n",
       "    </tr>\n",
       "    <tr>\n",
       "      <th>30</th>\n",
       "      <td>0.8774386</td>\n",
       "      <td>0.93094426</td>\n",
       "      <td>0.97096765</td>\n",
       "      <td>0.89412844</td>\n",
       "      <td>0.00</td>\n",
       "      <td>10.00000</td>\n",
       "    </tr>\n",
       "    <tr>\n",
       "      <th>32</th>\n",
       "      <td>0.87664247</td>\n",
       "      <td>0.9305585</td>\n",
       "      <td>0.9714718</td>\n",
       "      <td>0.89296836</td>\n",
       "      <td>0.00</td>\n",
       "      <td>100.00000</td>\n",
       "    </tr>\n",
       "    <tr>\n",
       "      <th>33</th>\n",
       "      <td>0.8763784</td>\n",
       "      <td>0.93050283</td>\n",
       "      <td>0.9727052</td>\n",
       "      <td>0.8918371</td>\n",
       "      <td>0.00</td>\n",
       "      <td>1000.00000</td>\n",
       "    </tr>\n",
       "    <tr>\n",
       "      <th>26</th>\n",
       "      <td>0.87384003</td>\n",
       "      <td>0.92918485</td>\n",
       "      <td>0.9728458</td>\n",
       "      <td>0.8892922</td>\n",
       "      <td>0.25</td>\n",
       "      <td>0.10000</td>\n",
       "    </tr>\n",
       "    <tr>\n",
       "      <th>28</th>\n",
       "      <td>0.8562079</td>\n",
       "      <td>0.921054</td>\n",
       "      <td>0.9859378</td>\n",
       "      <td>0.8642009</td>\n",
       "      <td>0.50</td>\n",
       "      <td>0.10000</td>\n",
       "    </tr>\n",
       "    <tr>\n",
       "      <th>29</th>\n",
       "      <td>0.85463333</td>\n",
       "      <td>0.92040706</td>\n",
       "      <td>0.98790276</td>\n",
       "      <td>0.8615725</td>\n",
       "      <td>0.75</td>\n",
       "      <td>0.10000</td>\n",
       "    </tr>\n",
       "    <tr>\n",
       "      <th>31</th>\n",
       "      <td>0.8514826</td>\n",
       "      <td>0.9195881</td>\n",
       "      <td>0.99817175</td>\n",
       "      <td>0.8524785</td>\n",
       "      <td>1.00</td>\n",
       "      <td>0.10000</td>\n",
       "    </tr>\n",
       "    <tr>\n",
       "      <th>42</th>\n",
       "      <td>0.8507985</td>\n",
       "      <td>0.9193839</td>\n",
       "      <td>1.0</td>\n",
       "      <td>0.8507985</td>\n",
       "      <td>0.75</td>\n",
       "      <td>1.00000</td>\n",
       "    </tr>\n",
       "    <tr>\n",
       "      <th>48</th>\n",
       "      <td>0.8507985</td>\n",
       "      <td>0.9193839</td>\n",
       "      <td>1.0</td>\n",
       "      <td>0.8507985</td>\n",
       "      <td>1.00</td>\n",
       "      <td>1.00000</td>\n",
       "    </tr>\n",
       "    <tr>\n",
       "      <th>47</th>\n",
       "      <td>0.8507985</td>\n",
       "      <td>0.9193839</td>\n",
       "      <td>1.0</td>\n",
       "      <td>0.8507985</td>\n",
       "      <td>0.50</td>\n",
       "      <td>100.00000</td>\n",
       "    </tr>\n",
       "    <tr>\n",
       "      <th>46</th>\n",
       "      <td>0.8507985</td>\n",
       "      <td>0.9193839</td>\n",
       "      <td>1.0</td>\n",
       "      <td>0.8507985</td>\n",
       "      <td>0.50</td>\n",
       "      <td>1000.00000</td>\n",
       "    </tr>\n",
       "    <tr>\n",
       "      <th>45</th>\n",
       "      <td>0.8507985</td>\n",
       "      <td>0.9193839</td>\n",
       "      <td>1.0</td>\n",
       "      <td>0.8507985</td>\n",
       "      <td>0.25</td>\n",
       "      <td>1000.00000</td>\n",
       "    </tr>\n",
       "    <tr>\n",
       "      <th>44</th>\n",
       "      <td>0.8507985</td>\n",
       "      <td>0.9193839</td>\n",
       "      <td>1.0</td>\n",
       "      <td>0.8507985</td>\n",
       "      <td>0.25</td>\n",
       "      <td>100.00000</td>\n",
       "    </tr>\n",
       "    <tr>\n",
       "      <th>43</th>\n",
       "      <td>0.8507985</td>\n",
       "      <td>0.9193839</td>\n",
       "      <td>1.0</td>\n",
       "      <td>0.8507985</td>\n",
       "      <td>1.00</td>\n",
       "      <td>1000.00000</td>\n",
       "    </tr>\n",
       "    <tr>\n",
       "      <th>38</th>\n",
       "      <td>0.8507985</td>\n",
       "      <td>0.9193839</td>\n",
       "      <td>1.0</td>\n",
       "      <td>0.8507985</td>\n",
       "      <td>1.00</td>\n",
       "      <td>100.00000</td>\n",
       "    </tr>\n",
       "    <tr>\n",
       "      <th>41</th>\n",
       "      <td>0.8507985</td>\n",
       "      <td>0.9193839</td>\n",
       "      <td>1.0</td>\n",
       "      <td>0.8507985</td>\n",
       "      <td>0.50</td>\n",
       "      <td>1.00000</td>\n",
       "    </tr>\n",
       "    <tr>\n",
       "      <th>40</th>\n",
       "      <td>0.8507985</td>\n",
       "      <td>0.9193839</td>\n",
       "      <td>1.0</td>\n",
       "      <td>0.8507985</td>\n",
       "      <td>0.75</td>\n",
       "      <td>1000.00000</td>\n",
       "    </tr>\n",
       "    <tr>\n",
       "      <th>39</th>\n",
       "      <td>0.8507985</td>\n",
       "      <td>0.9193839</td>\n",
       "      <td>1.0</td>\n",
       "      <td>0.8507985</td>\n",
       "      <td>0.75</td>\n",
       "      <td>100.00000</td>\n",
       "    </tr>\n",
       "    <tr>\n",
       "      <th>37</th>\n",
       "      <td>0.8507985</td>\n",
       "      <td>0.9193839</td>\n",
       "      <td>1.0</td>\n",
       "      <td>0.8507985</td>\n",
       "      <td>0.50</td>\n",
       "      <td>10.00000</td>\n",
       "    </tr>\n",
       "    <tr>\n",
       "      <th>36</th>\n",
       "      <td>0.8507985</td>\n",
       "      <td>0.9193839</td>\n",
       "      <td>1.0</td>\n",
       "      <td>0.8507985</td>\n",
       "      <td>0.75</td>\n",
       "      <td>10.00000</td>\n",
       "    </tr>\n",
       "    <tr>\n",
       "      <th>35</th>\n",
       "      <td>0.8507985</td>\n",
       "      <td>0.9193839</td>\n",
       "      <td>1.0</td>\n",
       "      <td>0.8507985</td>\n",
       "      <td>0.25</td>\n",
       "      <td>1.00000</td>\n",
       "    </tr>\n",
       "    <tr>\n",
       "      <th>34</th>\n",
       "      <td>0.8507985</td>\n",
       "      <td>0.9193839</td>\n",
       "      <td>1.0</td>\n",
       "      <td>0.8507985</td>\n",
       "      <td>1.00</td>\n",
       "      <td>10.00000</td>\n",
       "    </tr>\n",
       "    <tr>\n",
       "      <th>49</th>\n",
       "      <td>0.8507985</td>\n",
       "      <td>0.9193839</td>\n",
       "      <td>1.0</td>\n",
       "      <td>0.8507985</td>\n",
       "      <td>0.25</td>\n",
       "      <td>10.00000</td>\n",
       "    </tr>\n",
       "  </tbody>\n",
       "</table>\n",
       "</div>"
      ],
      "text/plain": [
       "      accuracy          f1      recall   precision  alpha      lambda\n",
       "9    0.8970393   0.9411353   0.9673946  0.91630155   0.00     0.00001\n",
       "4    0.8971495   0.9411336   0.9663495   0.9172169   1.00     0.00001\n",
       "5   0.89686656     0.94113   0.9689185   0.9149249   0.50     0.00001\n",
       "3   0.89704335   0.9411288   0.9672499  0.91641736   0.75     0.00001\n",
       "12   0.8969846  0.94112825  0.96778834    0.915936   0.75     0.00000\n",
       "11   0.8969846  0.94112825  0.96778834    0.915936   1.00     0.00000\n",
       "14   0.8969846  0.94112825  0.96778834    0.915936   0.00     0.00000\n",
       "13   0.8969846  0.94112825  0.96778834    0.915936   0.25     0.00000\n",
       "10   0.8969846  0.94112825  0.96778834    0.915936   0.50     0.00000\n",
       "8   0.89705485  0.94112045  0.96699715   0.9166213   0.25     0.00001\n",
       "7    0.8969922  0.94111454    0.967484  0.91617954   0.00     0.00010\n",
       "0     0.897023   0.9411028   0.9669847  0.91660017   0.50     0.00010\n",
       "1    0.8970903   0.9411017   0.9663492  0.91715735   0.25     0.00010\n",
       "2    0.8969016  0.94109255   0.9679534  0.91570514   0.75     0.00010\n",
       "6    0.8969289    0.941071  0.96731263   0.9162443   1.00     0.00010\n",
       "15   0.8969415   0.9410661   0.9671081  0.91642064   0.00     0.00100\n",
       "16   0.8966507   0.9410336   0.9692502   0.9144466   0.25     0.00100\n",
       "17   0.8967644   0.9409601   0.9668979   0.9164273   0.50     0.00100\n",
       "18  0.89644885  0.94084686   0.9678782  0.91531175   0.75     0.00100\n",
       "20   0.8964387   0.9408171  0.96747965   0.9156183   0.00     0.01000\n",
       "19  0.89624065   0.9407533    0.968202  0.91484874   1.00     0.00100\n",
       "21   0.8949913   0.9399506   0.9659723   0.9153186   0.25     0.01000\n",
       "24  0.89294386   0.9389687   0.9679211   0.9117435   0.00     0.10000\n",
       "22   0.8919665  0.93849134   0.9687291   0.9101176   0.50     0.01000\n",
       "23  0.88963395  0.93704087  0.96533555   0.9104089   0.75     0.01000\n",
       "25  0.88697743   0.9358346  0.96875125   0.9050923   1.00     0.01000\n",
       "27  0.88303286   0.9338098  0.96974856   0.9004694   0.00     1.00000\n",
       "30   0.8774386  0.93094426  0.97096765  0.89412844   0.00    10.00000\n",
       "32  0.87664247   0.9305585   0.9714718  0.89296836   0.00   100.00000\n",
       "33   0.8763784  0.93050283   0.9727052   0.8918371   0.00  1000.00000\n",
       "26  0.87384003  0.92918485   0.9728458   0.8892922   0.25     0.10000\n",
       "28   0.8562079    0.921054   0.9859378   0.8642009   0.50     0.10000\n",
       "29  0.85463333  0.92040706  0.98790276   0.8615725   0.75     0.10000\n",
       "31   0.8514826   0.9195881  0.99817175   0.8524785   1.00     0.10000\n",
       "42   0.8507985   0.9193839         1.0   0.8507985   0.75     1.00000\n",
       "48   0.8507985   0.9193839         1.0   0.8507985   1.00     1.00000\n",
       "47   0.8507985   0.9193839         1.0   0.8507985   0.50   100.00000\n",
       "46   0.8507985   0.9193839         1.0   0.8507985   0.50  1000.00000\n",
       "45   0.8507985   0.9193839         1.0   0.8507985   0.25  1000.00000\n",
       "44   0.8507985   0.9193839         1.0   0.8507985   0.25   100.00000\n",
       "43   0.8507985   0.9193839         1.0   0.8507985   1.00  1000.00000\n",
       "38   0.8507985   0.9193839         1.0   0.8507985   1.00   100.00000\n",
       "41   0.8507985   0.9193839         1.0   0.8507985   0.50     1.00000\n",
       "40   0.8507985   0.9193839         1.0   0.8507985   0.75  1000.00000\n",
       "39   0.8507985   0.9193839         1.0   0.8507985   0.75   100.00000\n",
       "37   0.8507985   0.9193839         1.0   0.8507985   0.50    10.00000\n",
       "36   0.8507985   0.9193839         1.0   0.8507985   0.75    10.00000\n",
       "35   0.8507985   0.9193839         1.0   0.8507985   0.25     1.00000\n",
       "34   0.8507985   0.9193839         1.0   0.8507985   1.00    10.00000\n",
       "49   0.8507985   0.9193839         1.0   0.8507985   0.25    10.00000"
      ]
     },
     "execution_count": 45,
     "metadata": {},
     "output_type": "execute_result"
    }
   ],
   "source": [
    "results.sort_values(by='f1', ascending=False)"
   ]
  },
  {
   "cell_type": "markdown",
   "metadata": {},
   "source": [
    "So as we can see that the best value of F1 score is from the alpha = 0 and the lambda = 0.00001"
   ]
  },
  {
   "cell_type": "code",
   "execution_count": 46,
   "metadata": {},
   "outputs": [],
   "source": [
    "clf = H2OGeneralizedLinearEstimator(family = 'binomial', # Binomial for logistic regression\n",
    "                                    nfolds=0,\n",
    "                                    keep_cross_validation_predictions=False,\n",
    "                                    standardize = True,\n",
    "                                    seed=42,\n",
    "                                    alpha=0,\n",
    "                                    lambda_=0.00001)"
   ]
  },
  {
   "cell_type": "code",
   "execution_count": 47,
   "metadata": {},
   "outputs": [
    {
     "name": "stdout",
     "output_type": "stream",
     "text": [
      "glm Model Build progress: |███████████████████████████████████████████████| 100%\n"
     ]
    }
   ],
   "source": [
    "clf.train(y='Label', training_frame=Dtrain)"
   ]
  },
  {
   "cell_type": "code",
   "execution_count": 52,
   "metadata": {},
   "outputs": [
    {
     "data": {
      "text/html": [
       "<table>\n",
       "<thead>\n",
       "<tr><th style=\"text-align: right;\">        C1</th><th style=\"text-align: right;\">        C2</th><th style=\"text-align: right;\">        C3</th><th style=\"text-align: right;\">         C4</th><th style=\"text-align: right;\">        C5</th><th style=\"text-align: right;\">        C6</th><th style=\"text-align: right;\">       C7</th><th style=\"text-align: right;\">         C8</th><th style=\"text-align: right;\">        C9</th><th style=\"text-align: right;\">       C10</th><th style=\"text-align: right;\">     C11</th><th style=\"text-align: right;\">        C12</th><th style=\"text-align: right;\">      C13</th><th style=\"text-align: right;\">        C14</th><th style=\"text-align: right;\">       C15</th><th style=\"text-align: right;\">       C16</th><th style=\"text-align: right;\">        C17</th><th style=\"text-align: right;\">       C18</th><th style=\"text-align: right;\">     C19</th><th style=\"text-align: right;\">        C20</th><th style=\"text-align: right;\">       C21</th><th style=\"text-align: right;\">       C22</th><th style=\"text-align: right;\">        C23</th><th style=\"text-align: right;\">       C24</th><th style=\"text-align: right;\">      C25</th><th style=\"text-align: right;\">       C26</th><th style=\"text-align: right;\">       C27</th><th style=\"text-align: right;\">       C28</th><th style=\"text-align: right;\">       C29</th><th style=\"text-align: right;\">       C30</th><th style=\"text-align: right;\">       C31</th><th style=\"text-align: right;\">      C32</th><th style=\"text-align: right;\">       C33</th><th style=\"text-align: right;\">        C34</th><th style=\"text-align: right;\">       C35</th><th style=\"text-align: right;\">       C36</th><th style=\"text-align: right;\">       C37</th><th style=\"text-align: right;\">      C38</th><th style=\"text-align: right;\">       C39</th><th style=\"text-align: right;\">       C40</th><th style=\"text-align: right;\">        C41</th><th style=\"text-align: right;\">      C42</th><th style=\"text-align: right;\">       C43</th><th style=\"text-align: right;\">       C44</th><th style=\"text-align: right;\">      C45</th><th style=\"text-align: right;\">      C46</th><th style=\"text-align: right;\">       C47</th><th style=\"text-align: right;\">      C48</th><th style=\"text-align: right;\">       C49</th><th style=\"text-align: right;\">      C50</th><th style=\"text-align: right;\">        C51</th><th style=\"text-align: right;\">        C52</th><th style=\"text-align: right;\">         C53</th><th style=\"text-align: right;\">      C54</th><th style=\"text-align: right;\">        C55</th><th style=\"text-align: right;\">       C56</th><th style=\"text-align: right;\">       C57</th><th style=\"text-align: right;\">       C58</th><th style=\"text-align: right;\">       C59</th><th style=\"text-align: right;\">        C60</th><th style=\"text-align: right;\">        C61</th><th style=\"text-align: right;\">      C62</th><th style=\"text-align: right;\">        C63</th><th style=\"text-align: right;\">        C64</th><th style=\"text-align: right;\">       C65</th><th style=\"text-align: right;\">        C66</th><th style=\"text-align: right;\">       C67</th><th style=\"text-align: right;\">      C68</th><th style=\"text-align: right;\">       C69</th><th style=\"text-align: right;\">        C70</th><th style=\"text-align: right;\">      C71</th><th style=\"text-align: right;\">       C72</th><th style=\"text-align: right;\">        C73</th><th style=\"text-align: right;\">      C74</th><th style=\"text-align: right;\">       C75</th><th style=\"text-align: right;\">         C76</th><th style=\"text-align: right;\">      C77</th><th style=\"text-align: right;\">       C78</th><th style=\"text-align: right;\">       C79</th><th style=\"text-align: right;\">       C80</th><th style=\"text-align: right;\">       C81</th><th style=\"text-align: right;\">       C82</th><th style=\"text-align: right;\">        C83</th><th style=\"text-align: right;\">       C84</th><th style=\"text-align: right;\">       C85</th><th style=\"text-align: right;\">       C86</th><th style=\"text-align: right;\">       C87</th><th style=\"text-align: right;\">       C88</th><th style=\"text-align: right;\">       C89</th><th style=\"text-align: right;\">       C90</th><th style=\"text-align: right;\">        C91</th><th style=\"text-align: right;\">       C92</th><th style=\"text-align: right;\">      C93</th><th style=\"text-align: right;\">     C94</th><th style=\"text-align: right;\">      C95</th><th style=\"text-align: right;\">       C96</th><th style=\"text-align: right;\">         C97</th><th style=\"text-align: right;\">        C98</th><th style=\"text-align: right;\">       C99</th><th style=\"text-align: right;\">     C100</th><th>Label   </th></tr>\n",
       "</thead>\n",
       "<tbody>\n",
       "<tr><td style=\"text-align: right;\">-0.0765935</td><td style=\"text-align: right;\"> 0.0379043</td><td style=\"text-align: right;\"> 0.0764101</td><td style=\"text-align: right;\">-0.0334471 </td><td style=\"text-align: right;\">-0.103389 </td><td style=\"text-align: right;\">-0.0829096</td><td style=\"text-align: right;\">0.10944  </td><td style=\"text-align: right;\"> 0.0295401 </td><td style=\"text-align: right;\">-0.0679619</td><td style=\"text-align: right;\"> 0.0503358</td><td style=\"text-align: right;\">0.106777</td><td style=\"text-align: right;\">-0.0112015 </td><td style=\"text-align: right;\">0.163895 </td><td style=\"text-align: right;\">-0.10535   </td><td style=\"text-align: right;\">-0.0632288</td><td style=\"text-align: right;\"> 0.0185676</td><td style=\"text-align: right;\">-0.0865714 </td><td style=\"text-align: right;\">0.132278  </td><td style=\"text-align: right;\">0.160321</td><td style=\"text-align: right;\"> 0.0568595 </td><td style=\"text-align: right;\">-0.0284776</td><td style=\"text-align: right;\">-0.0534351</td><td style=\"text-align: right;\">-0.17403   </td><td style=\"text-align: right;\">-0.145002 </td><td style=\"text-align: right;\">0.0798052</td><td style=\"text-align: right;\">-0.0646833</td><td style=\"text-align: right;\">-0.0222424</td><td style=\"text-align: right;\">-0.162608 </td><td style=\"text-align: right;\">-0.106835 </td><td style=\"text-align: right;\"> 0.116643 </td><td style=\"text-align: right;\">-0.0326197</td><td style=\"text-align: right;\">-0.186726</td><td style=\"text-align: right;\"> 0.0447839</td><td style=\"text-align: right;\">-0.00908741</td><td style=\"text-align: right;\">-0.265221 </td><td style=\"text-align: right;\">-0.0500213</td><td style=\"text-align: right;\">-0.101119 </td><td style=\"text-align: right;\">0.0141155</td><td style=\"text-align: right;\">-0.0856293</td><td style=\"text-align: right;\">-0.139665 </td><td style=\"text-align: right;\">-0.0266627 </td><td style=\"text-align: right;\">-0.15129 </td><td style=\"text-align: right;\">-0.0653463</td><td style=\"text-align: right;\">-0.0376328</td><td style=\"text-align: right;\">0.0497207</td><td style=\"text-align: right;\">0.106536 </td><td style=\"text-align: right;\">-0.109644 </td><td style=\"text-align: right;\">0.0406661</td><td style=\"text-align: right;\">0.104839  </td><td style=\"text-align: right;\">0.0172098</td><td style=\"text-align: right;\">-0.0259079 </td><td style=\"text-align: right;\">-0.0532858 </td><td style=\"text-align: right;\"> 0.000273317</td><td style=\"text-align: right;\">0.124068 </td><td style=\"text-align: right;\">-0.114546  </td><td style=\"text-align: right;\">-0.025198 </td><td style=\"text-align: right;\"> 0.006918 </td><td style=\"text-align: right;\">-0.0707046</td><td style=\"text-align: right;\"> 0.105556 </td><td style=\"text-align: right;\"> 0.0278773 </td><td style=\"text-align: right;\">-0.0785708 </td><td style=\"text-align: right;\">0.142715 </td><td style=\"text-align: right;\"> 0.0322835 </td><td style=\"text-align: right;\">-0.11158   </td><td style=\"text-align: right;\">0.0826041 </td><td style=\"text-align: right;\"> 0.0488086 </td><td style=\"text-align: right;\">-0.0228256</td><td style=\"text-align: right;\">0.0144346</td><td style=\"text-align: right;\">-0.0889524</td><td style=\"text-align: right;\">-0.0315468 </td><td style=\"text-align: right;\">0.0140244</td><td style=\"text-align: right;\">-0.184668 </td><td style=\"text-align: right;\">-0.00724963</td><td style=\"text-align: right;\">0.156506 </td><td style=\"text-align: right;\">-0.159669 </td><td style=\"text-align: right;\">-0.0428037  </td><td style=\"text-align: right;\">0.15405  </td><td style=\"text-align: right;\"> 0.0490119</td><td style=\"text-align: right;\"> 0.0487271</td><td style=\"text-align: right;\"> 0.0969412</td><td style=\"text-align: right;\">0.00928603</td><td style=\"text-align: right;\"> 0.109724 </td><td style=\"text-align: right;\"> 0.0553607 </td><td style=\"text-align: right;\"> 0.154458 </td><td style=\"text-align: right;\">-0.0410932</td><td style=\"text-align: right;\">-0.121036 </td><td style=\"text-align: right;\">-0.0774676</td><td style=\"text-align: right;\"> 0.0513469</td><td style=\"text-align: right;\">-0.0224081</td><td style=\"text-align: right;\">-0.222832 </td><td style=\"text-align: right;\"> 0.0353577 </td><td style=\"text-align: right;\"> 0.0277342</td><td style=\"text-align: right;\">-0.128045</td><td style=\"text-align: right;\">0.226016</td><td style=\"text-align: right;\">0.109727 </td><td style=\"text-align: right;\">-0.0421792</td><td style=\"text-align: right;\">-0.0920685  </td><td style=\"text-align: right;\">-0.0589863 </td><td style=\"text-align: right;\">0.027289  </td><td style=\"text-align: right;\">0.189465 </td><td>positive</td></tr>\n",
       "<tr><td style=\"text-align: right;\">-0.116857 </td><td style=\"text-align: right;\">-0.175938 </td><td style=\"text-align: right;\">-0.0217791</td><td style=\"text-align: right;\">-0.107424  </td><td style=\"text-align: right;\">-0.0246777</td><td style=\"text-align: right;\"> 0.080834 </td><td style=\"text-align: right;\">0.016704 </td><td style=\"text-align: right;\">-0.038985  </td><td style=\"text-align: right;\"> 0.100121 </td><td style=\"text-align: right;\">-0.0664955</td><td style=\"text-align: right;\">0.182505</td><td style=\"text-align: right;\"> 0.0521783 </td><td style=\"text-align: right;\">0.193063 </td><td style=\"text-align: right;\">-0.00682304</td><td style=\"text-align: right;\"> 0.0130215</td><td style=\"text-align: right;\">-0.0115674</td><td style=\"text-align: right;\"> 0.0203457 </td><td style=\"text-align: right;\">0.179497  </td><td style=\"text-align: right;\">0.118615</td><td style=\"text-align: right;\"> 0.086758  </td><td style=\"text-align: right;\">-0.0382497</td><td style=\"text-align: right;\"> 0.0494959</td><td style=\"text-align: right;\">-0.0975104 </td><td style=\"text-align: right;\">-0.0831707</td><td style=\"text-align: right;\">0.188206 </td><td style=\"text-align: right;\">-0.0415862</td><td style=\"text-align: right;\">-0.0386754</td><td style=\"text-align: right;\"> 0.0832397</td><td style=\"text-align: right;\">-0.212208 </td><td style=\"text-align: right;\"> 0.0889459</td><td style=\"text-align: right;\">-0.0961323</td><td style=\"text-align: right;\">-0.106799</td><td style=\"text-align: right;\">-0.0432385</td><td style=\"text-align: right;\"> 0.0743574 </td><td style=\"text-align: right;\"> 0.189078 </td><td style=\"text-align: right;\"> 0.0331322</td><td style=\"text-align: right;\">-0.141422 </td><td style=\"text-align: right;\">0.0689001</td><td style=\"text-align: right;\">-0.0173589</td><td style=\"text-align: right;\">-0.170661 </td><td style=\"text-align: right;\">-0.0263197 </td><td style=\"text-align: right;\">-0.192177</td><td style=\"text-align: right;\"> 0.0925974</td><td style=\"text-align: right;\"> 0.144326 </td><td style=\"text-align: right;\">0.0299602</td><td style=\"text-align: right;\">0.305129 </td><td style=\"text-align: right;\">-0.0917149</td><td style=\"text-align: right;\">0.220735 </td><td style=\"text-align: right;\">0.0296063 </td><td style=\"text-align: right;\">0.0834692</td><td style=\"text-align: right;\">-0.0272097 </td><td style=\"text-align: right;\"> 0.0599483 </td><td style=\"text-align: right;\">-0.11051    </td><td style=\"text-align: right;\">0.0111282</td><td style=\"text-align: right;\">-0.102759  </td><td style=\"text-align: right;\"> 0.0863649</td><td style=\"text-align: right;\">-0.0382939</td><td style=\"text-align: right;\">-0.0319427</td><td style=\"text-align: right;\">-0.0063921</td><td style=\"text-align: right;\"> 0.09897   </td><td style=\"text-align: right;\"> 0.0719474 </td><td style=\"text-align: right;\">0.0755308</td><td style=\"text-align: right;\">-0.159237  </td><td style=\"text-align: right;\"> 0.248362  </td><td style=\"text-align: right;\">0.183083  </td><td style=\"text-align: right;\">-0.0287423 </td><td style=\"text-align: right;\">-0.128303 </td><td style=\"text-align: right;\">0.113001 </td><td style=\"text-align: right;\">-0.0447961</td><td style=\"text-align: right;\"> 0.102846  </td><td style=\"text-align: right;\">0.122104 </td><td style=\"text-align: right;\">-0.0592526</td><td style=\"text-align: right;\"> 0.0771601 </td><td style=\"text-align: right;\">0.0587099</td><td style=\"text-align: right;\">-0.0818285</td><td style=\"text-align: right;\"> 0.0187138  </td><td style=\"text-align: right;\">0.0467672</td><td style=\"text-align: right;\">-0.179872 </td><td style=\"text-align: right;\">-0.0599967</td><td style=\"text-align: right;\">-0.0811749</td><td style=\"text-align: right;\">0.162581  </td><td style=\"text-align: right;\"> 0.023635 </td><td style=\"text-align: right;\"> 0.0807669 </td><td style=\"text-align: right;\">-0.0493626</td><td style=\"text-align: right;\">-0.0614078</td><td style=\"text-align: right;\">-0.152375 </td><td style=\"text-align: right;\"> 0.195187 </td><td style=\"text-align: right;\"> 0.0244012</td><td style=\"text-align: right;\"> 0.0888725</td><td style=\"text-align: right;\">-0.0880928</td><td style=\"text-align: right;\">-0.00871245</td><td style=\"text-align: right;\">-0.0292957</td><td style=\"text-align: right;\">-0.331218</td><td style=\"text-align: right;\">0.101054</td><td style=\"text-align: right;\">0.0696838</td><td style=\"text-align: right;\">-0.0134588</td><td style=\"text-align: right;\">-0.0419256  </td><td style=\"text-align: right;\"> 0.0256919 </td><td style=\"text-align: right;\">0.00381915</td><td style=\"text-align: right;\">0.0285296</td><td>positive</td></tr>\n",
       "<tr><td style=\"text-align: right;\">-0.0447095</td><td style=\"text-align: right;\">-0.089861 </td><td style=\"text-align: right;\"> 0.0846873</td><td style=\"text-align: right;\">-0.0671369 </td><td style=\"text-align: right;\">-0.0530149</td><td style=\"text-align: right;\"> 0.0123574</td><td style=\"text-align: right;\">0.0505329</td><td style=\"text-align: right;\">-0.00429256</td><td style=\"text-align: right;\">-0.0647947</td><td style=\"text-align: right;\"> 0.0247184</td><td style=\"text-align: right;\">0.162776</td><td style=\"text-align: right;\">-0.00797652</td><td style=\"text-align: right;\">0.0678325</td><td style=\"text-align: right;\">-0.0676666 </td><td style=\"text-align: right;\">-0.0122785</td><td style=\"text-align: right;\"> 0.0351833</td><td style=\"text-align: right;\">-0.0309391 </td><td style=\"text-align: right;\">0.15475   </td><td style=\"text-align: right;\">0.11792 </td><td style=\"text-align: right;\">-0.0322082 </td><td style=\"text-align: right;\">-0.0571661</td><td style=\"text-align: right;\"> 0.0371076</td><td style=\"text-align: right;\">-0.120914  </td><td style=\"text-align: right;\">-0.0564893</td><td style=\"text-align: right;\">0.164983 </td><td style=\"text-align: right;\">-0.0880566</td><td style=\"text-align: right;\"> 0.0453494</td><td style=\"text-align: right;\"> 0.0220761</td><td style=\"text-align: right;\">-0.0994264</td><td style=\"text-align: right;\"> 0.103477 </td><td style=\"text-align: right;\">-0.0284554</td><td style=\"text-align: right;\">-0.105584</td><td style=\"text-align: right;\">-0.128956 </td><td style=\"text-align: right;\"> 0.00412661</td><td style=\"text-align: right;\">-0.0364055</td><td style=\"text-align: right;\">-0.0025346</td><td style=\"text-align: right;\">-0.0683706</td><td style=\"text-align: right;\">0.119997 </td><td style=\"text-align: right;\">-0.0127588</td><td style=\"text-align: right;\">-0.0457434</td><td style=\"text-align: right;\">-0.0259813 </td><td style=\"text-align: right;\">-0.136582</td><td style=\"text-align: right;\">-0.0853951</td><td style=\"text-align: right;\"> 0.0806476</td><td style=\"text-align: right;\">0.0645884</td><td style=\"text-align: right;\">0.117814 </td><td style=\"text-align: right;\">-0.0803176</td><td style=\"text-align: right;\">0.0742157</td><td style=\"text-align: right;\">0.0209467 </td><td style=\"text-align: right;\">0.13954  </td><td style=\"text-align: right;\">-0.00868126</td><td style=\"text-align: right;\"> 0.00378794</td><td style=\"text-align: right;\">-0.00646825 </td><td style=\"text-align: right;\">0.0632147</td><td style=\"text-align: right;\">-0.0229065 </td><td style=\"text-align: right;\"> 0.0399529</td><td style=\"text-align: right;\"> 0.061734 </td><td style=\"text-align: right;\">-0.0182689</td><td style=\"text-align: right;\"> 0.0545446</td><td style=\"text-align: right;\">-0.00761769</td><td style=\"text-align: right;\">-0.0620736 </td><td style=\"text-align: right;\">0.149304 </td><td style=\"text-align: right;\">-0.00892214</td><td style=\"text-align: right;\">-0.00582368</td><td style=\"text-align: right;\">0.00915704</td><td style=\"text-align: right;\"> 0.00648101</td><td style=\"text-align: right;\">-0.0570286</td><td style=\"text-align: right;\">0.127869 </td><td style=\"text-align: right;\">-0.143423 </td><td style=\"text-align: right;\">-0.0200862 </td><td style=\"text-align: right;\">0.11646  </td><td style=\"text-align: right;\">-0.108078 </td><td style=\"text-align: right;\"> 0.112189  </td><td style=\"text-align: right;\">0.142629 </td><td style=\"text-align: right;\">-0.0658562</td><td style=\"text-align: right;\">-0.0232083  </td><td style=\"text-align: right;\">0.0607203</td><td style=\"text-align: right;\">-0.0964652</td><td style=\"text-align: right;\">-0.0288932</td><td style=\"text-align: right;\"> 0.0111387</td><td style=\"text-align: right;\">0.113943  </td><td style=\"text-align: right;\"> 0.0770542</td><td style=\"text-align: right;\">-0.00282992</td><td style=\"text-align: right;\">-0.023201 </td><td style=\"text-align: right;\">-0.169986 </td><td style=\"text-align: right;\">-0.0801803</td><td style=\"text-align: right;\"> 0.0155951</td><td style=\"text-align: right;\">-0.0150505</td><td style=\"text-align: right;\"> 0.0338897</td><td style=\"text-align: right;\">-0.261919 </td><td style=\"text-align: right;\"> 0.0838546 </td><td style=\"text-align: right;\">-0.0245813</td><td style=\"text-align: right;\">-0.149399</td><td style=\"text-align: right;\">0.211501</td><td style=\"text-align: right;\">0.144119 </td><td style=\"text-align: right;\">-0.0947624</td><td style=\"text-align: right;\">-0.00918434 </td><td style=\"text-align: right;\">-0.0270127 </td><td style=\"text-align: right;\">0.0450569 </td><td style=\"text-align: right;\">0.104252 </td><td>positive</td></tr>\n",
       "<tr><td style=\"text-align: right;\">-0.0623591</td><td style=\"text-align: right;\">-0.181892 </td><td style=\"text-align: right;\"> 0.045564 </td><td style=\"text-align: right;\">-0.00275936</td><td style=\"text-align: right;\">-0.107872 </td><td style=\"text-align: right;\"> 0.0407679</td><td style=\"text-align: right;\">0.109687 </td><td style=\"text-align: right;\"> 0.0606924 </td><td style=\"text-align: right;\">-0.0618132</td><td style=\"text-align: right;\"> 0.0213366</td><td style=\"text-align: right;\">0.12917 </td><td style=\"text-align: right;\"> 0.0185235 </td><td style=\"text-align: right;\">0.102043 </td><td style=\"text-align: right;\">-0.00112805</td><td style=\"text-align: right;\">-0.0353344</td><td style=\"text-align: right;\">-0.0193064</td><td style=\"text-align: right;\">-0.00891635</td><td style=\"text-align: right;\">0.00677017</td><td style=\"text-align: right;\">0.173543</td><td style=\"text-align: right;\"> 0.0203019 </td><td style=\"text-align: right;\">-0.0566748</td><td style=\"text-align: right;\"> 0.0159742</td><td style=\"text-align: right;\">-0.133832  </td><td style=\"text-align: right;\">-0.0523132</td><td style=\"text-align: right;\">0.049097 </td><td style=\"text-align: right;\">-0.101234 </td><td style=\"text-align: right;\"> 0.0810843</td><td style=\"text-align: right;\"> 0.0163788</td><td style=\"text-align: right;\">-0.191182 </td><td style=\"text-align: right;\">-0.0172574</td><td style=\"text-align: right;\">-0.101619 </td><td style=\"text-align: right;\">-0.143912</td><td style=\"text-align: right;\"> 0.0237711</td><td style=\"text-align: right;\"> 0.00394092</td><td style=\"text-align: right;\">-0.139448 </td><td style=\"text-align: right;\">-0.0353488</td><td style=\"text-align: right;\">-0.0952156</td><td style=\"text-align: right;\">0.125041 </td><td style=\"text-align: right;\">-0.0722101</td><td style=\"text-align: right;\">-0.024517 </td><td style=\"text-align: right;\"> 0.00493623</td><td style=\"text-align: right;\">-0.196915</td><td style=\"text-align: right;\">-0.178299 </td><td style=\"text-align: right;\">-0.0626713</td><td style=\"text-align: right;\">0.0489228</td><td style=\"text-align: right;\">0.0532148</td><td style=\"text-align: right;\"> 0.0149418</td><td style=\"text-align: right;\">0.0494924</td><td style=\"text-align: right;\">0.115791  </td><td style=\"text-align: right;\">0.017074 </td><td style=\"text-align: right;\"> 0.035857  </td><td style=\"text-align: right;\">-0.015754  </td><td style=\"text-align: right;\"> 0.00591633 </td><td style=\"text-align: right;\">0.0397056</td><td style=\"text-align: right;\"> 0.00746061</td><td style=\"text-align: right;\">-0.0676347</td><td style=\"text-align: right;\"> 0.032651 </td><td style=\"text-align: right;\">-0.0489934</td><td style=\"text-align: right;\"> 0.143426 </td><td style=\"text-align: right;\">-0.0929222 </td><td style=\"text-align: right;\">-0.00998777</td><td style=\"text-align: right;\">0.0976105</td><td style=\"text-align: right;\"> 0.0218891 </td><td style=\"text-align: right;\">-0.0419359 </td><td style=\"text-align: right;\">0.0372312 </td><td style=\"text-align: right;\">-0.061273  </td><td style=\"text-align: right;\">-0.0195494</td><td style=\"text-align: right;\">0.0237013</td><td style=\"text-align: right;\">-0.0843763</td><td style=\"text-align: right;\"> 0.0224937 </td><td style=\"text-align: right;\">0.147751 </td><td style=\"text-align: right;\">-0.0382558</td><td style=\"text-align: right;\"> 0.041084  </td><td style=\"text-align: right;\">0.0469709</td><td style=\"text-align: right;\">-0.163964 </td><td style=\"text-align: right;\"> 0.000774332</td><td style=\"text-align: right;\">0.128985 </td><td style=\"text-align: right;\">-0.0599883</td><td style=\"text-align: right;\"> 0.0306305</td><td style=\"text-align: right;\">-0.0202529</td><td style=\"text-align: right;\">0.0502979 </td><td style=\"text-align: right;\">-0.0259008</td><td style=\"text-align: right;\">-0.025198  </td><td style=\"text-align: right;\"> 0.0341868</td><td style=\"text-align: right;\">-0.0867389</td><td style=\"text-align: right;\">-0.0760519</td><td style=\"text-align: right;\"> 0.0749584</td><td style=\"text-align: right;\"> 0.105437 </td><td style=\"text-align: right;\"> 0.0193462</td><td style=\"text-align: right;\">-0.120824 </td><td style=\"text-align: right;\"> 0.0508759 </td><td style=\"text-align: right;\"> 0.0224377</td><td style=\"text-align: right;\">-0.16908 </td><td style=\"text-align: right;\">0.202839</td><td style=\"text-align: right;\">0.217018 </td><td style=\"text-align: right;\">-0.0453873</td><td style=\"text-align: right;\">-0.000347263</td><td style=\"text-align: right;\"> 0.0089293 </td><td style=\"text-align: right;\">0.0240194 </td><td style=\"text-align: right;\">0.0748614</td><td>positive</td></tr>\n",
       "<tr><td style=\"text-align: right;\"> 0.0111175</td><td style=\"text-align: right;\">-0.0292504</td><td style=\"text-align: right;\"> 0.0763985</td><td style=\"text-align: right;\">-0.0522044 </td><td style=\"text-align: right;\">-0.0568343</td><td style=\"text-align: right;\">-0.0967508</td><td style=\"text-align: right;\">0.0440115</td><td style=\"text-align: right;\"> 0.00648722</td><td style=\"text-align: right;\">-0.111166 </td><td style=\"text-align: right;\"> 0.107836 </td><td style=\"text-align: right;\">0.08899 </td><td style=\"text-align: right;\"> 0.0784775 </td><td style=\"text-align: right;\">0.137716 </td><td style=\"text-align: right;\">-0.0936862 </td><td style=\"text-align: right;\">-0.0384598</td><td style=\"text-align: right;\">-0.03027  </td><td style=\"text-align: right;\">-0.0694983 </td><td style=\"text-align: right;\">0.194797  </td><td style=\"text-align: right;\">0.151223</td><td style=\"text-align: right;\"> 0.00522266</td><td style=\"text-align: right;\">-0.0336312</td><td style=\"text-align: right;\"> 0.0996066</td><td style=\"text-align: right;\">-0.00596401</td><td style=\"text-align: right;\"> 0.0343482</td><td style=\"text-align: right;\">0.0131564</td><td style=\"text-align: right;\">-0.0745617</td><td style=\"text-align: right;\"> 0.10345  </td><td style=\"text-align: right;\"> 0.05051  </td><td style=\"text-align: right;\">-0.190037 </td><td style=\"text-align: right;\"> 0.130047 </td><td style=\"text-align: right;\">-0.0341249</td><td style=\"text-align: right;\">-0.134404</td><td style=\"text-align: right;\">-0.096925 </td><td style=\"text-align: right;\">-0.00059338</td><td style=\"text-align: right;\">-0.0290621</td><td style=\"text-align: right;\"> 0.0375229</td><td style=\"text-align: right;\">-0.167591 </td><td style=\"text-align: right;\">0.102924 </td><td style=\"text-align: right;\"> 0.03275  </td><td style=\"text-align: right;\">-0.0636104</td><td style=\"text-align: right;\">-0.0326263 </td><td style=\"text-align: right;\">-0.136875</td><td style=\"text-align: right;\">-0.105765 </td><td style=\"text-align: right;\"> 0.0528147</td><td style=\"text-align: right;\">0.14939  </td><td style=\"text-align: right;\">0.104545 </td><td style=\"text-align: right;\">-0.0484943</td><td style=\"text-align: right;\">0.0533909</td><td style=\"text-align: right;\">0.00656767</td><td style=\"text-align: right;\">0.0364315</td><td style=\"text-align: right;\">-0.0229974 </td><td style=\"text-align: right;\"> 0.0116202 </td><td style=\"text-align: right;\">-0.0397688  </td><td style=\"text-align: right;\">0.0809869</td><td style=\"text-align: right;\">-0.0931901 </td><td style=\"text-align: right;\">-0.0276643</td><td style=\"text-align: right;\"> 0.0385246</td><td style=\"text-align: right;\">-0.0432606</td><td style=\"text-align: right;\"> 0.10791  </td><td style=\"text-align: right;\"> 0.00470805</td><td style=\"text-align: right;\">-0.180241  </td><td style=\"text-align: right;\">0.0319897</td><td style=\"text-align: right;\">-0.0738601 </td><td style=\"text-align: right;\">-0.0329152 </td><td style=\"text-align: right;\">0.0388621 </td><td style=\"text-align: right;\"> 0.00964508</td><td style=\"text-align: right;\">-0.0127809</td><td style=\"text-align: right;\">0.116026 </td><td style=\"text-align: right;\">-0.170105 </td><td style=\"text-align: right;\">-0.00677488</td><td style=\"text-align: right;\">0.131978 </td><td style=\"text-align: right;\">-0.0657172</td><td style=\"text-align: right;\"> 0.0664292 </td><td style=\"text-align: right;\">0.0124396</td><td style=\"text-align: right;\">-0.0492206</td><td style=\"text-align: right;\">-0.0661244  </td><td style=\"text-align: right;\">0.0164402</td><td style=\"text-align: right;\">-0.0595293</td><td style=\"text-align: right;\">-0.0168704</td><td style=\"text-align: right;\"> 0.10501  </td><td style=\"text-align: right;\">0.200404  </td><td style=\"text-align: right;\"> 0.169517 </td><td style=\"text-align: right;\"> 0.012864  </td><td style=\"text-align: right;\">-0.0266107</td><td style=\"text-align: right;\">-0.211533 </td><td style=\"text-align: right;\">-0.113811 </td><td style=\"text-align: right;\"> 0.0273828</td><td style=\"text-align: right;\"> 0.0542401</td><td style=\"text-align: right;\"> 0.0406339</td><td style=\"text-align: right;\">-0.219842 </td><td style=\"text-align: right;\">-0.0160706 </td><td style=\"text-align: right;\"> 0.039469 </td><td style=\"text-align: right;\">-0.155106</td><td style=\"text-align: right;\">0.226053</td><td style=\"text-align: right;\">0.0735237</td><td style=\"text-align: right;\">-0.119667 </td><td style=\"text-align: right;\">-0.0665904  </td><td style=\"text-align: right;\">-0.00944781</td><td style=\"text-align: right;\">0.0356459 </td><td style=\"text-align: right;\">0.163093 </td><td>positive</td></tr>\n",
       "</tbody>\n",
       "</table>"
      ]
     },
     "metadata": {},
     "output_type": "display_data"
    },
    {
     "data": {
      "text/plain": []
     },
     "execution_count": 52,
     "metadata": {},
     "output_type": "execute_result"
    }
   ],
   "source": [
    "Dtest.head(5)"
   ]
  },
  {
   "cell_type": "code",
   "execution_count": 1,
   "metadata": {},
   "outputs": [
    {
     "name": "stdout",
     "output_type": "stream",
     "text": [
      "+---------------+--------------------+--------------------+--------------------+--------------------+\n",
      "| Vectorization |      Accuracy      |     Precision      |       Recall       |         F1         |\n",
      "+---------------+--------------------+--------------------+--------------------+--------------------+\n",
      "|    Avg. W2v   |  0.88492804569922  | 0.9978506179473401 |        1.0         | 0.9320202582549146 |\n",
      "|      BOW      | 0.8963253872349775 | 0.9077152225405725 | 0.9733473824312333 | 0.9393863165613174 |\n",
      "|     TFIDF     | 0.899932256765169  | 0.9132666367610086 | 0.9709738243123336 | 0.9412365536483224 |\n",
      "|   w2v-TFIDF   | 0.8726518730088981 | 0.883704076497232  | 0.973855556664781  | 0.9265921911526467 |\n",
      "+---------------+--------------------+--------------------+--------------------+--------------------+\n"
     ]
    }
   ],
   "source": [
    "from prettytable import PrettyTable\n",
    "\n",
    "mp = clf.model_performance(Dtest, train=False, valid=False)\n",
    "\n",
    "f1 = mp.F1()[0][1]\n",
    "\n",
    "ac = mp.accuracy()[0][1]\n",
    "\n",
    "pre = mp.precision()[0][1]\n",
    "re = mp.recall(thresholds=[mp.find_threshold_by_max_metric(metric='recall')])[0][1]\n",
    "\n",
    "x = PrettyTable()\n",
    "\n",
    "x.field_names = ['Vectorization', 'Accuracy', 'Precision', 'Recall', 'F1']\n",
    "x.add_row(['Avg. W2v', ac, pre, re, f1])\n",
    "x.add_row(['BOW', 0.8963253872349775, 0.9077152225405725, 0.9733473824312333, 0.9393863165613174])\n",
    "x.add_row(['TFIDF', 0.899932256765169, 0.9132666367610086, 0.9709738243123336, 0.9412365536483224])\n",
    "x.add_row(['w2v-TFIDF', 0.8726518730088981, 0.883704076497232, 0.973855556664781, 0.9265921911526467])\n",
    "print(x)"
   ]
  },
  {
   "cell_type": "code",
   "execution_count": 85,
   "metadata": {},
   "outputs": [
    {
     "name": "stdout",
     "output_type": "stream",
     "text": [
      "Confusion Matrix (Act/Pred) for max f1 @ threshold = 0.5809080450790592: \n"
     ]
    },
    {
     "data": {
      "text/html": [
       "<div style=\"overflow:auto\"><table style=\"width:50%\"><tr><td><b></b></td>\n",
       "<td><b>negative</b></td>\n",
       "<td><b>positive</b></td>\n",
       "<td><b>Error</b></td>\n",
       "<td><b>Rate</b></td></tr>\n",
       "<tr><td>negative</td>\n",
       "<td>10442.0</td>\n",
       "<td>8634.0</td>\n",
       "<td>0.4526</td>\n",
       "<td> (8634.0/19076.0)</td></tr>\n",
       "<tr><td>positive</td>\n",
       "<td>3943.0</td>\n",
       "<td>86217.0</td>\n",
       "<td>0.0437</td>\n",
       "<td> (3943.0/90160.0)</td></tr>\n",
       "<tr><td>Total</td>\n",
       "<td>14385.0</td>\n",
       "<td>94851.0</td>\n",
       "<td>0.1151</td>\n",
       "<td> (12577.0/109236.0)</td></tr></table></div>"
      ],
      "text/plain": [
       "          negative    positive    Error    Rate\n",
       "--------  ----------  ----------  -------  ------------------\n",
       "negative  10442       8634        0.4526   (8634.0/19076.0)\n",
       "positive  3943        86217       0.0437   (3943.0/90160.0)\n",
       "Total     14385       94851       0.1151   (12577.0/109236.0)"
      ]
     },
     "metadata": {},
     "output_type": "display_data"
    },
    {
     "data": {
      "text/plain": []
     },
     "execution_count": 85,
     "metadata": {},
     "output_type": "execute_result"
    }
   ],
   "source": [
    "mp.confusion_matrix()"
   ]
  },
  {
   "cell_type": "code",
   "execution_count": 86,
   "metadata": {},
   "outputs": [
    {
     "name": "stdout",
     "output_type": "stream",
     "text": [
      "H2O session _sid_99ef closed.\n"
     ]
    }
   ],
   "source": [
    "h2o.cluster().shutdown()"
   ]
  }
 ],
 "metadata": {
  "kernelspec": {
   "display_name": "Python 3",
   "language": "python",
   "name": "python3"
  },
  "language_info": {
   "codemirror_mode": {
    "name": "ipython",
    "version": 3
   },
   "file_extension": ".py",
   "mimetype": "text/x-python",
   "name": "python",
   "nbconvert_exporter": "python",
   "pygments_lexer": "ipython3",
   "version": "3.6.6"
  }
 },
 "nbformat": 4,
 "nbformat_minor": 2
}
