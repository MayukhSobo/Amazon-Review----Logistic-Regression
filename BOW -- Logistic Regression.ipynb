{
 "cells": [
  {
   "cell_type": "code",
   "execution_count": 1,
   "metadata": {},
   "outputs": [],
   "source": [
    "import numpy as np\n",
    "import pandas as pd\n",
    "import sqlite3"
   ]
  },
  {
   "cell_type": "code",
   "execution_count": 2,
   "metadata": {},
   "outputs": [
    {
     "name": "stdout",
     "output_type": "stream",
     "text": [
      "reviewsV1.db  reviewsV1db  reviewsV2.db  reviewsV3.db\r\n"
     ]
    }
   ],
   "source": [
    "!ls ../Databases"
   ]
  },
  {
   "cell_type": "markdown",
   "metadata": {},
   "source": [
    "## 1. Loading the dataset"
   ]
  },
  {
   "cell_type": "code",
   "execution_count": 3,
   "metadata": {},
   "outputs": [],
   "source": [
    "with sqlite3.connect('../Databases/reviewsV1.db') as conn:\n",
    "    data = pd.read_sql_query('SELECT * FROM Review', conn)"
   ]
  },
  {
   "cell_type": "code",
   "execution_count": 5,
   "metadata": {},
   "outputs": [
    {
     "data": {
      "text/html": [
       "<div>\n",
       "<style scoped>\n",
       "    .dataframe tbody tr th:only-of-type {\n",
       "        vertical-align: middle;\n",
       "    }\n",
       "\n",
       "    .dataframe tbody tr th {\n",
       "        vertical-align: top;\n",
       "    }\n",
       "\n",
       "    .dataframe thead th {\n",
       "        text-align: right;\n",
       "    }\n",
       "</style>\n",
       "<table border=\"1\" class=\"dataframe\">\n",
       "  <thead>\n",
       "    <tr style=\"text-align: right;\">\n",
       "      <th></th>\n",
       "      <th>index</th>\n",
       "      <th>Id</th>\n",
       "      <th>ProductId</th>\n",
       "      <th>UserId</th>\n",
       "      <th>ProfileName</th>\n",
       "      <th>HelpfulnessNumerator</th>\n",
       "      <th>HelpfulnessDenominator</th>\n",
       "      <th>Time</th>\n",
       "      <th>Summary</th>\n",
       "      <th>Text</th>\n",
       "      <th>Polarity</th>\n",
       "    </tr>\n",
       "  </thead>\n",
       "  <tbody>\n",
       "    <tr>\n",
       "      <th>0</th>\n",
       "      <td>0</td>\n",
       "      <td>1</td>\n",
       "      <td>B001E4KFG0</td>\n",
       "      <td>A3SGXH7AUHU8GW</td>\n",
       "      <td>delmartian</td>\n",
       "      <td>1</td>\n",
       "      <td>1</td>\n",
       "      <td>1303862400</td>\n",
       "      <td>Good Quality Dog Food</td>\n",
       "      <td>good stew smells bought looks vitality appreci...</td>\n",
       "      <td>positive</td>\n",
       "    </tr>\n",
       "    <tr>\n",
       "      <th>1</th>\n",
       "      <td>1</td>\n",
       "      <td>2</td>\n",
       "      <td>B00813GRG4</td>\n",
       "      <td>A1D87F6ZCVE5NK</td>\n",
       "      <td>dll pa</td>\n",
       "      <td>0</td>\n",
       "      <td>0</td>\n",
       "      <td>1346976000</td>\n",
       "      <td>Not as Advertised</td>\n",
       "      <td>small product peanuts arrived labeled jumbo si...</td>\n",
       "      <td>negative</td>\n",
       "    </tr>\n",
       "    <tr>\n",
       "      <th>2</th>\n",
       "      <td>2</td>\n",
       "      <td>3</td>\n",
       "      <td>B000LQOCH0</td>\n",
       "      <td>ABXLMWJIXXAIN</td>\n",
       "      <td>Natalia Corres \"Natalia Corres\"</td>\n",
       "      <td>1</td>\n",
       "      <td>1</td>\n",
       "      <td>1219017600</td>\n",
       "      <td>\"Delight\" says it all</td>\n",
       "      <td>treat liberally citrus brother nuts highly cas...</td>\n",
       "      <td>positive</td>\n",
       "    </tr>\n",
       "    <tr>\n",
       "      <th>3</th>\n",
       "      <td>3</td>\n",
       "      <td>4</td>\n",
       "      <td>B000UA0QIQ</td>\n",
       "      <td>A395BORC6FGVXV</td>\n",
       "      <td>Karl</td>\n",
       "      <td>3</td>\n",
       "      <td>3</td>\n",
       "      <td>1307923200</td>\n",
       "      <td>Cough Medicine</td>\n",
       "      <td>secret ingredient flavor root cherry looking o...</td>\n",
       "      <td>negative</td>\n",
       "    </tr>\n",
       "    <tr>\n",
       "      <th>4</th>\n",
       "      <td>4</td>\n",
       "      <td>5</td>\n",
       "      <td>B006K2ZZ7K</td>\n",
       "      <td>A1UQRSCLF8GW1T</td>\n",
       "      <td>Michael D. Bigham \"M. Wassir\"</td>\n",
       "      <td>0</td>\n",
       "      <td>0</td>\n",
       "      <td>1350777600</td>\n",
       "      <td>Great taffy</td>\n",
       "      <td>taffy wide delivery assortment great yummy</td>\n",
       "      <td>positive</td>\n",
       "    </tr>\n",
       "  </tbody>\n",
       "</table>\n",
       "</div>"
      ],
      "text/plain": [
       "   index  Id   ProductId          UserId                      ProfileName  \\\n",
       "0      0   1  B001E4KFG0  A3SGXH7AUHU8GW                       delmartian   \n",
       "1      1   2  B00813GRG4  A1D87F6ZCVE5NK                           dll pa   \n",
       "2      2   3  B000LQOCH0   ABXLMWJIXXAIN  Natalia Corres \"Natalia Corres\"   \n",
       "3      3   4  B000UA0QIQ  A395BORC6FGVXV                             Karl   \n",
       "4      4   5  B006K2ZZ7K  A1UQRSCLF8GW1T    Michael D. Bigham \"M. Wassir\"   \n",
       "\n",
       "   HelpfulnessNumerator  HelpfulnessDenominator        Time  \\\n",
       "0                     1                       1  1303862400   \n",
       "1                     0                       0  1346976000   \n",
       "2                     1                       1  1219017600   \n",
       "3                     3                       3  1307923200   \n",
       "4                     0                       0  1350777600   \n",
       "\n",
       "                 Summary                                               Text  \\\n",
       "0  Good Quality Dog Food  good stew smells bought looks vitality appreci...   \n",
       "1      Not as Advertised  small product peanuts arrived labeled jumbo si...   \n",
       "2  \"Delight\" says it all  treat liberally citrus brother nuts highly cas...   \n",
       "3         Cough Medicine  secret ingredient flavor root cherry looking o...   \n",
       "4            Great taffy         taffy wide delivery assortment great yummy   \n",
       "\n",
       "   Polarity  \n",
       "0  positive  \n",
       "1  negative  \n",
       "2  positive  \n",
       "3  negative  \n",
       "4  positive  "
      ]
     },
     "execution_count": 5,
     "metadata": {},
     "output_type": "execute_result"
    }
   ],
   "source": [
    "data.head()"
   ]
  },
  {
   "cell_type": "code",
   "execution_count": 6,
   "metadata": {},
   "outputs": [],
   "source": [
    "data.sort_values(by='Time', inplace=True)\n",
    "data.reset_index(drop=True, inplace=True)\n",
    "TRAIN_SIZE = int(data.shape[0] * 0.7)\n",
    "TEST_SIZE = data.shape[0] - TRAIN_SIZE"
   ]
  },
  {
   "cell_type": "code",
   "execution_count": 7,
   "metadata": {},
   "outputs": [
    {
     "data": {
      "text/plain": [
       "254883"
      ]
     },
     "execution_count": 7,
     "metadata": {},
     "output_type": "execute_result"
    }
   ],
   "source": [
    "TRAIN_SIZE"
   ]
  },
  {
   "cell_type": "code",
   "execution_count": 8,
   "metadata": {},
   "outputs": [
    {
     "data": {
      "text/plain": [
       "109236"
      ]
     },
     "execution_count": 8,
     "metadata": {},
     "output_type": "execute_result"
    }
   ],
   "source": [
    "TEST_SIZE"
   ]
  },
  {
   "cell_type": "code",
   "execution_count": 9,
   "metadata": {},
   "outputs": [],
   "source": [
    "data_train = data[0: TRAIN_SIZE]\n",
    "data_test = data[TRAIN_SIZE:]"
   ]
  },
  {
   "cell_type": "code",
   "execution_count": 10,
   "metadata": {},
   "outputs": [],
   "source": [
    "assert(data_train.shape[0] == TRAIN_SIZE)\n",
    "assert(data_test.shape[0] == TEST_SIZE)\n",
    "assert(data.Time.max() == data_test.Time.reset_index(drop=True)[TEST_SIZE -1])\n",
    "assert(data.Time.min() == data_train.Time.reset_index(drop=True)[0])"
   ]
  },
  {
   "cell_type": "markdown",
   "metadata": {},
   "source": [
    "## 2. Featurization"
   ]
  },
  {
   "cell_type": "code",
   "execution_count": 11,
   "metadata": {},
   "outputs": [],
   "source": [
    "from sklearn.feature_extraction.text import CountVectorizer"
   ]
  },
  {
   "cell_type": "code",
   "execution_count": 12,
   "metadata": {},
   "outputs": [
    {
     "data": {
      "text/plain": [
       "CountVectorizer(analyzer='word', binary=False, decode_error='strict',\n",
       "        dtype=<class 'numpy.int64'>, encoding='utf-8', input='content',\n",
       "        lowercase=True, max_df=1.0, max_features=3000, min_df=1,\n",
       "        ngram_range=(1, 1), preprocessor=None, stop_words=None,\n",
       "        strip_accents=None, token_pattern='(?u)\\\\b\\\\w\\\\w+\\\\b',\n",
       "        tokenizer=None, vocabulary=None)"
      ]
     },
     "execution_count": 12,
     "metadata": {},
     "output_type": "execute_result"
    }
   ],
   "source": [
    "cunt = CountVectorizer(max_features=3000)\n",
    "cunt.fit(data_train.Text)"
   ]
  },
  {
   "cell_type": "code",
   "execution_count": 13,
   "metadata": {},
   "outputs": [
    {
     "data": {
      "text/plain": [
       "(254883, 3000)"
      ]
     },
     "execution_count": 13,
     "metadata": {},
     "output_type": "execute_result"
    }
   ],
   "source": [
    "Dtrain = cunt.transform(data_train.Text)\n",
    "Dtrain.get_shape()"
   ]
  },
  {
   "cell_type": "code",
   "execution_count": 14,
   "metadata": {},
   "outputs": [
    {
     "data": {
      "text/plain": [
       "(109236, 3000)"
      ]
     },
     "execution_count": 14,
     "metadata": {},
     "output_type": "execute_result"
    }
   ],
   "source": [
    "Dtest = cunt.transform(data_test.Text)\n",
    "Dtest.get_shape()"
   ]
  },
  {
   "cell_type": "markdown",
   "metadata": {},
   "source": [
    "## 3. Scaling the data"
   ]
  },
  {
   "cell_type": "code",
   "execution_count": 15,
   "metadata": {},
   "outputs": [],
   "source": [
    "from sklearn.preprocessing import StandardScaler"
   ]
  },
  {
   "cell_type": "code",
   "execution_count": 16,
   "metadata": {},
   "outputs": [],
   "source": [
    "Dtrain = Dtrain.toarray() # Almost 11 GB of RAM"
   ]
  },
  {
   "cell_type": "code",
   "execution_count": 17,
   "metadata": {},
   "outputs": [],
   "source": [
    "sclr = StandardScaler(copy=True)"
   ]
  },
  {
   "cell_type": "code",
   "execution_count": 18,
   "metadata": {},
   "outputs": [
    {
     "name": "stderr",
     "output_type": "stream",
     "text": [
      "/home/paperspace/anaconda3/lib/python3.6/site-packages/sklearn/utils/validation.py:475: DataConversionWarning: Data with input dtype int64 was converted to float64 by StandardScaler.\n",
      "  warnings.warn(msg, DataConversionWarning)\n"
     ]
    }
   ],
   "source": [
    "Dtrain_scaled = sclr.fit_transform(Dtrain)  # CAUTION: 2x RAM Usage, copy = False seems broken"
   ]
  },
  {
   "cell_type": "code",
   "execution_count": 19,
   "metadata": {},
   "outputs": [],
   "source": [
    "del Dtrain ## Free up some RAM"
   ]
  },
  {
   "cell_type": "code",
   "execution_count": 20,
   "metadata": {},
   "outputs": [],
   "source": [
    "Dtest = Dtest.toarray()"
   ]
  },
  {
   "cell_type": "code",
   "execution_count": 21,
   "metadata": {},
   "outputs": [
    {
     "name": "stderr",
     "output_type": "stream",
     "text": [
      "/home/paperspace/anaconda3/lib/python3.6/site-packages/sklearn/utils/validation.py:475: DataConversionWarning: Data with input dtype int64 was converted to float64 by StandardScaler.\n",
      "  warnings.warn(msg, DataConversionWarning)\n"
     ]
    }
   ],
   "source": [
    "Dtest_scaled = sclr.fit_transform(Dtest)  # CAUTION: 2x RAM Usage, copy = False seems broken"
   ]
  },
  {
   "cell_type": "code",
   "execution_count": 22,
   "metadata": {},
   "outputs": [],
   "source": [
    "del Dtest ## Free up some RAM"
   ]
  },
  {
   "cell_type": "code",
   "execution_count": 23,
   "metadata": {},
   "outputs": [],
   "source": [
    "from sklearn.linear_model import LogisticRegression\n",
    "from sklearn.model_selection import GridSearchCV, RandomizedSearchCV"
   ]
  },
  {
   "cell_type": "code",
   "execution_count": 24,
   "metadata": {},
   "outputs": [],
   "source": [
    "params = {\n",
    "    'C': [1e-4, 1e-3, 1e-2, 1e-1, 1e0, 1e1, 1e2, 1e3, 1e4]\n",
    "}"
   ]
  },
  {
   "cell_type": "code",
   "execution_count": 25,
   "metadata": {},
   "outputs": [],
   "source": [
    "estimator = LogisticRegression(random_state=42)"
   ]
  },
  {
   "cell_type": "code",
   "execution_count": 26,
   "metadata": {},
   "outputs": [
    {
     "name": "stdout",
     "output_type": "stream",
     "text": [
      "LogisticRegression(C=1.0, class_weight=None, dual=False, fit_intercept=True,\n",
      "          intercept_scaling=1, max_iter=100, multi_class='ovr', n_jobs=1,\n",
      "          penalty='l2', random_state=42, solver='liblinear', tol=0.0001,\n",
      "          verbose=0, warm_start=False)\n"
     ]
    }
   ],
   "source": [
    "print(estimator)"
   ]
  },
  {
   "cell_type": "code",
   "execution_count": 27,
   "metadata": {},
   "outputs": [],
   "source": [
    "grid = GridSearchCV(estimator=estimator,\n",
    "                    param_grid=params,\n",
    "                    scoring={'accuracy', 'precision', 'f1', 'recall'},\n",
    "                    refit='f1', # Because we are using multiple evaluation metrics\n",
    "                    cv=10,\n",
    "                    return_train_score=True,\n",
    "                    verbose=2)"
   ]
  },
  {
   "cell_type": "code",
   "execution_count": 28,
   "metadata": {},
   "outputs": [],
   "source": [
    "features = Dtrain_scaled\n",
    "labels = data_train.Polarity.apply(lambda x: 1 if x == 'positive' else 0).values"
   ]
  },
  {
   "cell_type": "code",
   "execution_count": 29,
   "metadata": {},
   "outputs": [
    {
     "data": {
      "text/plain": [
       "(254883, 3000)"
      ]
     },
     "execution_count": 29,
     "metadata": {},
     "output_type": "execute_result"
    }
   ],
   "source": [
    "features.shape"
   ]
  },
  {
   "cell_type": "code",
   "execution_count": 30,
   "metadata": {},
   "outputs": [
    {
     "data": {
      "text/plain": [
       "254883"
      ]
     },
     "execution_count": 30,
     "metadata": {},
     "output_type": "execute_result"
    }
   ],
   "source": [
    "len(labels)"
   ]
  },
  {
   "cell_type": "code",
   "execution_count": 31,
   "metadata": {
    "scrolled": true
   },
   "outputs": [
    {
     "name": "stdout",
     "output_type": "stream",
     "text": [
      "Fitting 10 folds for each of 9 candidates, totalling 90 fits\n",
      "[CV] C=0.0001 ........................................................\n",
      "[CV] ......................................... C=0.0001, total= 1.4min\n"
     ]
    },
    {
     "name": "stderr",
     "output_type": "stream",
     "text": [
      "[Parallel(n_jobs=1)]: Done   1 out of   1 | elapsed:  1.5min remaining:    0.0s\n"
     ]
    },
    {
     "name": "stdout",
     "output_type": "stream",
     "text": [
      "[CV] C=0.0001 ........................................................\n",
      "[CV] ......................................... C=0.0001, total= 1.5min\n",
      "[CV] C=0.0001 ........................................................\n",
      "[CV] ......................................... C=0.0001, total= 1.5min\n",
      "[CV] C=0.0001 ........................................................\n",
      "[CV] ......................................... C=0.0001, total= 1.4min\n",
      "[CV] C=0.0001 ........................................................\n",
      "[CV] ......................................... C=0.0001, total= 1.5min\n",
      "[CV] C=0.0001 ........................................................\n",
      "[CV] ......................................... C=0.0001, total= 1.4min\n",
      "[CV] C=0.0001 ........................................................\n",
      "[CV] ......................................... C=0.0001, total= 1.5min\n",
      "[CV] C=0.0001 ........................................................\n",
      "[CV] ......................................... C=0.0001, total= 1.5min\n",
      "[CV] C=0.0001 ........................................................\n",
      "[CV] ......................................... C=0.0001, total= 1.4min\n",
      "[CV] C=0.0001 ........................................................\n",
      "[CV] ......................................... C=0.0001, total= 1.5min\n",
      "[CV] C=0.001 .........................................................\n",
      "[CV] .......................................... C=0.001, total= 2.4min\n",
      "[CV] C=0.001 .........................................................\n",
      "[CV] .......................................... C=0.001, total= 2.4min\n",
      "[CV] C=0.001 .........................................................\n",
      "[CV] .......................................... C=0.001, total= 2.4min\n",
      "[CV] C=0.001 .........................................................\n",
      "[CV] .......................................... C=0.001, total= 2.0min\n",
      "[CV] C=0.001 .........................................................\n",
      "[CV] .......................................... C=0.001, total= 2.0min\n",
      "[CV] C=0.001 .........................................................\n",
      "[CV] .......................................... C=0.001, total= 2.4min\n",
      "[CV] C=0.001 .........................................................\n",
      "[CV] .......................................... C=0.001, total= 2.0min\n",
      "[CV] C=0.001 .........................................................\n",
      "[CV] .......................................... C=0.001, total= 2.0min\n",
      "[CV] C=0.001 .........................................................\n",
      "[CV] .......................................... C=0.001, total= 2.1min\n",
      "[CV] C=0.001 .........................................................\n",
      "[CV] .......................................... C=0.001, total= 2.0min\n",
      "[CV] C=0.01 ..........................................................\n",
      "[CV] ........................................... C=0.01, total= 2.6min\n",
      "[CV] C=0.01 ..........................................................\n",
      "[CV] ........................................... C=0.01, total= 3.0min\n",
      "[CV] C=0.01 ..........................................................\n",
      "[CV] ........................................... C=0.01, total= 3.0min\n",
      "[CV] C=0.01 ..........................................................\n",
      "[CV] ........................................... C=0.01, total= 3.1min\n",
      "[CV] C=0.01 ..........................................................\n",
      "[CV] ........................................... C=0.01, total= 3.2min\n",
      "[CV] C=0.01 ..........................................................\n",
      "[CV] ........................................... C=0.01, total= 3.3min\n",
      "[CV] C=0.01 ..........................................................\n",
      "[CV] ........................................... C=0.01, total= 3.3min\n",
      "[CV] C=0.01 ..........................................................\n",
      "[CV] ........................................... C=0.01, total= 3.1min\n",
      "[CV] C=0.01 ..........................................................\n",
      "[CV] ........................................... C=0.01, total= 3.3min\n",
      "[CV] C=0.01 ..........................................................\n",
      "[CV] ........................................... C=0.01, total= 3.2min\n",
      "[CV] C=0.1 ...........................................................\n",
      "[CV] ............................................ C=0.1, total= 3.3min\n",
      "[CV] C=0.1 ...........................................................\n",
      "[CV] ............................................ C=0.1, total= 3.2min\n",
      "[CV] C=0.1 ...........................................................\n",
      "[CV] ............................................ C=0.1, total= 3.3min\n",
      "[CV] C=0.1 ...........................................................\n",
      "[CV] ............................................ C=0.1, total= 3.2min\n",
      "[CV] C=0.1 ...........................................................\n",
      "[CV] ............................................ C=0.1, total= 3.2min\n",
      "[CV] C=0.1 ...........................................................\n",
      "[CV] ............................................ C=0.1, total= 3.4min\n",
      "[CV] C=0.1 ...........................................................\n",
      "[CV] ............................................ C=0.1, total= 3.3min\n",
      "[CV] C=0.1 ...........................................................\n",
      "[CV] ............................................ C=0.1, total= 3.3min\n",
      "[CV] C=0.1 ...........................................................\n",
      "[CV] ............................................ C=0.1, total= 3.3min\n",
      "[CV] C=0.1 ...........................................................\n",
      "[CV] ............................................ C=0.1, total= 3.4min\n",
      "[CV] C=1.0 ...........................................................\n",
      "[CV] ............................................ C=1.0, total= 3.2min\n",
      "[CV] C=1.0 ...........................................................\n",
      "[CV] ............................................ C=1.0, total= 3.3min\n",
      "[CV] C=1.0 ...........................................................\n",
      "[CV] ............................................ C=1.0, total= 3.2min\n",
      "[CV] C=1.0 ...........................................................\n",
      "[CV] ............................................ C=1.0, total= 3.2min\n",
      "[CV] C=1.0 ...........................................................\n",
      "[CV] ............................................ C=1.0, total= 3.3min\n",
      "[CV] C=1.0 ...........................................................\n",
      "[CV] ............................................ C=1.0, total= 3.5min\n",
      "[CV] C=1.0 ...........................................................\n",
      "[CV] ............................................ C=1.0, total= 3.5min\n",
      "[CV] C=1.0 ...........................................................\n",
      "[CV] ............................................ C=1.0, total= 3.4min\n",
      "[CV] C=1.0 ...........................................................\n",
      "[CV] ............................................ C=1.0, total= 3.5min\n",
      "[CV] C=1.0 ...........................................................\n",
      "[CV] ............................................ C=1.0, total= 3.4min\n",
      "[CV] C=10.0 ..........................................................\n",
      "[CV] ........................................... C=10.0, total= 3.3min\n",
      "[CV] C=10.0 ..........................................................\n",
      "[CV] ........................................... C=10.0, total= 3.2min\n",
      "[CV] C=10.0 ..........................................................\n",
      "[CV] ........................................... C=10.0, total= 3.2min\n",
      "[CV] C=10.0 ..........................................................\n",
      "[CV] ........................................... C=10.0, total= 3.2min\n",
      "[CV] C=10.0 ..........................................................\n",
      "[CV] ........................................... C=10.0, total= 3.2min\n",
      "[CV] C=10.0 ..........................................................\n",
      "[CV] ........................................... C=10.0, total= 3.5min\n",
      "[CV] C=10.0 ..........................................................\n",
      "[CV] ........................................... C=10.0, total= 3.4min\n",
      "[CV] C=10.0 ..........................................................\n",
      "[CV] ........................................... C=10.0, total= 3.3min\n",
      "[CV] C=10.0 ..........................................................\n",
      "[CV] ........................................... C=10.0, total= 3.5min\n",
      "[CV] C=10.0 ..........................................................\n"
     ]
    },
    {
     "name": "stdout",
     "output_type": "stream",
     "text": [
      "[CV] ........................................... C=10.0, total= 3.4min\n",
      "[CV] C=100.0 .........................................................\n",
      "[CV] .......................................... C=100.0, total= 3.2min\n",
      "[CV] C=100.0 .........................................................\n",
      "[CV] .......................................... C=100.0, total= 3.2min\n",
      "[CV] C=100.0 .........................................................\n",
      "[CV] .......................................... C=100.0, total= 3.2min\n",
      "[CV] C=100.0 .........................................................\n",
      "[CV] .......................................... C=100.0, total= 3.2min\n",
      "[CV] C=100.0 .........................................................\n",
      "[CV] .......................................... C=100.0, total= 3.2min\n",
      "[CV] C=100.0 .........................................................\n",
      "[CV] .......................................... C=100.0, total= 3.5min\n",
      "[CV] C=100.0 .........................................................\n",
      "[CV] .......................................... C=100.0, total= 3.4min\n",
      "[CV] C=100.0 .........................................................\n",
      "[CV] .......................................... C=100.0, total= 3.3min\n",
      "[CV] C=100.0 .........................................................\n",
      "[CV] .......................................... C=100.0, total= 3.4min\n",
      "[CV] C=100.0 .........................................................\n",
      "[CV] .......................................... C=100.0, total= 3.4min\n",
      "[CV] C=1000.0 ........................................................\n",
      "[CV] ......................................... C=1000.0, total= 3.2min\n",
      "[CV] C=1000.0 ........................................................\n",
      "[CV] ......................................... C=1000.0, total= 3.3min\n",
      "[CV] C=1000.0 ........................................................\n",
      "[CV] ......................................... C=1000.0, total= 3.3min\n",
      "[CV] C=1000.0 ........................................................\n",
      "[CV] ......................................... C=1000.0, total= 3.2min\n",
      "[CV] C=1000.0 ........................................................\n",
      "[CV] ......................................... C=1000.0, total= 3.3min\n",
      "[CV] C=1000.0 ........................................................\n",
      "[CV] ......................................... C=1000.0, total= 3.5min\n",
      "[CV] C=1000.0 ........................................................\n",
      "[CV] ......................................... C=1000.0, total= 3.5min\n",
      "[CV] C=1000.0 ........................................................\n",
      "[CV] ......................................... C=1000.0, total= 3.4min\n",
      "[CV] C=1000.0 ........................................................\n",
      "[CV] ......................................... C=1000.0, total= 3.5min\n",
      "[CV] C=1000.0 ........................................................\n",
      "[CV] ......................................... C=1000.0, total= 3.4min\n",
      "[CV] C=10000.0 .......................................................\n",
      "[CV] ........................................ C=10000.0, total= 3.3min\n",
      "[CV] C=10000.0 .......................................................\n",
      "[CV] ........................................ C=10000.0, total= 3.2min\n",
      "[CV] C=10000.0 .......................................................\n",
      "[CV] ........................................ C=10000.0, total= 3.3min\n",
      "[CV] C=10000.0 .......................................................\n",
      "[CV] ........................................ C=10000.0, total= 3.2min\n",
      "[CV] C=10000.0 .......................................................\n",
      "[CV] ........................................ C=10000.0, total= 3.2min\n",
      "[CV] C=10000.0 .......................................................\n",
      "[CV] ........................................ C=10000.0, total= 3.5min\n",
      "[CV] C=10000.0 .......................................................\n",
      "[CV] ........................................ C=10000.0, total= 3.5min\n",
      "[CV] C=10000.0 .......................................................\n",
      "[CV] ........................................ C=10000.0, total= 3.4min\n",
      "[CV] C=10000.0 .......................................................\n",
      "[CV] ........................................ C=10000.0, total= 3.5min\n",
      "[CV] C=10000.0 .......................................................\n",
      "[CV] ........................................ C=10000.0, total= 3.4min\n"
     ]
    },
    {
     "name": "stderr",
     "output_type": "stream",
     "text": [
      "[Parallel(n_jobs=1)]: Done  90 out of  90 | elapsed: 273.6min finished\n"
     ]
    },
    {
     "data": {
      "text/plain": [
       "GridSearchCV(cv=10, error_score='raise',\n",
       "       estimator=LogisticRegression(C=1.0, class_weight=None, dual=False, fit_intercept=True,\n",
       "          intercept_scaling=1, max_iter=100, multi_class='ovr', n_jobs=1,\n",
       "          penalty='l2', random_state=42, solver='liblinear', tol=0.0001,\n",
       "          verbose=0, warm_start=False),\n",
       "       fit_params=None, iid=True, n_jobs=1,\n",
       "       param_grid={'C': [0.0001, 0.001, 0.01, 0.1, 1.0, 10.0, 100.0, 1000.0, 10000.0]},\n",
       "       pre_dispatch='2*n_jobs', refit='f1', return_train_score=True,\n",
       "       scoring={'recall', 'f1', 'accuracy', 'precision'}, verbose=2)"
      ]
     },
     "execution_count": 31,
     "metadata": {},
     "output_type": "execute_result"
    }
   ],
   "source": [
    "grid.fit(features, labels)"
   ]
  },
  {
   "cell_type": "code",
   "execution_count": 35,
   "metadata": {},
   "outputs": [],
   "source": [
    "from collections import defaultdict"
   ]
  },
  {
   "cell_type": "code",
   "execution_count": 36,
   "metadata": {},
   "outputs": [],
   "source": [
    "def get_summary(grid):\n",
    "    parms = list(grid.param_grid.keys())\n",
    "    columns = ['Iter #']\n",
    "    scorings = grid.scoring\n",
    "    for scoring in scorings:\n",
    "        for typ in ['train', 'test']:\n",
    "            columns.append(f'{typ}_{scoring}')\n",
    "    columns.extend(['fit_time', 'score_time'])\n",
    "    for param in grid.param_grid.keys():\n",
    "        columns.append(param)\n",
    "    df = pd.DataFrame(columns=columns)\n",
    "    cv_res = grid.cv_results_\n",
    "    for col in columns[1:-len(parms)]:\n",
    "        df[col] = cv_res['mean_' + col]\n",
    "    items = 1\n",
    "    for k, v in grid.param_grid.items():\n",
    "        items *= len(v)\n",
    "    df['Iter #'] = np.array(range(items)) + 1\n",
    "    res = defaultdict(list)\n",
    "    for each in grid.cv_results_['params']:\n",
    "        for p in parms:\n",
    "            res[p].append(each[p])\n",
    "    for k, v in res.items():\n",
    "        df[k] = v\n",
    "    return df"
   ]
  },
  {
   "cell_type": "code",
   "execution_count": 37,
   "metadata": {},
   "outputs": [
    {
     "data": {
      "text/html": [
       "<div>\n",
       "<style scoped>\n",
       "    .dataframe tbody tr th:only-of-type {\n",
       "        vertical-align: middle;\n",
       "    }\n",
       "\n",
       "    .dataframe tbody tr th {\n",
       "        vertical-align: top;\n",
       "    }\n",
       "\n",
       "    .dataframe thead th {\n",
       "        text-align: right;\n",
       "    }\n",
       "</style>\n",
       "<table border=\"1\" class=\"dataframe\">\n",
       "  <thead>\n",
       "    <tr style=\"text-align: right;\">\n",
       "      <th></th>\n",
       "      <th>Iter #</th>\n",
       "      <th>train_recall</th>\n",
       "      <th>test_recall</th>\n",
       "      <th>train_f1</th>\n",
       "      <th>test_f1</th>\n",
       "      <th>train_accuracy</th>\n",
       "      <th>test_accuracy</th>\n",
       "      <th>train_precision</th>\n",
       "      <th>test_precision</th>\n",
       "      <th>fit_time</th>\n",
       "      <th>score_time</th>\n",
       "      <th>C</th>\n",
       "    </tr>\n",
       "  </thead>\n",
       "  <tbody>\n",
       "    <tr>\n",
       "      <th>0</th>\n",
       "      <td>1</td>\n",
       "      <td>0.976441</td>\n",
       "      <td>0.972968</td>\n",
       "      <td>0.946823</td>\n",
       "      <td>0.944122</td>\n",
       "      <td>0.906684</td>\n",
       "      <td>0.902006</td>\n",
       "      <td>0.918949</td>\n",
       "      <td>0.916985</td>\n",
       "      <td>87.309455</td>\n",
       "      <td>0.393950</td>\n",
       "      <td>0.0001</td>\n",
       "    </tr>\n",
       "    <tr>\n",
       "      <th>1</th>\n",
       "      <td>2</td>\n",
       "      <td>0.976319</td>\n",
       "      <td>0.973055</td>\n",
       "      <td>0.950039</td>\n",
       "      <td>0.946812</td>\n",
       "      <td>0.912636</td>\n",
       "      <td>0.906981</td>\n",
       "      <td>0.925138</td>\n",
       "      <td>0.921988</td>\n",
       "      <td>129.000631</td>\n",
       "      <td>0.403928</td>\n",
       "      <td>0.0010</td>\n",
       "    </tr>\n",
       "    <tr>\n",
       "      <th>2</th>\n",
       "      <td>3</td>\n",
       "      <td>0.974651</td>\n",
       "      <td>0.970842</td>\n",
       "      <td>0.950819</td>\n",
       "      <td>0.947103</td>\n",
       "      <td>0.914216</td>\n",
       "      <td>0.907730</td>\n",
       "      <td>0.928124</td>\n",
       "      <td>0.924535</td>\n",
       "      <td>186.766967</td>\n",
       "      <td>0.546892</td>\n",
       "      <td>0.0100</td>\n",
       "    </tr>\n",
       "    <tr>\n",
       "      <th>3</th>\n",
       "      <td>4</td>\n",
       "      <td>0.974341</td>\n",
       "      <td>0.970519</td>\n",
       "      <td>0.950913</td>\n",
       "      <td>0.947133</td>\n",
       "      <td>0.914417</td>\n",
       "      <td>0.907817</td>\n",
       "      <td>0.928586</td>\n",
       "      <td>0.924885</td>\n",
       "      <td>197.997197</td>\n",
       "      <td>0.532091</td>\n",
       "      <td>0.1000</td>\n",
       "    </tr>\n",
       "    <tr>\n",
       "      <th>4</th>\n",
       "      <td>5</td>\n",
       "      <td>0.974301</td>\n",
       "      <td>0.970492</td>\n",
       "      <td>0.950921</td>\n",
       "      <td>0.947147</td>\n",
       "      <td>0.914434</td>\n",
       "      <td>0.907844</td>\n",
       "      <td>0.928636</td>\n",
       "      <td>0.924937</td>\n",
       "      <td>200.108753</td>\n",
       "      <td>0.537229</td>\n",
       "      <td>1.0000</td>\n",
       "    </tr>\n",
       "    <tr>\n",
       "      <th>5</th>\n",
       "      <td>6</td>\n",
       "      <td>0.974299</td>\n",
       "      <td>0.970492</td>\n",
       "      <td>0.950924</td>\n",
       "      <td>0.947149</td>\n",
       "      <td>0.914440</td>\n",
       "      <td>0.907848</td>\n",
       "      <td>0.928644</td>\n",
       "      <td>0.924941</td>\n",
       "      <td>199.290516</td>\n",
       "      <td>0.578361</td>\n",
       "      <td>10.0000</td>\n",
       "    </tr>\n",
       "    <tr>\n",
       "      <th>6</th>\n",
       "      <td>7</td>\n",
       "      <td>0.974299</td>\n",
       "      <td>0.970487</td>\n",
       "      <td>0.950924</td>\n",
       "      <td>0.947146</td>\n",
       "      <td>0.914440</td>\n",
       "      <td>0.907844</td>\n",
       "      <td>0.928644</td>\n",
       "      <td>0.924940</td>\n",
       "      <td>198.965694</td>\n",
       "      <td>0.571653</td>\n",
       "      <td>100.0000</td>\n",
       "    </tr>\n",
       "    <tr>\n",
       "      <th>7</th>\n",
       "      <td>8</td>\n",
       "      <td>0.974299</td>\n",
       "      <td>0.970487</td>\n",
       "      <td>0.950924</td>\n",
       "      <td>0.947146</td>\n",
       "      <td>0.914440</td>\n",
       "      <td>0.907844</td>\n",
       "      <td>0.928644</td>\n",
       "      <td>0.924940</td>\n",
       "      <td>200.596844</td>\n",
       "      <td>0.579638</td>\n",
       "      <td>1000.0000</td>\n",
       "    </tr>\n",
       "    <tr>\n",
       "      <th>8</th>\n",
       "      <td>9</td>\n",
       "      <td>0.974299</td>\n",
       "      <td>0.970487</td>\n",
       "      <td>0.950924</td>\n",
       "      <td>0.947146</td>\n",
       "      <td>0.914440</td>\n",
       "      <td>0.907844</td>\n",
       "      <td>0.928644</td>\n",
       "      <td>0.924940</td>\n",
       "      <td>200.238887</td>\n",
       "      <td>0.587246</td>\n",
       "      <td>10000.0000</td>\n",
       "    </tr>\n",
       "  </tbody>\n",
       "</table>\n",
       "</div>"
      ],
      "text/plain": [
       "   Iter #  train_recall  test_recall  train_f1   test_f1  train_accuracy  \\\n",
       "0       1      0.976441     0.972968  0.946823  0.944122        0.906684   \n",
       "1       2      0.976319     0.973055  0.950039  0.946812        0.912636   \n",
       "2       3      0.974651     0.970842  0.950819  0.947103        0.914216   \n",
       "3       4      0.974341     0.970519  0.950913  0.947133        0.914417   \n",
       "4       5      0.974301     0.970492  0.950921  0.947147        0.914434   \n",
       "5       6      0.974299     0.970492  0.950924  0.947149        0.914440   \n",
       "6       7      0.974299     0.970487  0.950924  0.947146        0.914440   \n",
       "7       8      0.974299     0.970487  0.950924  0.947146        0.914440   \n",
       "8       9      0.974299     0.970487  0.950924  0.947146        0.914440   \n",
       "\n",
       "   test_accuracy  train_precision  test_precision    fit_time  score_time  \\\n",
       "0       0.902006         0.918949        0.916985   87.309455    0.393950   \n",
       "1       0.906981         0.925138        0.921988  129.000631    0.403928   \n",
       "2       0.907730         0.928124        0.924535  186.766967    0.546892   \n",
       "3       0.907817         0.928586        0.924885  197.997197    0.532091   \n",
       "4       0.907844         0.928636        0.924937  200.108753    0.537229   \n",
       "5       0.907848         0.928644        0.924941  199.290516    0.578361   \n",
       "6       0.907844         0.928644        0.924940  198.965694    0.571653   \n",
       "7       0.907844         0.928644        0.924940  200.596844    0.579638   \n",
       "8       0.907844         0.928644        0.924940  200.238887    0.587246   \n",
       "\n",
       "            C  \n",
       "0      0.0001  \n",
       "1      0.0010  \n",
       "2      0.0100  \n",
       "3      0.1000  \n",
       "4      1.0000  \n",
       "5     10.0000  \n",
       "6    100.0000  \n",
       "7   1000.0000  \n",
       "8  10000.0000  "
      ]
     },
     "execution_count": 37,
     "metadata": {},
     "output_type": "execute_result"
    }
   ],
   "source": [
    "get_summary(grid)"
   ]
  },
  {
   "cell_type": "code",
   "execution_count": 32,
   "metadata": {},
   "outputs": [
    {
     "data": {
      "text/plain": [
       "LogisticRegression(C=10.0, class_weight=None, dual=False, fit_intercept=True,\n",
       "          intercept_scaling=1, max_iter=100, multi_class='ovr', n_jobs=1,\n",
       "          penalty='l2', random_state=42, solver='liblinear', tol=0.0001,\n",
       "          verbose=0, warm_start=False)"
      ]
     },
     "execution_count": 32,
     "metadata": {},
     "output_type": "execute_result"
    }
   ],
   "source": [
    "grid.best_estimator_"
   ]
  },
  {
   "cell_type": "markdown",
   "metadata": {},
   "source": [
    "## 4. Saving the best estimator"
   ]
  },
  {
   "cell_type": "code",
   "execution_count": 47,
   "metadata": {},
   "outputs": [],
   "source": [
    "from sklearn.externals import joblib"
   ]
  },
  {
   "cell_type": "code",
   "execution_count": 48,
   "metadata": {},
   "outputs": [
    {
     "data": {
      "text/plain": [
       "['best.model']"
      ]
     },
     "execution_count": 48,
     "metadata": {},
     "output_type": "execute_result"
    }
   ],
   "source": [
    "joblib.dump(grid.best_estimator_, 'best.model')"
   ]
  },
  {
   "cell_type": "markdown",
   "metadata": {},
   "source": [
    "## 5. Loading the best estimator"
   ]
  },
  {
   "cell_type": "code",
   "execution_count": 49,
   "metadata": {},
   "outputs": [],
   "source": [
    "clf = joblib.load('best.model')"
   ]
  },
  {
   "cell_type": "code",
   "execution_count": 50,
   "metadata": {},
   "outputs": [
    {
     "data": {
      "text/plain": [
       "array([[-0.00953235, -0.00435521,  0.04769258, ...,  0.11586617,\n",
       "        -0.04707746,  0.02314036]])"
      ]
     },
     "execution_count": 50,
     "metadata": {},
     "output_type": "execute_result"
    }
   ],
   "source": [
    "clf.coef_"
   ]
  },
  {
   "cell_type": "code",
   "execution_count": null,
   "metadata": {},
   "outputs": [],
   "source": []
  }
 ],
 "metadata": {
  "kernelspec": {
   "display_name": "Python 3",
   "language": "python",
   "name": "python3"
  },
  "language_info": {
   "codemirror_mode": {
    "name": "ipython",
    "version": 3
   },
   "file_extension": ".py",
   "mimetype": "text/x-python",
   "name": "python",
   "nbconvert_exporter": "python",
   "pygments_lexer": "ipython3",
   "version": "3.6.6"
  }
 },
 "nbformat": 4,
 "nbformat_minor": 2
}
