{
 "cells": [
  {
   "cell_type": "code",
   "execution_count": 18,
   "metadata": {},
   "outputs": [],
   "source": [
    "import numpy as np\n",
    "import pandas as pd\n",
    "import matplotlib.pyplot as plt\n",
    "import seaborn as sns\n",
    "import sqlite3\n",
    "%config InlineBackend.figure_format = 'retina'"
   ]
  },
  {
   "cell_type": "code",
   "execution_count": 19,
   "metadata": {},
   "outputs": [
    {
     "name": "stdout",
     "output_type": "stream",
     "text": [
      "Amazon-Review----Logistic-Regression  cert\t Processed Datasets.zip\r\n",
      "Amazon-Review---Naive-Bayes\t      Databases  Tools\r\n",
      "anaconda3\t\t\t      __MACOSX\r\n"
     ]
    }
   ],
   "source": [
    "!ls .."
   ]
  },
  {
   "cell_type": "markdown",
   "metadata": {},
   "source": [
    "## 1. Loading the dataset"
   ]
  },
  {
   "cell_type": "code",
   "execution_count": 20,
   "metadata": {},
   "outputs": [],
   "source": [
    "with sqlite3.connect('../Databases/reviewsV1.db') as conn:\n",
    "    data = pd.read_sql_query('SELECT * FROM Review', conn)"
   ]
  },
  {
   "cell_type": "code",
   "execution_count": 21,
   "metadata": {},
   "outputs": [],
   "source": [
    "data.drop('index', inplace=True, axis=1)\n",
    "data = data[data.index != 258456]"
   ]
  },
  {
   "cell_type": "markdown",
   "metadata": {},
   "source": [
    "## 2. Time Based Splitting"
   ]
  },
  {
   "cell_type": "code",
   "execution_count": 22,
   "metadata": {},
   "outputs": [],
   "source": [
    "data.sort_values(by='Time', inplace=True)\n",
    "data.reset_index(drop=True, inplace=True)"
   ]
  },
  {
   "cell_type": "code",
   "execution_count": 23,
   "metadata": {},
   "outputs": [],
   "source": [
    "TRAIN_SIZE = int(data.shape[0] * 0.7)\n",
    "TEST_SIZE = data.shape[0] - TRAIN_SIZE"
   ]
  },
  {
   "cell_type": "code",
   "execution_count": 24,
   "metadata": {},
   "outputs": [
    {
     "data": {
      "text/plain": [
       "254882"
      ]
     },
     "execution_count": 24,
     "metadata": {},
     "output_type": "execute_result"
    }
   ],
   "source": [
    "TRAIN_SIZE"
   ]
  },
  {
   "cell_type": "code",
   "execution_count": 25,
   "metadata": {},
   "outputs": [
    {
     "data": {
      "text/plain": [
       "109236"
      ]
     },
     "execution_count": 25,
     "metadata": {},
     "output_type": "execute_result"
    }
   ],
   "source": [
    "TEST_SIZE"
   ]
  },
  {
   "cell_type": "code",
   "execution_count": 26,
   "metadata": {},
   "outputs": [],
   "source": [
    "data_train = data[0: TRAIN_SIZE]\n",
    "data_test = data[TRAIN_SIZE:]"
   ]
  },
  {
   "cell_type": "markdown",
   "metadata": {},
   "source": [
    "#### 2.1 Check if the Splitting was performed properly"
   ]
  },
  {
   "cell_type": "code",
   "execution_count": 27,
   "metadata": {},
   "outputs": [],
   "source": [
    "assert(data_train.shape[0] == TRAIN_SIZE)\n",
    "assert(data_test.shape[0] == TEST_SIZE)"
   ]
  },
  {
   "cell_type": "code",
   "execution_count": 28,
   "metadata": {},
   "outputs": [],
   "source": [
    "assert(data.Time.max() == data_test.Time.reset_index(drop=True)[TEST_SIZE -1])"
   ]
  },
  {
   "cell_type": "code",
   "execution_count": 29,
   "metadata": {},
   "outputs": [],
   "source": [
    "assert(data.Time.min() == data_train.Time.reset_index(drop=True)[0])\n"
   ]
  },
  {
   "cell_type": "markdown",
   "metadata": {},
   "source": [
    "## Training Word2Vec Model on data_train"
   ]
  },
  {
   "cell_type": "markdown",
   "metadata": {},
   "source": [
    "#### Preparing a corpus to create a Word2Vec model"
   ]
  },
  {
   "cell_type": "code",
   "execution_count": 30,
   "metadata": {},
   "outputs": [],
   "source": [
    "corpus = [review.split() for review in data_train.Text.values]\n"
   ]
  },
  {
   "cell_type": "code",
   "execution_count": 31,
   "metadata": {},
   "outputs": [],
   "source": [
    "assert(len(corpus) == TRAIN_SIZE)"
   ]
  },
  {
   "cell_type": "code",
   "execution_count": 32,
   "metadata": {},
   "outputs": [
    {
     "name": "stdout",
     "output_type": "stream",
     "text": [
      "special acting effects movie well written everything delighted view chose beetlejuice\n",
      "*****************************************************************\n",
      "['special', 'acting', 'effects', 'movie', 'well', 'written', 'everything', 'delighted', 'view', 'chose', 'beetlejuice']\n"
     ]
    }
   ],
   "source": [
    "print(data.Text.values[0])\n",
    "print(\"*****************************************************************\")\n",
    "print(corpus[0])"
   ]
  },
  {
   "cell_type": "markdown",
   "metadata": {},
   "source": [
    "#### Training Word2Vec on train data"
   ]
  },
  {
   "cell_type": "code",
   "execution_count": 33,
   "metadata": {},
   "outputs": [],
   "source": [
    "import multiprocessing\n",
    "from gensim.models.word2vec import Word2Vec\n",
    "params = {\n",
    "    'size': 100,\n",
    "    'min_count': 5, \n",
    "    'workers': max(1, multiprocessing.cpu_count()),}\n",
    "model = Word2Vec(corpus, **params)"
   ]
  },
  {
   "cell_type": "code",
   "execution_count": 34,
   "metadata": {},
   "outputs": [
    {
     "data": {
      "text/plain": [
       "[('sadly', 0.8381236791610718),\n",
       " ('calling', 0.7918726205825806),\n",
       " ('earlier', 0.7881958484649658),\n",
       " ('writing', 0.7853830456733704),\n",
       " ('identical', 0.7839192152023315),\n",
       " ('description', 0.781782329082489),\n",
       " ('pictured', 0.7806835174560547),\n",
       " ('filled', 0.7772977352142334),\n",
       " ('suppliers', 0.7768746018409729),\n",
       " ('returning', 0.7756742238998413)]"
      ]
     },
     "execution_count": 34,
     "metadata": {},
     "output_type": "execute_result"
    }
   ],
   "source": [
    "model.wv.most_similar('disappointed')"
   ]
  },
  {
   "cell_type": "code",
   "execution_count": 35,
   "metadata": {},
   "outputs": [
    {
     "data": {
      "text/plain": [
       "[('lots', 0.6638856530189514),\n",
       " ('enjoy', 0.6352674961090088),\n",
       " ('excellent', 0.6208349466323853),\n",
       " ('unlike', 0.6117261052131653),\n",
       " ('beat', 0.6106811761856079),\n",
       " ('enjoying', 0.6009395122528076),\n",
       " ('enough', 0.5983511209487915),\n",
       " ('skeptical', 0.5975606441497803),\n",
       " ('gotten', 0.5942325592041016),\n",
       " ('everyone', 0.592284619808197)]"
      ]
     },
     "execution_count": 35,
     "metadata": {},
     "output_type": "execute_result"
    }
   ],
   "source": [
    "model.wv.most_similar('love')"
   ]
  },
  {
   "cell_type": "markdown",
   "metadata": {},
   "source": [
    "## Creating our feature sets"
   ]
  },
  {
   "cell_type": "code",
   "execution_count": 36,
   "metadata": {},
   "outputs": [],
   "source": [
    "from sklearn.feature_extraction.text import TfidfVectorizer"
   ]
  },
  {
   "cell_type": "markdown",
   "metadata": {},
   "source": [
    "#### Fitting TFIDF vectorizer on train data"
   ]
  },
  {
   "cell_type": "code",
   "execution_count": 37,
   "metadata": {},
   "outputs": [],
   "source": [
    "features = data_train.Text\n",
    "labels = data_train.Polarity"
   ]
  },
  {
   "cell_type": "code",
   "execution_count": 40,
   "metadata": {},
   "outputs": [],
   "source": [
    "tfidf = TfidfVectorizer(ngram_range=(1, 1))\n",
    "tf_idf_vect = tfidf.fit_transform(features.values)\n",
    "tfidf_feat = tfidf.get_feature_names()"
   ]
  },
  {
   "cell_type": "code",
   "execution_count": 41,
   "metadata": {},
   "outputs": [
    {
     "data": {
      "text/plain": [
       "(254882, 80733)"
      ]
     },
     "execution_count": 41,
     "metadata": {},
     "output_type": "execute_result"
    }
   ],
   "source": [
    "tf_idf_vect.get_shape()"
   ]
  },
  {
   "cell_type": "code",
   "execution_count": 43,
   "metadata": {},
   "outputs": [
    {
     "data": {
      "text/plain": [
       "['yard',\n",
       " 'yardbird',\n",
       " 'yardbirds',\n",
       " 'yardin',\n",
       " 'yards',\n",
       " 'yardstick',\n",
       " 'yare',\n",
       " 'yarfing',\n",
       " 'yarks',\n",
       " 'yarn']"
      ]
     },
     "execution_count": 43,
     "metadata": {},
     "output_type": "execute_result"
    }
   ],
   "source": [
    "tfidf_feat[80000:80010]"
   ]
  },
  {
   "cell_type": "code",
   "execution_count": 44,
   "metadata": {},
   "outputs": [
    {
     "data": {
      "text/plain": [
       "'special acting effects movie well written everything delighted view chose beetlejuice'"
      ]
     },
     "execution_count": 44,
     "metadata": {},
     "output_type": "execute_result"
    }
   ],
   "source": [
    "features[0]\n"
   ]
  },
  {
   "cell_type": "code",
   "execution_count": 45,
   "metadata": {},
   "outputs": [
    {
     "data": {
      "text/plain": [
       "0.23001252750185927"
      ]
     },
     "execution_count": 45,
     "metadata": {},
     "output_type": "execute_result"
    }
   ],
   "source": [
    "tf_idf_vect[0, tfidf_feat.index('special')]"
   ]
  },
  {
   "cell_type": "markdown",
   "metadata": {},
   "source": [
    "#### Creating a hashmap to find the index of the tfidf vector for a review"
   ]
  },
  {
   "cell_type": "code",
   "execution_count": 46,
   "metadata": {},
   "outputs": [],
   "source": [
    "z = pd.DataFrame(tfidf_feat).reset_index()\n",
    "z.columns = ['index', 'word']\n",
    "z = z.set_index('word')\n",
    "zd = z.to_dict()['index']"
   ]
  },
  {
   "cell_type": "code",
   "execution_count": 47,
   "metadata": {},
   "outputs": [
    {
     "name": "stdout",
     "output_type": "stream",
     "text": [
      "54.8 ns ± 0.675 ns per loop (mean ± std. dev. of 7 runs, 10000000 loops each)\n"
     ]
    }
   ],
   "source": [
    "%%timeit\n",
    "zd['well']"
   ]
  },
  {
   "cell_type": "code",
   "execution_count": 48,
   "metadata": {},
   "outputs": [],
   "source": [
    "from tqdm import tqdm_notebook as tqdm"
   ]
  },
  {
   "cell_type": "code",
   "execution_count": 49,
   "metadata": {},
   "outputs": [],
   "source": [
    "def process_tfidf_word2vec(corpus, table):\n",
    "    global review_vec\n",
    "    global rejected\n",
    "    row = 0\n",
    "    for doc in tqdm(corpus):\n",
    "        review = [model.wv[word] for word in doc \n",
    "                  if model.wv.__contains__(word)]\n",
    "        review = np.array(review)\n",
    "        if review.shape[0] == 0:\n",
    "#             print(doc)\n",
    "#             print(review)\n",
    "#             print(row)\n",
    "            rejected.append(row)\n",
    "            row += 1\n",
    "            continue\n",
    "        tfidfs = [tf_idf_vect[row, table[word]] for word in doc \n",
    "                  if model.wv.__contains__(word)]\n",
    "        tfidfs = np.array(tfidfs)\n",
    "        if tfidfs.shape[0] == 0:\n",
    "#             print(doc)\n",
    "#             print(tfidfs)\n",
    "#             print(row)\n",
    "            rejected.append(row)\n",
    "            row += 1\n",
    "            continue\n",
    "        denominator = tfidfs.sum()\n",
    "        if denominator == 0.0:\n",
    "#             print(doc)\n",
    "#             print(tfidfs)\n",
    "#             print(row)\n",
    "            rejected.append(row)\n",
    "            row += 1\n",
    "            continue\n",
    "        numerator = review * tfidfs.reshape(review.shape[0], 1)\n",
    "\n",
    "        all_vecs = numerator / denominator\n",
    "        avg = np.sum(review, axis=0)\n",
    "        avg_list = avg.tolist()\n",
    "        review_vec.append(avg_list)\n",
    "        row += 1"
   ]
  },
  {
   "cell_type": "markdown",
   "metadata": {},
   "source": [
    "#### Creating training data"
   ]
  },
  {
   "cell_type": "code",
   "execution_count": 50,
   "metadata": {},
   "outputs": [],
   "source": [
    "review_vec = []\n",
    "rejected = []"
   ]
  },
  {
   "cell_type": "code",
   "execution_count": 51,
   "metadata": {},
   "outputs": [
    {
     "data": {
      "application/vnd.jupyter.widget-view+json": {
       "model_id": "998022e2c8cb4bbf840ff0eee8c2e86a",
       "version_major": 2,
       "version_minor": 0
      },
      "text/plain": [
       "HBox(children=(IntProgress(value=0, max=254882), HTML(value='')))"
      ]
     },
     "metadata": {},
     "output_type": "display_data"
    },
    {
     "name": "stdout",
     "output_type": "stream",
     "text": [
      "\n"
     ]
    }
   ],
   "source": [
    "process_tfidf_word2vec(corpus, zd)"
   ]
  },
  {
   "cell_type": "code",
   "execution_count": 52,
   "metadata": {},
   "outputs": [
    {
     "data": {
      "text/plain": [
       "[]"
      ]
     },
     "execution_count": 52,
     "metadata": {},
     "output_type": "execute_result"
    }
   ],
   "source": [
    "rejected"
   ]
  },
  {
   "cell_type": "code",
   "execution_count": 53,
   "metadata": {},
   "outputs": [],
   "source": [
    "assert(len(review_vec) == TRAIN_SIZE - len(rejected))"
   ]
  },
  {
   "cell_type": "code",
   "execution_count": 54,
   "metadata": {},
   "outputs": [],
   "source": [
    "Dtrain = pd.DataFrame(review_vec)"
   ]
  },
  {
   "cell_type": "code",
   "execution_count": 55,
   "metadata": {},
   "outputs": [],
   "source": [
    "Dtrain['Label'] = data_train.Polarity.values"
   ]
  },
  {
   "cell_type": "code",
   "execution_count": 56,
   "metadata": {},
   "outputs": [
    {
     "data": {
      "text/html": [
       "<div>\n",
       "<style scoped>\n",
       "    .dataframe tbody tr th:only-of-type {\n",
       "        vertical-align: middle;\n",
       "    }\n",
       "\n",
       "    .dataframe tbody tr th {\n",
       "        vertical-align: top;\n",
       "    }\n",
       "\n",
       "    .dataframe thead th {\n",
       "        text-align: right;\n",
       "    }\n",
       "</style>\n",
       "<table border=\"1\" class=\"dataframe\">\n",
       "  <thead>\n",
       "    <tr style=\"text-align: right;\">\n",
       "      <th></th>\n",
       "      <th>0</th>\n",
       "      <th>1</th>\n",
       "      <th>2</th>\n",
       "      <th>3</th>\n",
       "      <th>4</th>\n",
       "      <th>5</th>\n",
       "      <th>6</th>\n",
       "      <th>7</th>\n",
       "      <th>8</th>\n",
       "      <th>9</th>\n",
       "      <th>...</th>\n",
       "      <th>91</th>\n",
       "      <th>92</th>\n",
       "      <th>93</th>\n",
       "      <th>94</th>\n",
       "      <th>95</th>\n",
       "      <th>96</th>\n",
       "      <th>97</th>\n",
       "      <th>98</th>\n",
       "      <th>99</th>\n",
       "      <th>Label</th>\n",
       "    </tr>\n",
       "  </thead>\n",
       "  <tbody>\n",
       "    <tr>\n",
       "      <th>0</th>\n",
       "      <td>0.124132</td>\n",
       "      <td>0.690627</td>\n",
       "      <td>0.186075</td>\n",
       "      <td>-2.972061</td>\n",
       "      <td>0.559061</td>\n",
       "      <td>-1.947294</td>\n",
       "      <td>-0.898517</td>\n",
       "      <td>-3.268192</td>\n",
       "      <td>0.033878</td>\n",
       "      <td>-6.211611</td>\n",
       "      <td>...</td>\n",
       "      <td>-0.556352</td>\n",
       "      <td>-3.736009</td>\n",
       "      <td>6.305069</td>\n",
       "      <td>2.817507</td>\n",
       "      <td>-2.745073</td>\n",
       "      <td>-2.302240</td>\n",
       "      <td>-7.083508</td>\n",
       "      <td>-6.108217</td>\n",
       "      <td>2.363632</td>\n",
       "      <td>positive</td>\n",
       "    </tr>\n",
       "    <tr>\n",
       "      <th>1</th>\n",
       "      <td>-1.297451</td>\n",
       "      <td>-3.487176</td>\n",
       "      <td>-1.900977</td>\n",
       "      <td>2.923317</td>\n",
       "      <td>4.703219</td>\n",
       "      <td>1.343819</td>\n",
       "      <td>-3.898170</td>\n",
       "      <td>1.089229</td>\n",
       "      <td>-3.194784</td>\n",
       "      <td>0.130931</td>\n",
       "      <td>...</td>\n",
       "      <td>2.290709</td>\n",
       "      <td>2.017211</td>\n",
       "      <td>0.717947</td>\n",
       "      <td>-3.253783</td>\n",
       "      <td>-0.422405</td>\n",
       "      <td>-1.484561</td>\n",
       "      <td>-0.250539</td>\n",
       "      <td>2.674775</td>\n",
       "      <td>-0.388883</td>\n",
       "      <td>positive</td>\n",
       "    </tr>\n",
       "    <tr>\n",
       "      <th>2</th>\n",
       "      <td>-1.409702</td>\n",
       "      <td>2.630230</td>\n",
       "      <td>-0.170995</td>\n",
       "      <td>-3.193642</td>\n",
       "      <td>0.842995</td>\n",
       "      <td>-0.501407</td>\n",
       "      <td>-5.795720</td>\n",
       "      <td>-2.877341</td>\n",
       "      <td>7.527938</td>\n",
       "      <td>-0.784455</td>\n",
       "      <td>...</td>\n",
       "      <td>-2.659028</td>\n",
       "      <td>2.648695</td>\n",
       "      <td>8.567437</td>\n",
       "      <td>-0.111613</td>\n",
       "      <td>1.176608</td>\n",
       "      <td>-2.064354</td>\n",
       "      <td>2.999440</td>\n",
       "      <td>-11.611585</td>\n",
       "      <td>3.155114</td>\n",
       "      <td>positive</td>\n",
       "    </tr>\n",
       "    <tr>\n",
       "      <th>3</th>\n",
       "      <td>-0.027507</td>\n",
       "      <td>-0.289149</td>\n",
       "      <td>0.363027</td>\n",
       "      <td>0.346066</td>\n",
       "      <td>-0.557217</td>\n",
       "      <td>1.131090</td>\n",
       "      <td>-2.861841</td>\n",
       "      <td>-0.892604</td>\n",
       "      <td>-3.300861</td>\n",
       "      <td>-3.033913</td>\n",
       "      <td>...</td>\n",
       "      <td>-0.456559</td>\n",
       "      <td>-1.709518</td>\n",
       "      <td>2.656567</td>\n",
       "      <td>-6.408174</td>\n",
       "      <td>4.982338</td>\n",
       "      <td>-4.777662</td>\n",
       "      <td>-0.461821</td>\n",
       "      <td>-3.159812</td>\n",
       "      <td>1.508133</td>\n",
       "      <td>positive</td>\n",
       "    </tr>\n",
       "    <tr>\n",
       "      <th>4</th>\n",
       "      <td>1.191700</td>\n",
       "      <td>9.968606</td>\n",
       "      <td>-2.060853</td>\n",
       "      <td>4.582136</td>\n",
       "      <td>-2.336024</td>\n",
       "      <td>6.745582</td>\n",
       "      <td>-1.528853</td>\n",
       "      <td>-11.381527</td>\n",
       "      <td>-0.101736</td>\n",
       "      <td>0.389369</td>\n",
       "      <td>...</td>\n",
       "      <td>-3.930562</td>\n",
       "      <td>-3.888461</td>\n",
       "      <td>3.900736</td>\n",
       "      <td>-4.855195</td>\n",
       "      <td>7.468403</td>\n",
       "      <td>-13.492609</td>\n",
       "      <td>-1.323302</td>\n",
       "      <td>-8.756943</td>\n",
       "      <td>2.113569</td>\n",
       "      <td>negative</td>\n",
       "    </tr>\n",
       "  </tbody>\n",
       "</table>\n",
       "<p>5 rows × 101 columns</p>\n",
       "</div>"
      ],
      "text/plain": [
       "          0         1         2         3         4         5         6  \\\n",
       "0  0.124132  0.690627  0.186075 -2.972061  0.559061 -1.947294 -0.898517   \n",
       "1 -1.297451 -3.487176 -1.900977  2.923317  4.703219  1.343819 -3.898170   \n",
       "2 -1.409702  2.630230 -0.170995 -3.193642  0.842995 -0.501407 -5.795720   \n",
       "3 -0.027507 -0.289149  0.363027  0.346066 -0.557217  1.131090 -2.861841   \n",
       "4  1.191700  9.968606 -2.060853  4.582136 -2.336024  6.745582 -1.528853   \n",
       "\n",
       "           7         8         9    ...           91        92        93  \\\n",
       "0  -3.268192  0.033878 -6.211611    ...    -0.556352 -3.736009  6.305069   \n",
       "1   1.089229 -3.194784  0.130931    ...     2.290709  2.017211  0.717947   \n",
       "2  -2.877341  7.527938 -0.784455    ...    -2.659028  2.648695  8.567437   \n",
       "3  -0.892604 -3.300861 -3.033913    ...    -0.456559 -1.709518  2.656567   \n",
       "4 -11.381527 -0.101736  0.389369    ...    -3.930562 -3.888461  3.900736   \n",
       "\n",
       "         94        95         96        97         98        99     Label  \n",
       "0  2.817507 -2.745073  -2.302240 -7.083508  -6.108217  2.363632  positive  \n",
       "1 -3.253783 -0.422405  -1.484561 -0.250539   2.674775 -0.388883  positive  \n",
       "2 -0.111613  1.176608  -2.064354  2.999440 -11.611585  3.155114  positive  \n",
       "3 -6.408174  4.982338  -4.777662 -0.461821  -3.159812  1.508133  positive  \n",
       "4 -4.855195  7.468403 -13.492609 -1.323302  -8.756943  2.113569  negative  \n",
       "\n",
       "[5 rows x 101 columns]"
      ]
     },
     "execution_count": 56,
     "metadata": {},
     "output_type": "execute_result"
    }
   ],
   "source": [
    "Dtrain.head()"
   ]
  },
  {
   "cell_type": "markdown",
   "metadata": {},
   "source": [
    "#### Fitting TFIDF vectorizer on test data"
   ]
  },
  {
   "cell_type": "code",
   "execution_count": 58,
   "metadata": {},
   "outputs": [
    {
     "data": {
      "text/plain": [
       "(109236, 53046)"
      ]
     },
     "execution_count": 58,
     "metadata": {},
     "output_type": "execute_result"
    }
   ],
   "source": [
    "features = data_test.Text.reset_index(drop=True)\n",
    "labels = data_test.Polarity.reset_index(drop=True)\n",
    "\n",
    "tfidf = TfidfVectorizer(ngram_range=(1, 1))\n",
    "tf_idf_vect = tfidf.fit_transform(features.values)\n",
    "tfidf_feat = tfidf.get_feature_names()\n",
    "\n",
    "tf_idf_vect.get_shape()"
   ]
  },
  {
   "cell_type": "code",
   "execution_count": 59,
   "metadata": {},
   "outputs": [
    {
     "data": {
      "text/plain": [
       "['ziyad',\n",
       " 'zoid',\n",
       " 'zojirushi',\n",
       " 'zojorushi',\n",
       " 'zojurishi',\n",
       " 'zoku',\n",
       " 'zola',\n",
       " 'zombie',\n",
       " 'zombies',\n",
       " 'zomg']"
      ]
     },
     "execution_count": 59,
     "metadata": {},
     "output_type": "execute_result"
    }
   ],
   "source": [
    "tfidf_feat[53000:53010]"
   ]
  },
  {
   "cell_type": "code",
   "execution_count": 60,
   "metadata": {},
   "outputs": [
    {
     "data": {
      "text/plain": [
       "'stop semi could worth chips extra like husband taste ghirardelli sweet eating chocolate'"
      ]
     },
     "execution_count": 60,
     "metadata": {},
     "output_type": "execute_result"
    }
   ],
   "source": [
    "features[0]"
   ]
  },
  {
   "cell_type": "code",
   "execution_count": 61,
   "metadata": {},
   "outputs": [
    {
     "data": {
      "text/plain": [
       "0.29243409746031235"
      ]
     },
     "execution_count": 61,
     "metadata": {},
     "output_type": "execute_result"
    }
   ],
   "source": [
    "tf_idf_vect[0, tfidf_feat.index('chips')]"
   ]
  },
  {
   "cell_type": "markdown",
   "metadata": {},
   "source": [
    "#### Creating a hashmap to find the index of the tfidf vector for a review"
   ]
  },
  {
   "cell_type": "code",
   "execution_count": 62,
   "metadata": {},
   "outputs": [],
   "source": [
    "z = pd.DataFrame(tfidf_feat).reset_index()\n",
    "z.columns = ['index', 'word']\n",
    "z = z.set_index('word')\n",
    "zd = z.to_dict()['index']"
   ]
  },
  {
   "cell_type": "markdown",
   "metadata": {},
   "source": [
    "#### Creating testing data"
   ]
  },
  {
   "cell_type": "code",
   "execution_count": 63,
   "metadata": {},
   "outputs": [
    {
     "data": {
      "application/vnd.jupyter.widget-view+json": {
       "model_id": "4023f7be24d54da08251f6423b1ee4c7",
       "version_major": 2,
       "version_minor": 0
      },
      "text/plain": [
       "HBox(children=(IntProgress(value=0, max=109236), HTML(value='')))"
      ]
     },
     "metadata": {},
     "output_type": "display_data"
    },
    {
     "name": "stdout",
     "output_type": "stream",
     "text": [
      "\n"
     ]
    }
   ],
   "source": [
    "review_vec = []\n",
    "rejected = []\n",
    "corpus = [review.split() for review in features]\n",
    "process_tfidf_word2vec(corpus, zd)"
   ]
  },
  {
   "cell_type": "code",
   "execution_count": 64,
   "metadata": {},
   "outputs": [
    {
     "data": {
      "text/plain": [
       "[]"
      ]
     },
     "execution_count": 64,
     "metadata": {},
     "output_type": "execute_result"
    }
   ],
   "source": [
    "rejected"
   ]
  },
  {
   "cell_type": "code",
   "execution_count": 65,
   "metadata": {},
   "outputs": [],
   "source": [
    "assert(len(review_vec) == TEST_SIZE)"
   ]
  },
  {
   "cell_type": "code",
   "execution_count": 66,
   "metadata": {},
   "outputs": [],
   "source": [
    "Dtest = pd.DataFrame(review_vec)\n",
    "Dtest['Label'] = labels"
   ]
  },
  {
   "cell_type": "code",
   "execution_count": 67,
   "metadata": {},
   "outputs": [
    {
     "data": {
      "text/html": [
       "<div>\n",
       "<style scoped>\n",
       "    .dataframe tbody tr th:only-of-type {\n",
       "        vertical-align: middle;\n",
       "    }\n",
       "\n",
       "    .dataframe tbody tr th {\n",
       "        vertical-align: top;\n",
       "    }\n",
       "\n",
       "    .dataframe thead th {\n",
       "        text-align: right;\n",
       "    }\n",
       "</style>\n",
       "<table border=\"1\" class=\"dataframe\">\n",
       "  <thead>\n",
       "    <tr style=\"text-align: right;\">\n",
       "      <th></th>\n",
       "      <th>0</th>\n",
       "      <th>1</th>\n",
       "      <th>2</th>\n",
       "      <th>3</th>\n",
       "      <th>4</th>\n",
       "      <th>5</th>\n",
       "      <th>6</th>\n",
       "      <th>7</th>\n",
       "      <th>8</th>\n",
       "      <th>9</th>\n",
       "      <th>...</th>\n",
       "      <th>91</th>\n",
       "      <th>92</th>\n",
       "      <th>93</th>\n",
       "      <th>94</th>\n",
       "      <th>95</th>\n",
       "      <th>96</th>\n",
       "      <th>97</th>\n",
       "      <th>98</th>\n",
       "      <th>99</th>\n",
       "      <th>Label</th>\n",
       "    </tr>\n",
       "  </thead>\n",
       "  <tbody>\n",
       "    <tr>\n",
       "      <th>0</th>\n",
       "      <td>-6.674020</td>\n",
       "      <td>-9.341356</td>\n",
       "      <td>-11.094802</td>\n",
       "      <td>-2.116736</td>\n",
       "      <td>-2.973140</td>\n",
       "      <td>-9.272035</td>\n",
       "      <td>-4.509830</td>\n",
       "      <td>0.355996</td>\n",
       "      <td>4.096109</td>\n",
       "      <td>-8.820267</td>\n",
       "      <td>...</td>\n",
       "      <td>-3.871864</td>\n",
       "      <td>-4.205803</td>\n",
       "      <td>-7.584278</td>\n",
       "      <td>-7.215550</td>\n",
       "      <td>-2.532655</td>\n",
       "      <td>6.771099</td>\n",
       "      <td>11.564010</td>\n",
       "      <td>-4.619530</td>\n",
       "      <td>3.812340</td>\n",
       "      <td>positive</td>\n",
       "    </tr>\n",
       "    <tr>\n",
       "      <th>1</th>\n",
       "      <td>-19.934109</td>\n",
       "      <td>-3.250811</td>\n",
       "      <td>-1.080076</td>\n",
       "      <td>5.138292</td>\n",
       "      <td>-6.326931</td>\n",
       "      <td>3.563781</td>\n",
       "      <td>0.180514</td>\n",
       "      <td>-18.293318</td>\n",
       "      <td>-3.321959</td>\n",
       "      <td>-1.347359</td>\n",
       "      <td>...</td>\n",
       "      <td>-8.987338</td>\n",
       "      <td>-3.428568</td>\n",
       "      <td>4.603112</td>\n",
       "      <td>-17.550989</td>\n",
       "      <td>-3.623773</td>\n",
       "      <td>7.290879</td>\n",
       "      <td>5.911290</td>\n",
       "      <td>-15.283457</td>\n",
       "      <td>-2.971651</td>\n",
       "      <td>positive</td>\n",
       "    </tr>\n",
       "    <tr>\n",
       "      <th>2</th>\n",
       "      <td>-6.213966</td>\n",
       "      <td>6.137169</td>\n",
       "      <td>-2.930566</td>\n",
       "      <td>-5.255229</td>\n",
       "      <td>-7.922285</td>\n",
       "      <td>-2.661392</td>\n",
       "      <td>-2.438470</td>\n",
       "      <td>-7.056760</td>\n",
       "      <td>12.457644</td>\n",
       "      <td>-2.482828</td>\n",
       "      <td>...</td>\n",
       "      <td>-12.839907</td>\n",
       "      <td>-2.039152</td>\n",
       "      <td>-2.395099</td>\n",
       "      <td>0.164565</td>\n",
       "      <td>1.596511</td>\n",
       "      <td>6.288093</td>\n",
       "      <td>11.616546</td>\n",
       "      <td>-2.045568</td>\n",
       "      <td>-7.658936</td>\n",
       "      <td>positive</td>\n",
       "    </tr>\n",
       "    <tr>\n",
       "      <th>3</th>\n",
       "      <td>-0.904325</td>\n",
       "      <td>5.048011</td>\n",
       "      <td>-8.070699</td>\n",
       "      <td>-3.871047</td>\n",
       "      <td>-7.269782</td>\n",
       "      <td>-7.707406</td>\n",
       "      <td>1.666549</td>\n",
       "      <td>1.454569</td>\n",
       "      <td>11.073346</td>\n",
       "      <td>2.123173</td>\n",
       "      <td>...</td>\n",
       "      <td>-8.268493</td>\n",
       "      <td>-4.135805</td>\n",
       "      <td>4.004866</td>\n",
       "      <td>12.495537</td>\n",
       "      <td>2.461176</td>\n",
       "      <td>1.826005</td>\n",
       "      <td>0.449489</td>\n",
       "      <td>-15.097639</td>\n",
       "      <td>4.947555</td>\n",
       "      <td>positive</td>\n",
       "    </tr>\n",
       "    <tr>\n",
       "      <th>4</th>\n",
       "      <td>-17.846090</td>\n",
       "      <td>14.703689</td>\n",
       "      <td>-12.341253</td>\n",
       "      <td>-0.058647</td>\n",
       "      <td>-4.254901</td>\n",
       "      <td>-17.472908</td>\n",
       "      <td>-19.519054</td>\n",
       "      <td>-15.043742</td>\n",
       "      <td>13.908079</td>\n",
       "      <td>-13.646329</td>\n",
       "      <td>...</td>\n",
       "      <td>-16.335865</td>\n",
       "      <td>3.962137</td>\n",
       "      <td>17.734367</td>\n",
       "      <td>0.080899</td>\n",
       "      <td>0.832742</td>\n",
       "      <td>9.426176</td>\n",
       "      <td>9.454819</td>\n",
       "      <td>-19.845797</td>\n",
       "      <td>23.773760</td>\n",
       "      <td>positive</td>\n",
       "    </tr>\n",
       "  </tbody>\n",
       "</table>\n",
       "<p>5 rows × 101 columns</p>\n",
       "</div>"
      ],
      "text/plain": [
       "           0          1          2         3         4          5          6  \\\n",
       "0  -6.674020  -9.341356 -11.094802 -2.116736 -2.973140  -9.272035  -4.509830   \n",
       "1 -19.934109  -3.250811  -1.080076  5.138292 -6.326931   3.563781   0.180514   \n",
       "2  -6.213966   6.137169  -2.930566 -5.255229 -7.922285  -2.661392  -2.438470   \n",
       "3  -0.904325   5.048011  -8.070699 -3.871047 -7.269782  -7.707406   1.666549   \n",
       "4 -17.846090  14.703689 -12.341253 -0.058647 -4.254901 -17.472908 -19.519054   \n",
       "\n",
       "           7          8          9    ...            91        92         93  \\\n",
       "0   0.355996   4.096109  -8.820267    ...     -3.871864 -4.205803  -7.584278   \n",
       "1 -18.293318  -3.321959  -1.347359    ...     -8.987338 -3.428568   4.603112   \n",
       "2  -7.056760  12.457644  -2.482828    ...    -12.839907 -2.039152  -2.395099   \n",
       "3   1.454569  11.073346   2.123173    ...     -8.268493 -4.135805   4.004866   \n",
       "4 -15.043742  13.908079 -13.646329    ...    -16.335865  3.962137  17.734367   \n",
       "\n",
       "          94        95        96         97         98         99     Label  \n",
       "0  -7.215550 -2.532655  6.771099  11.564010  -4.619530   3.812340  positive  \n",
       "1 -17.550989 -3.623773  7.290879   5.911290 -15.283457  -2.971651  positive  \n",
       "2   0.164565  1.596511  6.288093  11.616546  -2.045568  -7.658936  positive  \n",
       "3  12.495537  2.461176  1.826005   0.449489 -15.097639   4.947555  positive  \n",
       "4   0.080899  0.832742  9.426176   9.454819 -19.845797  23.773760  positive  \n",
       "\n",
       "[5 rows x 101 columns]"
      ]
     },
     "execution_count": 67,
     "metadata": {},
     "output_type": "execute_result"
    }
   ],
   "source": [
    "Dtest.head()\n"
   ]
  },
  {
   "cell_type": "markdown",
   "metadata": {},
   "source": [
    "## Scaling the data"
   ]
  },
  {
   "cell_type": "code",
   "execution_count": 68,
   "metadata": {},
   "outputs": [],
   "source": [
    "from sklearn.preprocessing import StandardScaler"
   ]
  },
  {
   "cell_type": "code",
   "execution_count": 69,
   "metadata": {},
   "outputs": [],
   "source": [
    "sclr = StandardScaler(copy=True)"
   ]
  },
  {
   "cell_type": "code",
   "execution_count": 70,
   "metadata": {},
   "outputs": [],
   "source": [
    "Dtrain.drop(['Label'], inplace=True, axis=1)\n",
    "\n",
    "Dtest.drop(['Label'], inplace=True, axis=1)\n",
    "\n",
    "Dtrain_scaled = sclr.fit_transform(Dtrain)\n",
    "\n",
    "Dtest_scaled = sclr.fit_transform(Dtest)"
   ]
  },
  {
   "cell_type": "code",
   "execution_count": 71,
   "metadata": {},
   "outputs": [],
   "source": [
    "from sklearn.linear_model import LogisticRegression\n",
    "from sklearn.model_selection import GridSearchCV"
   ]
  },
  {
   "cell_type": "code",
   "execution_count": 72,
   "metadata": {},
   "outputs": [],
   "source": [
    "params = {\n",
    "    'C': [1e-4, 1e-3, 1e-2, 1e-1, 1e0, 1e1, 1e2, 1e3, 1e4]\n",
    "}"
   ]
  },
  {
   "cell_type": "code",
   "execution_count": 73,
   "metadata": {},
   "outputs": [
    {
     "data": {
      "text/plain": [
       "positive    216859\n",
       "negative     38023\n",
       "Name: Polarity, dtype: int64"
      ]
     },
     "execution_count": 73,
     "metadata": {},
     "output_type": "execute_result"
    }
   ],
   "source": [
    "data_train.Polarity.value_counts()"
   ]
  },
  {
   "cell_type": "markdown",
   "metadata": {},
   "source": [
    "As we can see that it is highly imbalanced dataset, we can use class_weights to manage that"
   ]
  },
  {
   "cell_type": "code",
   "execution_count": 74,
   "metadata": {},
   "outputs": [
    {
     "data": {
      "text/plain": [
       "5"
      ]
     },
     "execution_count": 74,
     "metadata": {},
     "output_type": "execute_result"
    }
   ],
   "source": [
    "216859 // 38023"
   ]
  },
  {
   "cell_type": "markdown",
   "metadata": {},
   "source": [
    "## Fitting the Grid"
   ]
  },
  {
   "cell_type": "code",
   "execution_count": 101,
   "metadata": {},
   "outputs": [],
   "source": [
    "estimator = LogisticRegression(random_state=42, class_weight={0: 5, 1: 1}, solver='saga')"
   ]
  },
  {
   "cell_type": "code",
   "execution_count": 102,
   "metadata": {},
   "outputs": [
    {
     "data": {
      "text/plain": [
       "LogisticRegression(C=1.0, class_weight={0: 5, 1: 1}, dual=False,\n",
       "          fit_intercept=True, intercept_scaling=1, max_iter=100,\n",
       "          multi_class='ovr', n_jobs=1, penalty='l2', random_state=42,\n",
       "          solver='saga', tol=0.0001, verbose=0, warm_start=False)"
      ]
     },
     "execution_count": 102,
     "metadata": {},
     "output_type": "execute_result"
    }
   ],
   "source": [
    "estimator"
   ]
  },
  {
   "cell_type": "code",
   "execution_count": 103,
   "metadata": {},
   "outputs": [],
   "source": [
    "grid = GridSearchCV(estimator=estimator,\n",
    "                    param_grid=params,\n",
    "                    scoring={'accuracy', 'precision', 'f1', 'recall'},\n",
    "                    refit='f1', # Because we are using multiple evaluation metrics\n",
    "                    cv=10,\n",
    "                    return_train_score=True,\n",
    "                    verbose=2,\n",
    "                    n_jobs=8)  ## Using only 8 cores out of 12 cores"
   ]
  },
  {
   "cell_type": "code",
   "execution_count": 104,
   "metadata": {},
   "outputs": [],
   "source": [
    "features = Dtrain_scaled\n",
    "labels = data_train.Polarity.apply(lambda x: 1 if x == 'positive' else 0).values"
   ]
  },
  {
   "cell_type": "code",
   "execution_count": 105,
   "metadata": {},
   "outputs": [
    {
     "data": {
      "text/plain": [
       "(254882, 100)"
      ]
     },
     "execution_count": 105,
     "metadata": {},
     "output_type": "execute_result"
    }
   ],
   "source": [
    "features.shape\n"
   ]
  },
  {
   "cell_type": "code",
   "execution_count": 106,
   "metadata": {},
   "outputs": [
    {
     "data": {
      "text/plain": [
       "254882"
      ]
     },
     "execution_count": 106,
     "metadata": {},
     "output_type": "execute_result"
    }
   ],
   "source": [
    "len(labels)\n"
   ]
  },
  {
   "cell_type": "code",
   "execution_count": 107,
   "metadata": {},
   "outputs": [
    {
     "name": "stdout",
     "output_type": "stream",
     "text": [
      "Fitting 10 folds for each of 9 candidates, totalling 90 fits\n",
      "[CV] C=0.0001 ........................................................\n",
      "[CV] C=0.0001 ........................................................\n",
      "[CV] C=0.0001 ........................................................\n",
      "[CV] C=0.0001 ........................................................\n",
      "[CV] C=0.0001 ........................................................\n",
      "[CV] C=0.0001 ........................................................\n",
      "[CV] C=0.0001 ........................................................\n",
      "[CV] C=0.0001 ........................................................\n",
      "[CV] ......................................... C=0.0001, total=   7.2s\n",
      "[CV] C=0.0001 ........................................................\n",
      "[CV] ......................................... C=0.0001, total=   8.2s\n",
      "[CV] C=0.0001 ........................................................\n",
      "[CV] ......................................... C=0.0001, total=   7.8s\n",
      "[CV] C=0.001 .........................................................\n",
      "[CV] ......................................... C=0.0001, total=   9.0s\n",
      "[CV] C=0.001 .........................................................\n",
      "[CV] ......................................... C=0.0001, total=   8.9s\n",
      "[CV] C=0.001 .........................................................\n",
      "[CV] ......................................... C=0.0001, total=   9.1s\n",
      "[CV] ......................................... C=0.0001, total=  10.1s\n",
      "[CV] C=0.001 .........................................................\n",
      "[CV] ......................................... C=0.0001, total=   9.2s\n",
      "[CV] C=0.001 .........................................................\n",
      "[CV] C=0.001 .........................................................\n",
      "[CV] ......................................... C=0.0001, total=   9.1s\n",
      "[CV] C=0.001 .........................................................\n",
      "[CV] ......................................... C=0.0001, total=   9.4s\n",
      "[CV] C=0.001 .........................................................\n",
      "[CV] .......................................... C=0.001, total=  12.1s\n",
      "[CV] C=0.001 .........................................................\n",
      "[CV] .......................................... C=0.001, total=  11.6s\n",
      "[CV] C=0.001 .........................................................\n",
      "[CV] .......................................... C=0.001, total=  12.8s\n",
      "[CV] C=0.01 ..........................................................\n",
      "[CV] .......................................... C=0.001, total=  11.6s\n",
      "[CV] C=0.01 ..........................................................\n",
      "[CV] .......................................... C=0.001, total=  12.3s\n",
      "[CV] C=0.01 ..........................................................\n",
      "[CV] .......................................... C=0.001, total=  13.4s\n",
      "[CV] C=0.01 ..........................................................\n",
      "[CV] .......................................... C=0.001, total=  11.5s\n",
      "[CV] C=0.01 ..........................................................\n",
      "[CV] .......................................... C=0.001, total=  14.4s\n",
      "[CV] C=0.01 ..........................................................\n",
      "[CV] .......................................... C=0.001, total=  11.0s\n",
      "[CV] C=0.01 ..........................................................\n",
      "[CV] .......................................... C=0.001, total=  12.7s\n",
      "[CV] C=0.01 ..........................................................\n",
      "[CV] ........................................... C=0.01, total=  14.7s\n",
      "[CV] C=0.01 ..........................................................\n",
      "[CV] ........................................... C=0.01, total=  15.2s\n",
      "[CV] C=0.01 ..........................................................\n",
      "[CV] ........................................... C=0.01, total=  14.3s\n",
      "[CV] C=0.1 ...........................................................\n",
      "[CV] ........................................... C=0.01, total=  15.5s\n",
      "[CV] C=0.1 ...........................................................\n",
      "[CV] ........................................... C=0.01, total=  14.9s\n",
      "[CV] C=0.1 ...........................................................\n"
     ]
    },
    {
     "name": "stderr",
     "output_type": "stream",
     "text": [
      "[Parallel(n_jobs=8)]: Done  25 tasks      | elapsed:   45.2s\n"
     ]
    },
    {
     "name": "stdout",
     "output_type": "stream",
     "text": [
      "[CV] ........................................... C=0.01, total=  14.8s\n",
      "[CV] C=0.1 ...........................................................\n",
      "[CV] ........................................... C=0.01, total=  14.2s\n",
      "[CV] ........................................... C=0.01, total=  16.3s\n",
      "[CV] C=0.1 ...........................................................\n",
      "[CV] C=0.1 ...........................................................\n",
      "[CV] ........................................... C=0.01, total=  15.1s\n",
      "[CV] C=0.1 ...........................................................\n",
      "[CV] ........................................... C=0.01, total=  14.6s\n",
      "[CV] C=0.1 ...........................................................\n",
      "[CV] ............................................ C=0.1, total=  15.4s\n",
      "[CV] C=0.1 ...........................................................\n",
      "[CV] ............................................ C=0.1, total=  16.6s\n",
      "[CV] C=0.1 ...........................................................\n",
      "[CV] ............................................ C=0.1, total=  16.1s\n",
      "[CV] C=1.0 ...........................................................\n",
      "[CV] ............................................ C=0.1, total=  16.2s\n",
      "[CV] C=1.0 ...........................................................\n",
      "[CV] ............................................ C=0.1, total=  15.1s\n",
      "[CV] C=1.0 ...........................................................\n",
      "[CV] ............................................ C=0.1, total=  17.7s\n",
      "[CV] C=1.0 ...........................................................\n",
      "[CV] ............................................ C=0.1, total=  16.2s\n",
      "[CV] C=1.0 ...........................................................\n",
      "[CV] ............................................ C=0.1, total=  15.3s\n",
      "[CV] C=1.0 ...........................................................\n",
      "[CV] ............................................ C=0.1, total=  17.2s\n",
      "[CV] C=1.0 ...........................................................\n",
      "[CV] ............................................ C=0.1, total=  15.6s\n",
      "[CV] C=1.0 ...........................................................\n",
      "[CV] ............................................ C=1.0, total=  15.6s\n",
      "[CV] C=1.0 ...........................................................\n",
      "[CV] ............................................ C=1.0, total=  15.3s\n",
      "[CV] C=1.0 ...........................................................\n",
      "[CV] ............................................ C=1.0, total=  16.0s\n",
      "[CV] C=10.0 ..........................................................\n",
      "[CV] ............................................ C=1.0, total=  15.5s\n",
      "[CV] C=10.0 ..........................................................\n",
      "[CV] ............................................ C=1.0, total=  15.4s\n",
      "[CV] C=10.0 ..........................................................\n",
      "[CV] ............................................ C=1.0, total=  15.8s\n",
      "[CV] C=10.0 ..........................................................\n",
      "[CV] ............................................ C=1.0, total=  17.0s\n",
      "[CV] C=10.0 ..........................................................\n",
      "[CV] ............................................ C=1.0, total=  15.6s\n",
      "[CV] C=10.0 ..........................................................\n",
      "[CV] ............................................ C=1.0, total=  17.5s\n",
      "[CV] C=10.0 ..........................................................\n",
      "[CV] ............................................ C=1.0, total=  14.2s\n",
      "[CV] C=10.0 ..........................................................\n",
      "[CV] ........................................... C=10.0, total=  15.7s\n",
      "[CV] C=10.0 ..........................................................\n",
      "[CV] ........................................... C=10.0, total=  14.7s\n",
      "[CV] C=10.0 ..........................................................\n",
      "[CV] ........................................... C=10.0, total=  18.7s\n",
      "[CV] C=100.0 .........................................................\n",
      "[CV] ........................................... C=10.0, total=  15.8s\n",
      "[CV] C=100.0 .........................................................\n",
      "[CV] ........................................... C=10.0, total=  16.2s\n",
      "[CV] C=100.0 .........................................................\n",
      "[CV] ........................................... C=10.0, total=  16.5s\n",
      "[CV] C=100.0 .........................................................\n",
      "[CV] ........................................... C=10.0, total=  16.3s\n",
      "[CV] C=100.0 .........................................................\n",
      "[CV] ........................................... C=10.0, total=  16.9s\n",
      "[CV] C=100.0 .........................................................\n",
      "[CV] ........................................... C=10.0, total=  15.2s\n",
      "[CV] C=100.0 .........................................................\n",
      "[CV] ........................................... C=10.0, total=  14.1s\n",
      "[CV] C=100.0 .........................................................\n",
      "[CV] .......................................... C=100.0, total=  15.5s\n",
      "[CV] C=100.0 .........................................................\n",
      "[CV] .......................................... C=100.0, total=  17.5s\n",
      "[CV] C=100.0 .........................................................\n",
      "[CV] .......................................... C=100.0, total=  15.1s\n",
      "[CV] C=1000.0 ........................................................\n",
      "[CV] .......................................... C=100.0, total=  15.2s\n",
      "[CV] C=1000.0 ........................................................\n",
      "[CV] .......................................... C=100.0, total=  19.5s\n",
      "[CV] C=1000.0 ........................................................\n",
      "[CV] .......................................... C=100.0, total=  16.1s\n",
      "[CV] C=1000.0 ........................................................\n",
      "[CV] .......................................... C=100.0, total=  16.2s\n",
      "[CV] C=1000.0 ........................................................\n",
      "[CV] .......................................... C=100.0, total=  16.6s\n",
      "[CV] C=1000.0 ........................................................\n",
      "[CV] .......................................... C=100.0, total=  18.1s\n",
      "[CV] C=1000.0 ........................................................\n",
      "[CV] .......................................... C=100.0, total=  15.5s\n",
      "[CV] C=1000.0 ........................................................\n",
      "[CV] ......................................... C=1000.0, total=  15.9s\n",
      "[CV] C=1000.0 ........................................................\n",
      "[CV] ......................................... C=1000.0, total=  16.1s\n",
      "[CV] C=1000.0 ........................................................\n",
      "[CV] ......................................... C=1000.0, total=  15.9s\n",
      "[CV] C=10000.0 .......................................................\n",
      "[CV] ......................................... C=1000.0, total=  16.4s\n",
      "[CV] C=10000.0 .......................................................\n",
      "[CV] ......................................... C=1000.0, total=  16.4s\n",
      "[CV] C=10000.0 .......................................................\n",
      "[CV] ......................................... C=1000.0, total=  16.0s\n",
      "[CV] C=10000.0 .......................................................\n",
      "[CV] ......................................... C=1000.0, total=  16.0s\n",
      "[CV] C=10000.0 .......................................................\n",
      "[CV] ......................................... C=1000.0, total=  16.4s\n",
      "[CV] C=10000.0 .......................................................\n",
      "[CV] ......................................... C=1000.0, total=  14.2s\n",
      "[CV] C=10000.0 .......................................................\n",
      "[CV] ......................................... C=1000.0, total=  17.3s\n",
      "[CV] C=10000.0 .......................................................\n",
      "[CV] ........................................ C=10000.0, total=  15.8s\n",
      "[CV] C=10000.0 .......................................................\n",
      "[CV] ........................................ C=10000.0, total=  15.0s\n",
      "[CV] C=10000.0 .......................................................\n",
      "[CV] ........................................ C=10000.0, total=  16.6s\n",
      "[CV] ........................................ C=10000.0, total=  16.0s\n"
     ]
    },
    {
     "name": "stdout",
     "output_type": "stream",
     "text": [
      "[CV] ........................................ C=10000.0, total=  17.5s\n",
      "[CV] ........................................ C=10000.0, total=  15.8s\n",
      "[CV] ........................................ C=10000.0, total=  15.6s\n",
      "[CV] ........................................ C=10000.0, total=  15.4s\n",
      "[CV] ........................................ C=10000.0, total=  15.3s\n",
      "[CV] ........................................ C=10000.0, total=  14.2s\n"
     ]
    },
    {
     "name": "stderr",
     "output_type": "stream",
     "text": [
      "[Parallel(n_jobs=8)]: Done  90 out of  90 | elapsed:  3.0min finished\n"
     ]
    },
    {
     "data": {
      "text/plain": [
       "GridSearchCV(cv=10, error_score='raise',\n",
       "       estimator=LogisticRegression(C=1.0, class_weight={0: 5, 1: 1}, dual=False,\n",
       "          fit_intercept=True, intercept_scaling=1, max_iter=100,\n",
       "          multi_class='ovr', n_jobs=1, penalty='l2', random_state=42,\n",
       "          solver='saga', tol=0.0001, verbose=0, warm_start=False),\n",
       "       fit_params=None, iid=True, n_jobs=8,\n",
       "       param_grid={'C': [0.0001, 0.001, 0.01, 0.1, 1.0, 10.0, 100.0, 1000.0, 10000.0]},\n",
       "       pre_dispatch='2*n_jobs', refit='f1', return_train_score=True,\n",
       "       scoring={'recall', 'accuracy', 'f1', 'precision'}, verbose=2)"
      ]
     },
     "execution_count": 107,
     "metadata": {},
     "output_type": "execute_result"
    }
   ],
   "source": [
    "grid.fit(features, labels)"
   ]
  },
  {
   "cell_type": "code",
   "execution_count": 108,
   "metadata": {},
   "outputs": [],
   "source": [
    "from collections import defaultdict"
   ]
  },
  {
   "cell_type": "code",
   "execution_count": 109,
   "metadata": {},
   "outputs": [],
   "source": [
    "def get_summary(grid):\n",
    "    parms = list(grid.param_grid.keys())\n",
    "    columns = ['Iter #']\n",
    "    scorings = grid.scoring\n",
    "    for scoring in scorings:\n",
    "        for typ in ['train', 'test']:\n",
    "            columns.append(f'{typ}_{scoring}')\n",
    "    columns.extend(['fit_time', 'score_time'])\n",
    "    for param in grid.param_grid.keys():\n",
    "        columns.append(param)\n",
    "    df = pd.DataFrame(columns=columns)\n",
    "    cv_res = grid.cv_results_\n",
    "    for col in columns[1:-len(parms)]:\n",
    "        df[col] = cv_res['mean_' + col]\n",
    "    items = 1\n",
    "    for k, v in grid.param_grid.items():\n",
    "        items *= len(v)\n",
    "    df['Iter #'] = np.array(range(items)) + 1\n",
    "    res = defaultdict(list)\n",
    "    for each in grid.cv_results_['params']:\n",
    "        for p in parms:\n",
    "            res[p].append(each[p])\n",
    "    for k, v in res.items():\n",
    "        df[k] = v\n",
    "    return df"
   ]
  },
  {
   "cell_type": "code",
   "execution_count": 110,
   "metadata": {},
   "outputs": [
    {
     "data": {
      "text/html": [
       "<div>\n",
       "<style scoped>\n",
       "    .dataframe tbody tr th:only-of-type {\n",
       "        vertical-align: middle;\n",
       "    }\n",
       "\n",
       "    .dataframe tbody tr th {\n",
       "        vertical-align: top;\n",
       "    }\n",
       "\n",
       "    .dataframe thead th {\n",
       "        text-align: right;\n",
       "    }\n",
       "</style>\n",
       "<table border=\"1\" class=\"dataframe\">\n",
       "  <thead>\n",
       "    <tr style=\"text-align: right;\">\n",
       "      <th></th>\n",
       "      <th>Iter #</th>\n",
       "      <th>train_recall</th>\n",
       "      <th>test_recall</th>\n",
       "      <th>train_accuracy</th>\n",
       "      <th>test_accuracy</th>\n",
       "      <th>train_f1</th>\n",
       "      <th>test_f1</th>\n",
       "      <th>train_precision</th>\n",
       "      <th>test_precision</th>\n",
       "      <th>fit_time</th>\n",
       "      <th>score_time</th>\n",
       "      <th>C</th>\n",
       "    </tr>\n",
       "  </thead>\n",
       "  <tbody>\n",
       "    <tr>\n",
       "      <th>0</th>\n",
       "      <td>1</td>\n",
       "      <td>0.841958</td>\n",
       "      <td>0.841893</td>\n",
       "      <td>0.835128</td>\n",
       "      <td>0.834998</td>\n",
       "      <td>0.896799</td>\n",
       "      <td>0.896672</td>\n",
       "      <td>0.959283</td>\n",
       "      <td>0.959249</td>\n",
       "      <td>8.673930</td>\n",
       "      <td>0.113013</td>\n",
       "      <td>0.0001</td>\n",
       "    </tr>\n",
       "    <tr>\n",
       "      <th>1</th>\n",
       "      <td>2</td>\n",
       "      <td>0.839364</td>\n",
       "      <td>0.838942</td>\n",
       "      <td>0.834608</td>\n",
       "      <td>0.834111</td>\n",
       "      <td>0.896221</td>\n",
       "      <td>0.895852</td>\n",
       "      <td>0.961340</td>\n",
       "      <td>0.961205</td>\n",
       "      <td>12.277890</td>\n",
       "      <td>0.068625</td>\n",
       "      <td>0.0010</td>\n",
       "    </tr>\n",
       "    <tr>\n",
       "      <th>2</th>\n",
       "      <td>3</td>\n",
       "      <td>0.838597</td>\n",
       "      <td>0.838162</td>\n",
       "      <td>0.834298</td>\n",
       "      <td>0.833692</td>\n",
       "      <td>0.895961</td>\n",
       "      <td>0.895532</td>\n",
       "      <td>0.961750</td>\n",
       "      <td>0.961487</td>\n",
       "      <td>14.886162</td>\n",
       "      <td>0.062169</td>\n",
       "      <td>0.0100</td>\n",
       "    </tr>\n",
       "    <tr>\n",
       "      <th>3</th>\n",
       "      <td>4</td>\n",
       "      <td>0.838481</td>\n",
       "      <td>0.837978</td>\n",
       "      <td>0.834223</td>\n",
       "      <td>0.833582</td>\n",
       "      <td>0.895906</td>\n",
       "      <td>0.895451</td>\n",
       "      <td>0.961774</td>\n",
       "      <td>0.961540</td>\n",
       "      <td>16.083658</td>\n",
       "      <td>0.066572</td>\n",
       "      <td>0.1000</td>\n",
       "    </tr>\n",
       "    <tr>\n",
       "      <th>4</th>\n",
       "      <td>5</td>\n",
       "      <td>0.838462</td>\n",
       "      <td>0.837978</td>\n",
       "      <td>0.834211</td>\n",
       "      <td>0.833582</td>\n",
       "      <td>0.895897</td>\n",
       "      <td>0.895450</td>\n",
       "      <td>0.961780</td>\n",
       "      <td>0.961540</td>\n",
       "      <td>15.715493</td>\n",
       "      <td>0.075494</td>\n",
       "      <td>1.0000</td>\n",
       "    </tr>\n",
       "    <tr>\n",
       "      <th>5</th>\n",
       "      <td>6</td>\n",
       "      <td>0.838460</td>\n",
       "      <td>0.837982</td>\n",
       "      <td>0.834210</td>\n",
       "      <td>0.833582</td>\n",
       "      <td>0.895896</td>\n",
       "      <td>0.895451</td>\n",
       "      <td>0.961781</td>\n",
       "      <td>0.961535</td>\n",
       "      <td>15.964543</td>\n",
       "      <td>0.068058</td>\n",
       "      <td>10.0000</td>\n",
       "    </tr>\n",
       "    <tr>\n",
       "      <th>6</th>\n",
       "      <td>7</td>\n",
       "      <td>0.838460</td>\n",
       "      <td>0.837982</td>\n",
       "      <td>0.834210</td>\n",
       "      <td>0.833582</td>\n",
       "      <td>0.895897</td>\n",
       "      <td>0.895451</td>\n",
       "      <td>0.961781</td>\n",
       "      <td>0.961535</td>\n",
       "      <td>16.473803</td>\n",
       "      <td>0.057097</td>\n",
       "      <td>100.0000</td>\n",
       "    </tr>\n",
       "    <tr>\n",
       "      <th>7</th>\n",
       "      <td>8</td>\n",
       "      <td>0.838460</td>\n",
       "      <td>0.837982</td>\n",
       "      <td>0.834210</td>\n",
       "      <td>0.833582</td>\n",
       "      <td>0.895897</td>\n",
       "      <td>0.895451</td>\n",
       "      <td>0.961781</td>\n",
       "      <td>0.961535</td>\n",
       "      <td>15.984305</td>\n",
       "      <td>0.076914</td>\n",
       "      <td>1000.0000</td>\n",
       "    </tr>\n",
       "    <tr>\n",
       "      <th>8</th>\n",
       "      <td>9</td>\n",
       "      <td>0.838460</td>\n",
       "      <td>0.837982</td>\n",
       "      <td>0.834210</td>\n",
       "      <td>0.833582</td>\n",
       "      <td>0.895897</td>\n",
       "      <td>0.895451</td>\n",
       "      <td>0.961781</td>\n",
       "      <td>0.961535</td>\n",
       "      <td>15.655957</td>\n",
       "      <td>0.059825</td>\n",
       "      <td>10000.0000</td>\n",
       "    </tr>\n",
       "  </tbody>\n",
       "</table>\n",
       "</div>"
      ],
      "text/plain": [
       "   Iter #  train_recall  test_recall  train_accuracy  test_accuracy  train_f1  \\\n",
       "0       1      0.841958     0.841893        0.835128       0.834998  0.896799   \n",
       "1       2      0.839364     0.838942        0.834608       0.834111  0.896221   \n",
       "2       3      0.838597     0.838162        0.834298       0.833692  0.895961   \n",
       "3       4      0.838481     0.837978        0.834223       0.833582  0.895906   \n",
       "4       5      0.838462     0.837978        0.834211       0.833582  0.895897   \n",
       "5       6      0.838460     0.837982        0.834210       0.833582  0.895896   \n",
       "6       7      0.838460     0.837982        0.834210       0.833582  0.895897   \n",
       "7       8      0.838460     0.837982        0.834210       0.833582  0.895897   \n",
       "8       9      0.838460     0.837982        0.834210       0.833582  0.895897   \n",
       "\n",
       "    test_f1  train_precision  test_precision   fit_time  score_time  \\\n",
       "0  0.896672         0.959283        0.959249   8.673930    0.113013   \n",
       "1  0.895852         0.961340        0.961205  12.277890    0.068625   \n",
       "2  0.895532         0.961750        0.961487  14.886162    0.062169   \n",
       "3  0.895451         0.961774        0.961540  16.083658    0.066572   \n",
       "4  0.895450         0.961780        0.961540  15.715493    0.075494   \n",
       "5  0.895451         0.961781        0.961535  15.964543    0.068058   \n",
       "6  0.895451         0.961781        0.961535  16.473803    0.057097   \n",
       "7  0.895451         0.961781        0.961535  15.984305    0.076914   \n",
       "8  0.895451         0.961781        0.961535  15.655957    0.059825   \n",
       "\n",
       "            C  \n",
       "0      0.0001  \n",
       "1      0.0010  \n",
       "2      0.0100  \n",
       "3      0.1000  \n",
       "4      1.0000  \n",
       "5     10.0000  \n",
       "6    100.0000  \n",
       "7   1000.0000  \n",
       "8  10000.0000  "
      ]
     },
     "execution_count": 110,
     "metadata": {},
     "output_type": "execute_result"
    }
   ],
   "source": [
    "get_summary(grid)"
   ]
  },
  {
   "cell_type": "code",
   "execution_count": 111,
   "metadata": {},
   "outputs": [
    {
     "data": {
      "text/plain": [
       "LogisticRegression(C=0.0001, class_weight={0: 5, 1: 1}, dual=False,\n",
       "          fit_intercept=True, intercept_scaling=1, max_iter=100,\n",
       "          multi_class='ovr', n_jobs=1, penalty='l2', random_state=42,\n",
       "          solver='saga', tol=0.0001, verbose=0, warm_start=False)"
      ]
     },
     "execution_count": 111,
     "metadata": {},
     "output_type": "execute_result"
    }
   ],
   "source": [
    "grid.best_estimator_"
   ]
  },
  {
   "cell_type": "markdown",
   "metadata": {},
   "source": [
    "Stange the class weights didn't imporove the recall and f1 score but it drastically improved the precision. Lets try decresing the penalty of negative class see if it improves"
   ]
  },
  {
   "cell_type": "code",
   "execution_count": 113,
   "metadata": {},
   "outputs": [],
   "source": [
    "estimator = LogisticRegression(random_state=42, class_weight={0: 3, 1: 1}, solver='saga')"
   ]
  },
  {
   "cell_type": "code",
   "execution_count": 114,
   "metadata": {},
   "outputs": [],
   "source": [
    "grid = GridSearchCV(estimator=estimator,\n",
    "                    param_grid=params,\n",
    "                    scoring={'accuracy', 'precision', 'f1', 'recall'},\n",
    "                    refit='f1', # Because we are using multiple evaluation metrics\n",
    "                    cv=10,\n",
    "                    return_train_score=True,\n",
    "                    verbose=2,\n",
    "                    n_jobs=8)  ## Using only 8 cores out of 12 cores"
   ]
  },
  {
   "cell_type": "code",
   "execution_count": 115,
   "metadata": {
    "scrolled": true
   },
   "outputs": [
    {
     "name": "stdout",
     "output_type": "stream",
     "text": [
      "Fitting 10 folds for each of 9 candidates, totalling 90 fits\n",
      "[CV] C=0.0001 ........................................................\n",
      "[CV] C=0.0001 ........................................................\n",
      "[CV] C=0.0001 ........................................................\n",
      "[CV] C=0.0001 ........................................................\n",
      "[CV] C=0.0001 ........................................................\n",
      "[CV] C=0.0001 ........................................................\n",
      "[CV] C=0.0001 ........................................................\n",
      "[CV] C=0.0001 ........................................................\n",
      "[CV] ......................................... C=0.0001, total=   7.3s\n",
      "[CV] C=0.0001 ........................................................\n",
      "[CV] ......................................... C=0.0001, total=   7.3s\n",
      "[CV] C=0.0001 ........................................................\n",
      "[CV] ......................................... C=0.0001, total=   7.9s\n",
      "[CV] C=0.001 .........................................................\n",
      "[CV] ......................................... C=0.0001, total=   8.1s\n",
      "[CV] C=0.001 .........................................................\n",
      "[CV] ......................................... C=0.0001, total=   8.8s\n",
      "[CV] C=0.001 .........................................................\n",
      "[CV] ......................................... C=0.0001, total=   8.9s\n",
      "[CV] C=0.001 .........................................................\n",
      "[CV] ......................................... C=0.0001, total=   9.8s\n",
      "[CV] C=0.001 .........................................................\n",
      "[CV] ......................................... C=0.0001, total=   9.9s\n",
      "[CV] C=0.001 .........................................................\n",
      "[CV] ......................................... C=0.0001, total=   8.4s\n",
      "[CV] C=0.001 .........................................................\n",
      "[CV] ......................................... C=0.0001, total=  10.0s\n",
      "[CV] C=0.001 .........................................................\n",
      "[CV] .......................................... C=0.001, total=  14.0s\n",
      "[CV] C=0.001 .........................................................\n",
      "[CV] .......................................... C=0.001, total=  13.8s\n",
      "[CV] C=0.001 .........................................................\n",
      "[CV] .......................................... C=0.001, total=  14.4s\n",
      "[CV] C=0.01 ..........................................................\n",
      "[CV] .......................................... C=0.001, total=  14.1s\n",
      "[CV] .......................................... C=0.001, total=  13.5s\n",
      "[CV] C=0.01 ..........................................................\n",
      "[CV] .......................................... C=0.001, total=  13.1s\n",
      "[CV] C=0.01 ..........................................................\n",
      "[CV] C=0.01 ..........................................................\n",
      "[CV] .......................................... C=0.001, total=  12.4s\n",
      "[CV] C=0.01 ..........................................................\n",
      "[CV] .......................................... C=0.001, total=  13.5s\n",
      "[CV] C=0.01 ..........................................................\n",
      "[CV] .......................................... C=0.001, total=  14.0s\n",
      "[CV] C=0.01 ..........................................................\n",
      "[CV] .......................................... C=0.001, total=  13.0s\n",
      "[CV] C=0.01 ..........................................................\n",
      "[CV] ........................................... C=0.01, total=  18.4s\n",
      "[CV] C=0.01 ..........................................................\n",
      "[CV] ........................................... C=0.01, total=  17.2s\n",
      "[CV] C=0.01 ..........................................................\n",
      "[CV] ........................................... C=0.01, total=  18.2s\n",
      "[CV] C=0.1 ...........................................................\n",
      "[CV] ........................................... C=0.01, total=  18.2s\n",
      "[CV] C=0.1 ...........................................................\n",
      "[CV] ........................................... C=0.01, total=  18.4s\n",
      "[CV] C=0.1 ...........................................................\n"
     ]
    },
    {
     "name": "stderr",
     "output_type": "stream",
     "text": [
      "[Parallel(n_jobs=8)]: Done  25 tasks      | elapsed:   50.1s\n"
     ]
    },
    {
     "name": "stdout",
     "output_type": "stream",
     "text": [
      "[CV] ........................................... C=0.01, total=  17.4s\n",
      "[CV] C=0.1 ...........................................................\n",
      "[CV] ........................................... C=0.01, total=  18.0s\n",
      "[CV] C=0.1 ...........................................................\n",
      "[CV] ........................................... C=0.01, total=  18.2s\n",
      "[CV] C=0.1 ...........................................................\n",
      "[CV] ........................................... C=0.01, total=  18.2s\n",
      "[CV] C=0.1 ...........................................................\n",
      "[CV] ........................................... C=0.01, total=  18.1s\n",
      "[CV] C=0.1 ...........................................................\n",
      "[CV] ............................................ C=0.1, total=  18.5s\n",
      "[CV] C=0.1 ...........................................................\n",
      "[CV] ............................................ C=0.1, total=  20.1s\n",
      "[CV] C=0.1 ...........................................................\n",
      "[CV] ............................................ C=0.1, total=  19.5s\n",
      "[CV] C=1.0 ...........................................................\n",
      "[CV] ............................................ C=0.1, total=  20.3s\n",
      "[CV] C=1.0 ...........................................................\n",
      "[CV] ............................................ C=0.1, total=  19.1s\n",
      "[CV] C=1.0 ...........................................................\n",
      "[CV] ............................................ C=0.1, total=  20.1s\n",
      "[CV] C=1.0 ...........................................................\n",
      "[CV] ............................................ C=0.1, total=  18.7s\n",
      "[CV] C=1.0 ...........................................................\n",
      "[CV] ............................................ C=0.1, total=  19.2s\n",
      "[CV] C=1.0 ...........................................................\n",
      "[CV] ............................................ C=0.1, total=  18.4s\n",
      "[CV] C=1.0 ...........................................................\n",
      "[CV] ............................................ C=0.1, total=  18.9s\n",
      "[CV] C=1.0 ...........................................................\n",
      "[CV] ............................................ C=1.0, total=  18.9s\n",
      "[CV] C=1.0 ...........................................................\n",
      "[CV] ............................................ C=1.0, total=  18.2s\n",
      "[CV] C=1.0 ...........................................................\n",
      "[CV] ............................................ C=1.0, total=  19.0s\n",
      "[CV] C=10.0 ..........................................................\n",
      "[CV] ............................................ C=1.0, total=  20.9s\n",
      "[CV] C=10.0 ..........................................................\n",
      "[CV] ............................................ C=1.0, total=  19.8s\n",
      "[CV] C=10.0 ..........................................................\n",
      "[CV] ............................................ C=1.0, total=  20.9s\n",
      "[CV] C=10.0 ..........................................................\n",
      "[CV] ............................................ C=1.0, total=  20.2s\n",
      "[CV] C=10.0 ..........................................................\n",
      "[CV] ............................................ C=1.0, total=  19.9s\n",
      "[CV] C=10.0 ..........................................................\n",
      "[CV] ............................................ C=1.0, total=  17.5s\n",
      "[CV] C=10.0 ..........................................................\n",
      "[CV] ............................................ C=1.0, total=  19.3s\n",
      "[CV] C=10.0 ..........................................................\n",
      "[CV] ........................................... C=10.0, total=  19.5s\n",
      "[CV] C=10.0 ..........................................................\n",
      "[CV] ........................................... C=10.0, total=  20.3s\n",
      "[CV] C=10.0 ..........................................................\n",
      "[CV] ........................................... C=10.0, total=  19.6s\n",
      "[CV] C=100.0 .........................................................\n",
      "[CV] ........................................... C=10.0, total=  19.1s\n",
      "[CV] C=100.0 .........................................................\n",
      "[CV] ........................................... C=10.0, total=  19.5s\n",
      "[CV] C=100.0 .........................................................\n",
      "[CV] ........................................... C=10.0, total=  20.8s\n",
      "[CV] C=100.0 .........................................................\n",
      "[CV] ........................................... C=10.0, total=  19.1s\n",
      "[CV] C=100.0 .........................................................\n",
      "[CV] ........................................... C=10.0, total=  20.3s\n",
      "[CV] C=100.0 .........................................................\n",
      "[CV] ........................................... C=10.0, total=  18.0s\n",
      "[CV] C=100.0 .........................................................\n",
      "[CV] ........................................... C=10.0, total=  20.3s\n",
      "[CV] C=100.0 .........................................................\n",
      "[CV] .......................................... C=100.0, total=  19.4s\n",
      "[CV] C=100.0 .........................................................\n",
      "[CV] .......................................... C=100.0, total=  20.5s\n",
      "[CV] C=100.0 .........................................................\n",
      "[CV] .......................................... C=100.0, total=  18.5s\n",
      "[CV] C=1000.0 ........................................................\n",
      "[CV] .......................................... C=100.0, total=  19.7s\n",
      "[CV] C=1000.0 ........................................................\n",
      "[CV] .......................................... C=100.0, total=  20.6s\n",
      "[CV] C=1000.0 ........................................................\n",
      "[CV] .......................................... C=100.0, total=  21.3s\n",
      "[CV] C=1000.0 ........................................................\n",
      "[CV] .......................................... C=100.0, total=  19.1s\n",
      "[CV] C=1000.0 ........................................................\n",
      "[CV] .......................................... C=100.0, total=  19.9s\n",
      "[CV] C=1000.0 ........................................................\n",
      "[CV] .......................................... C=100.0, total=  19.5s\n",
      "[CV] C=1000.0 ........................................................\n",
      "[CV] .......................................... C=100.0, total=  18.8s\n",
      "[CV] C=1000.0 ........................................................\n",
      "[CV] ......................................... C=1000.0, total=  18.5s\n",
      "[CV] C=1000.0 ........................................................\n",
      "[CV] ......................................... C=1000.0, total=  20.8s\n",
      "[CV] C=1000.0 ........................................................\n",
      "[CV] ......................................... C=1000.0, total=  19.4s\n",
      "[CV] C=10000.0 .......................................................\n",
      "[CV] ......................................... C=1000.0, total=  21.3s\n",
      "[CV] C=10000.0 .......................................................\n",
      "[CV] ......................................... C=1000.0, total=  19.6s\n",
      "[CV] C=10000.0 .......................................................\n",
      "[CV] ......................................... C=1000.0, total=  21.4s\n",
      "[CV] C=10000.0 .......................................................\n",
      "[CV] ......................................... C=1000.0, total=  20.6s\n",
      "[CV] C=10000.0 .......................................................\n",
      "[CV] ......................................... C=1000.0, total=  19.8s\n",
      "[CV] C=10000.0 .......................................................\n",
      "[CV] ......................................... C=1000.0, total=  19.7s\n",
      "[CV] C=10000.0 .......................................................\n",
      "[CV] ......................................... C=1000.0, total=  19.5s\n",
      "[CV] C=10000.0 .......................................................\n",
      "[CV] ........................................ C=10000.0, total=  20.0s\n",
      "[CV] C=10000.0 .......................................................\n",
      "[CV] ........................................ C=10000.0, total=  20.5s\n",
      "[CV] C=10000.0 .......................................................\n",
      "[CV] ........................................ C=10000.0, total=  19.5s\n",
      "[CV] ........................................ C=10000.0, total=  19.7s\n"
     ]
    },
    {
     "name": "stdout",
     "output_type": "stream",
     "text": [
      "[CV] ........................................ C=10000.0, total=  19.1s\n",
      "[CV] ........................................ C=10000.0, total=  18.7s\n",
      "[CV] ........................................ C=10000.0, total=  20.1s\n",
      "[CV] ........................................ C=10000.0, total=  18.0s\n",
      "[CV] ........................................ C=10000.0, total=  16.6s\n",
      "[CV] ........................................ C=10000.0, total=  18.1s\n"
     ]
    },
    {
     "name": "stderr",
     "output_type": "stream",
     "text": [
      "[Parallel(n_jobs=8)]: Done  90 out of  90 | elapsed:  3.5min finished\n"
     ]
    },
    {
     "data": {
      "text/plain": [
       "GridSearchCV(cv=10, error_score='raise',\n",
       "       estimator=LogisticRegression(C=1.0, class_weight={0: 3, 1: 1}, dual=False,\n",
       "          fit_intercept=True, intercept_scaling=1, max_iter=100,\n",
       "          multi_class='ovr', n_jobs=1, penalty='l2', random_state=42,\n",
       "          solver='saga', tol=0.0001, verbose=0, warm_start=False),\n",
       "       fit_params=None, iid=True, n_jobs=8,\n",
       "       param_grid={'C': [0.0001, 0.001, 0.01, 0.1, 1.0, 10.0, 100.0, 1000.0, 10000.0]},\n",
       "       pre_dispatch='2*n_jobs', refit='f1', return_train_score=True,\n",
       "       scoring={'recall', 'accuracy', 'f1', 'precision'}, verbose=2)"
      ]
     },
     "execution_count": 115,
     "metadata": {},
     "output_type": "execute_result"
    }
   ],
   "source": [
    "grid.fit(features, labels)"
   ]
  },
  {
   "cell_type": "code",
   "execution_count": 116,
   "metadata": {},
   "outputs": [
    {
     "data": {
      "text/html": [
       "<div>\n",
       "<style scoped>\n",
       "    .dataframe tbody tr th:only-of-type {\n",
       "        vertical-align: middle;\n",
       "    }\n",
       "\n",
       "    .dataframe tbody tr th {\n",
       "        vertical-align: top;\n",
       "    }\n",
       "\n",
       "    .dataframe thead th {\n",
       "        text-align: right;\n",
       "    }\n",
       "</style>\n",
       "<table border=\"1\" class=\"dataframe\">\n",
       "  <thead>\n",
       "    <tr style=\"text-align: right;\">\n",
       "      <th></th>\n",
       "      <th>Iter #</th>\n",
       "      <th>train_recall</th>\n",
       "      <th>test_recall</th>\n",
       "      <th>train_accuracy</th>\n",
       "      <th>test_accuracy</th>\n",
       "      <th>train_f1</th>\n",
       "      <th>test_f1</th>\n",
       "      <th>train_precision</th>\n",
       "      <th>test_precision</th>\n",
       "      <th>fit_time</th>\n",
       "      <th>score_time</th>\n",
       "      <th>C</th>\n",
       "    </tr>\n",
       "  </thead>\n",
       "  <tbody>\n",
       "    <tr>\n",
       "      <th>0</th>\n",
       "      <td>1</td>\n",
       "      <td>0.916767</td>\n",
       "      <td>0.916600</td>\n",
       "      <td>0.876595</td>\n",
       "      <td>0.876358</td>\n",
       "      <td>0.926694</td>\n",
       "      <td>0.926528</td>\n",
       "      <td>0.936838</td>\n",
       "      <td>0.936789</td>\n",
       "      <td>8.529412</td>\n",
       "      <td>0.128212</td>\n",
       "      <td>0.0001</td>\n",
       "    </tr>\n",
       "    <tr>\n",
       "      <th>1</th>\n",
       "      <td>2</td>\n",
       "      <td>0.905421</td>\n",
       "      <td>0.905077</td>\n",
       "      <td>0.873878</td>\n",
       "      <td>0.873408</td>\n",
       "      <td>0.924334</td>\n",
       "      <td>0.924021</td>\n",
       "      <td>0.944054</td>\n",
       "      <td>0.943892</td>\n",
       "      <td>13.508412</td>\n",
       "      <td>0.075851</td>\n",
       "      <td>0.0010</td>\n",
       "    </tr>\n",
       "    <tr>\n",
       "      <th>2</th>\n",
       "      <td>3</td>\n",
       "      <td>0.902713</td>\n",
       "      <td>0.902508</td>\n",
       "      <td>0.872734</td>\n",
       "      <td>0.872376</td>\n",
       "      <td>0.923488</td>\n",
       "      <td>0.923248</td>\n",
       "      <td>0.945243</td>\n",
       "      <td>0.945078</td>\n",
       "      <td>17.967196</td>\n",
       "      <td>0.065255</td>\n",
       "      <td>0.0100</td>\n",
       "    </tr>\n",
       "    <tr>\n",
       "      <th>3</th>\n",
       "      <td>4</td>\n",
       "      <td>0.902276</td>\n",
       "      <td>0.901946</td>\n",
       "      <td>0.872497</td>\n",
       "      <td>0.872047</td>\n",
       "      <td>0.923323</td>\n",
       "      <td>0.923021</td>\n",
       "      <td>0.945374</td>\n",
       "      <td>0.945218</td>\n",
       "      <td>19.205624</td>\n",
       "      <td>0.077475</td>\n",
       "      <td>0.1000</td>\n",
       "    </tr>\n",
       "    <tr>\n",
       "      <th>4</th>\n",
       "      <td>5</td>\n",
       "      <td>0.902232</td>\n",
       "      <td>0.901927</td>\n",
       "      <td>0.872474</td>\n",
       "      <td>0.872043</td>\n",
       "      <td>0.923307</td>\n",
       "      <td>0.923017</td>\n",
       "      <td>0.945389</td>\n",
       "      <td>0.945231</td>\n",
       "      <td>19.375408</td>\n",
       "      <td>0.075823</td>\n",
       "      <td>1.0000</td>\n",
       "    </tr>\n",
       "    <tr>\n",
       "      <th>5</th>\n",
       "      <td>6</td>\n",
       "      <td>0.902222</td>\n",
       "      <td>0.901932</td>\n",
       "      <td>0.872466</td>\n",
       "      <td>0.872047</td>\n",
       "      <td>0.923301</td>\n",
       "      <td>0.923020</td>\n",
       "      <td>0.945389</td>\n",
       "      <td>0.945231</td>\n",
       "      <td>19.536902</td>\n",
       "      <td>0.105512</td>\n",
       "      <td>10.0000</td>\n",
       "    </tr>\n",
       "    <tr>\n",
       "      <th>6</th>\n",
       "      <td>7</td>\n",
       "      <td>0.902221</td>\n",
       "      <td>0.901927</td>\n",
       "      <td>0.872465</td>\n",
       "      <td>0.872043</td>\n",
       "      <td>0.923301</td>\n",
       "      <td>0.923017</td>\n",
       "      <td>0.945389</td>\n",
       "      <td>0.945231</td>\n",
       "      <td>19.664502</td>\n",
       "      <td>0.083058</td>\n",
       "      <td>100.0000</td>\n",
       "    </tr>\n",
       "    <tr>\n",
       "      <th>7</th>\n",
       "      <td>8</td>\n",
       "      <td>0.902221</td>\n",
       "      <td>0.901927</td>\n",
       "      <td>0.872465</td>\n",
       "      <td>0.872043</td>\n",
       "      <td>0.923301</td>\n",
       "      <td>0.923017</td>\n",
       "      <td>0.945389</td>\n",
       "      <td>0.945231</td>\n",
       "      <td>19.985861</td>\n",
       "      <td>0.077017</td>\n",
       "      <td>1000.0000</td>\n",
       "    </tr>\n",
       "    <tr>\n",
       "      <th>8</th>\n",
       "      <td>9</td>\n",
       "      <td>0.902221</td>\n",
       "      <td>0.901927</td>\n",
       "      <td>0.872465</td>\n",
       "      <td>0.872043</td>\n",
       "      <td>0.923301</td>\n",
       "      <td>0.923017</td>\n",
       "      <td>0.945389</td>\n",
       "      <td>0.945231</td>\n",
       "      <td>18.953875</td>\n",
       "      <td>0.060605</td>\n",
       "      <td>10000.0000</td>\n",
       "    </tr>\n",
       "  </tbody>\n",
       "</table>\n",
       "</div>"
      ],
      "text/plain": [
       "   Iter #  train_recall  test_recall  train_accuracy  test_accuracy  train_f1  \\\n",
       "0       1      0.916767     0.916600        0.876595       0.876358  0.926694   \n",
       "1       2      0.905421     0.905077        0.873878       0.873408  0.924334   \n",
       "2       3      0.902713     0.902508        0.872734       0.872376  0.923488   \n",
       "3       4      0.902276     0.901946        0.872497       0.872047  0.923323   \n",
       "4       5      0.902232     0.901927        0.872474       0.872043  0.923307   \n",
       "5       6      0.902222     0.901932        0.872466       0.872047  0.923301   \n",
       "6       7      0.902221     0.901927        0.872465       0.872043  0.923301   \n",
       "7       8      0.902221     0.901927        0.872465       0.872043  0.923301   \n",
       "8       9      0.902221     0.901927        0.872465       0.872043  0.923301   \n",
       "\n",
       "    test_f1  train_precision  test_precision   fit_time  score_time  \\\n",
       "0  0.926528         0.936838        0.936789   8.529412    0.128212   \n",
       "1  0.924021         0.944054        0.943892  13.508412    0.075851   \n",
       "2  0.923248         0.945243        0.945078  17.967196    0.065255   \n",
       "3  0.923021         0.945374        0.945218  19.205624    0.077475   \n",
       "4  0.923017         0.945389        0.945231  19.375408    0.075823   \n",
       "5  0.923020         0.945389        0.945231  19.536902    0.105512   \n",
       "6  0.923017         0.945389        0.945231  19.664502    0.083058   \n",
       "7  0.923017         0.945389        0.945231  19.985861    0.077017   \n",
       "8  0.923017         0.945389        0.945231  18.953875    0.060605   \n",
       "\n",
       "            C  \n",
       "0      0.0001  \n",
       "1      0.0010  \n",
       "2      0.0100  \n",
       "3      0.1000  \n",
       "4      1.0000  \n",
       "5     10.0000  \n",
       "6    100.0000  \n",
       "7   1000.0000  \n",
       "8  10000.0000  "
      ]
     },
     "execution_count": 116,
     "metadata": {},
     "output_type": "execute_result"
    }
   ],
   "source": [
    "get_summary(grid)"
   ]
  },
  {
   "cell_type": "code",
   "execution_count": 117,
   "metadata": {
    "scrolled": true
   },
   "outputs": [
    {
     "data": {
      "text/plain": [
       "LogisticRegression(C=0.0001, class_weight={0: 3, 1: 1}, dual=False,\n",
       "          fit_intercept=True, intercept_scaling=1, max_iter=100,\n",
       "          multi_class='ovr', n_jobs=1, penalty='l2', random_state=42,\n",
       "          solver='saga', tol=0.0001, verbose=0, warm_start=False)"
      ]
     },
     "execution_count": 117,
     "metadata": {},
     "output_type": "execute_result"
    }
   ],
   "source": [
    "grid.best_estimator_"
   ]
  },
  {
   "cell_type": "markdown",
   "metadata": {},
   "source": [
    "Let's also try with no class weights but straitified cross validations"
   ]
  },
  {
   "cell_type": "code",
   "execution_count": 118,
   "metadata": {},
   "outputs": [],
   "source": [
    "estimator = LogisticRegression(random_state=42, solver='saga')"
   ]
  },
  {
   "cell_type": "code",
   "execution_count": 119,
   "metadata": {},
   "outputs": [],
   "source": [
    "grid = GridSearchCV(estimator=estimator,\n",
    "                    param_grid=params,\n",
    "                    scoring={'accuracy', 'precision', 'f1', 'recall'},\n",
    "                    refit='f1', # Because we are using multiple evaluation metrics\n",
    "                    cv=10,\n",
    "                    return_train_score=True,\n",
    "                    verbose=2,\n",
    "                    n_jobs=8)  ## Using only 8 cores out of 12 cores"
   ]
  },
  {
   "cell_type": "code",
   "execution_count": 120,
   "metadata": {},
   "outputs": [],
   "source": [
    "from sklearn.model_selection import StratifiedKFold"
   ]
  },
  {
   "cell_type": "code",
   "execution_count": 122,
   "metadata": {},
   "outputs": [],
   "source": [
    "skf = StratifiedKFold(n_splits=10)  # For better distrbution of class label among each cv folds"
   ]
  },
  {
   "cell_type": "code",
   "execution_count": 123,
   "metadata": {},
   "outputs": [],
   "source": [
    "grid = GridSearchCV(estimator=estimator,\n",
    "                    param_grid=params,\n",
    "                    scoring={'accuracy', 'precision', 'f1', 'recall'},\n",
    "                    refit='f1', # Because we are using multiple evaluation metrics\n",
    "                    cv=skf,\n",
    "                    return_train_score=True,\n",
    "                    verbose=2,\n",
    "                    n_jobs=8)  ## Using only 8 cores out of 12 cores"
   ]
  },
  {
   "cell_type": "code",
   "execution_count": 124,
   "metadata": {},
   "outputs": [],
   "source": [
    "features = Dtrain_scaled\n",
    "labels = data_train.Polarity.apply(lambda x: 1 if x == 'positive' else 0).values"
   ]
  },
  {
   "cell_type": "code",
   "execution_count": 125,
   "metadata": {
    "scrolled": true
   },
   "outputs": [
    {
     "name": "stdout",
     "output_type": "stream",
     "text": [
      "Fitting 10 folds for each of 9 candidates, totalling 90 fits\n",
      "[CV] C=0.0001 ........................................................\n",
      "[CV] C=0.0001 ........................................................\n",
      "[CV] C=0.0001 ........................................................\n",
      "[CV] C=0.0001 ........................................................\n",
      "[CV] C=0.0001 ........................................................\n",
      "[CV] C=0.0001 ........................................................\n",
      "[CV] C=0.0001 ........................................................\n",
      "[CV] C=0.0001 ........................................................\n",
      "[CV] ......................................... C=0.0001, total=   7.1s\n",
      "[CV] C=0.0001 ........................................................\n",
      "[CV] ......................................... C=0.0001, total=   7.4s\n",
      "[CV] C=0.0001 ........................................................\n",
      "[CV] ......................................... C=0.0001, total=   7.7s\n",
      "[CV] C=0.001 .........................................................\n",
      "[CV] ......................................... C=0.0001, total=   7.8s\n",
      "[CV] C=0.001 .........................................................\n",
      "[CV] ......................................... C=0.0001, total=   8.1s\n",
      "[CV] ......................................... C=0.0001, total=   8.5s\n",
      "[CV] C=0.001 .........................................................\n",
      "[CV] C=0.001 .........................................................\n",
      "[CV] ......................................... C=0.0001, total=   7.9s\n",
      "[CV] C=0.001 .........................................................\n",
      "[CV] ......................................... C=0.0001, total=   9.0s\n",
      "[CV] C=0.001 .........................................................\n",
      "[CV] ......................................... C=0.0001, total=   8.4s\n",
      "[CV] C=0.001 .........................................................\n",
      "[CV] ......................................... C=0.0001, total=  10.1s\n",
      "[CV] C=0.001 .........................................................\n",
      "[CV] .......................................... C=0.001, total=  14.6s\n",
      "[CV] C=0.001 .........................................................\n",
      "[CV] .......................................... C=0.001, total=  14.9s\n",
      "[CV] C=0.001 .........................................................\n",
      "[CV] .......................................... C=0.001, total=  14.4s\n",
      "[CV] .......................................... C=0.001, total=  16.4s\n",
      "[CV] C=0.01 ..........................................................\n",
      "[CV] C=0.01 ..........................................................\n",
      "[CV] .......................................... C=0.001, total=  15.6s\n",
      "[CV] C=0.01 ..........................................................\n",
      "[CV] .......................................... C=0.001, total=  15.8s\n",
      "[CV] C=0.01 ..........................................................\n",
      "[CV] .......................................... C=0.001, total=  14.9s\n",
      "[CV] C=0.01 ..........................................................\n",
      "[CV] .......................................... C=0.001, total=  17.2s\n",
      "[CV] C=0.01 ..........................................................\n",
      "[CV] .......................................... C=0.001, total=  14.6s\n",
      "[CV] C=0.01 ..........................................................\n",
      "[CV] .......................................... C=0.001, total=  14.3s\n",
      "[CV] C=0.01 ..........................................................\n",
      "[CV] ........................................... C=0.01, total=  26.4s\n",
      "[CV] C=0.01 ..........................................................\n",
      "[CV] ........................................... C=0.01, total=  26.4s\n",
      "[CV] C=0.01 ..........................................................\n",
      "[CV] ........................................... C=0.01, total=  27.5s\n",
      "[CV] C=0.1 ...........................................................\n",
      "[CV] ........................................... C=0.01, total=  30.0s\n",
      "[CV] C=0.1 ...........................................................\n",
      "[CV] ........................................... C=0.01, total=  26.0s\n",
      "[CV] C=0.1 ...........................................................\n"
     ]
    },
    {
     "name": "stderr",
     "output_type": "stream",
     "text": [
      "[Parallel(n_jobs=8)]: Done  25 tasks      | elapsed:  1.0min\n"
     ]
    },
    {
     "name": "stdout",
     "output_type": "stream",
     "text": [
      "[CV] ........................................... C=0.01, total=  28.5s\n",
      "[CV] C=0.1 ...........................................................\n",
      "[CV] ........................................... C=0.01, total=  25.9s\n",
      "[CV] C=0.1 ...........................................................\n",
      "[CV] ........................................... C=0.01, total=  27.0s\n",
      "[CV] C=0.1 ...........................................................\n",
      "[CV] ........................................... C=0.01, total=  26.3s\n",
      "[CV] C=0.1 ...........................................................\n",
      "[CV] ........................................... C=0.01, total=  26.3s\n",
      "[CV] C=0.1 ...........................................................\n",
      "[CV] ............................................ C=0.1, total=  31.1s\n",
      "[CV] C=0.1 ...........................................................\n",
      "[CV] ............................................ C=0.1, total=  30.6s\n",
      "[CV] C=0.1 ...........................................................\n",
      "[CV] ............................................ C=0.1, total=  30.1s\n",
      "[CV] C=1.0 ...........................................................\n",
      "[CV] ............................................ C=0.1, total=  30.5s\n",
      "[CV] C=1.0 ...........................................................\n",
      "[CV] ............................................ C=0.1, total=  31.0s\n",
      "[CV] C=1.0 ...........................................................\n",
      "[CV] ............................................ C=0.1, total=  30.3s\n",
      "[CV] C=1.0 ...........................................................\n",
      "[CV] ............................................ C=0.1, total=  29.6s\n",
      "[CV] C=1.0 ...........................................................\n",
      "[CV] ............................................ C=0.1, total=  30.5s\n",
      "[CV] C=1.0 ...........................................................\n",
      "[CV] ............................................ C=0.1, total=  31.9s\n",
      "[CV] C=1.0 ...........................................................\n",
      "[CV] ............................................ C=1.0, total=  31.1s\n",
      "[CV] C=1.0 ...........................................................\n",
      "[CV] ............................................ C=0.1, total=  34.6s\n",
      "[CV] C=1.0 ...........................................................\n",
      "[CV] ............................................ C=1.0, total=  30.8s\n",
      "[CV] C=1.0 ...........................................................\n",
      "[CV] ............................................ C=1.0, total=  34.4s\n",
      "[CV] C=10.0 ..........................................................\n",
      "[CV] ............................................ C=1.0, total=  31.2s\n",
      "[CV] C=10.0 ..........................................................\n",
      "[CV] ............................................ C=1.0, total=  30.3s\n",
      "[CV] C=10.0 ..........................................................\n",
      "[CV] ............................................ C=1.0, total=  31.0s\n",
      "[CV] C=10.0 ..........................................................\n",
      "[CV] ............................................ C=1.0, total=  30.4s\n",
      "[CV] C=10.0 ..........................................................\n",
      "[CV] ............................................ C=1.0, total=  32.0s\n",
      "[CV] C=10.0 ..........................................................\n",
      "[CV] ............................................ C=1.0, total=  32.3s\n",
      "[CV] C=10.0 ..........................................................\n",
      "[CV] ............................................ C=1.0, total=  29.2s\n",
      "[CV] C=10.0 ..........................................................\n",
      "[CV] ........................................... C=10.0, total=  31.3s\n",
      "[CV] C=10.0 ..........................................................\n",
      "[CV] ........................................... C=10.0, total=  31.4s\n",
      "[CV] C=10.0 ..........................................................\n",
      "[CV] ........................................... C=10.0, total=  29.8s\n",
      "[CV] C=100.0 .........................................................\n",
      "[CV] ........................................... C=10.0, total=  32.5s\n",
      "[CV] C=100.0 .........................................................\n",
      "[CV] ........................................... C=10.0, total=  31.7s\n",
      "[CV] C=100.0 .........................................................\n",
      "[CV] ........................................... C=10.0, total=  30.5s\n",
      "[CV] C=100.0 .........................................................\n",
      "[CV] ........................................... C=10.0, total=  33.7s\n",
      "[CV] C=100.0 .........................................................\n",
      "[CV] ........................................... C=10.0, total=  29.7s\n",
      "[CV] C=100.0 .........................................................\n",
      "[CV] ........................................... C=10.0, total=  33.9s\n",
      "[CV] C=100.0 .........................................................\n",
      "[CV] ........................................... C=10.0, total=  37.2s\n",
      "[CV] C=100.0 .........................................................\n",
      "[CV] .......................................... C=100.0, total=  31.0s\n",
      "[CV] C=100.0 .........................................................\n",
      "[CV] .......................................... C=100.0, total=  30.4s\n",
      "[CV] C=100.0 .........................................................\n",
      "[CV] .......................................... C=100.0, total=  34.7s\n",
      "[CV] C=1000.0 ........................................................\n",
      "[CV] .......................................... C=100.0, total=  29.8s\n",
      "[CV] C=1000.0 ........................................................\n",
      "[CV] .......................................... C=100.0, total=  32.8s\n",
      "[CV] C=1000.0 ........................................................\n",
      "[CV] .......................................... C=100.0, total=  32.4s\n",
      "[CV] C=1000.0 ........................................................\n",
      "[CV] .......................................... C=100.0, total=  30.8s\n",
      "[CV] C=1000.0 ........................................................\n",
      "[CV] .......................................... C=100.0, total=  31.8s\n",
      "[CV] C=1000.0 ........................................................\n",
      "[CV] .......................................... C=100.0, total=  28.4s\n",
      "[CV] C=1000.0 ........................................................\n",
      "[CV] .......................................... C=100.0, total=  33.2s\n",
      "[CV] C=1000.0 ........................................................\n",
      "[CV] ......................................... C=1000.0, total=  30.8s\n",
      "[CV] C=1000.0 ........................................................\n",
      "[CV] ......................................... C=1000.0, total=  31.5s\n",
      "[CV] C=1000.0 ........................................................\n",
      "[CV] ......................................... C=1000.0, total=  30.7s\n",
      "[CV] C=10000.0 .......................................................\n",
      "[CV] ......................................... C=1000.0, total=  30.6s\n",
      "[CV] C=10000.0 .......................................................\n",
      "[CV] ......................................... C=1000.0, total=  34.8s\n",
      "[CV] C=10000.0 .......................................................\n",
      "[CV] ......................................... C=1000.0, total=  35.1s\n",
      "[CV] C=10000.0 .......................................................\n",
      "[CV] ......................................... C=1000.0, total=  31.0s\n",
      "[CV] C=10000.0 .......................................................\n",
      "[CV] ......................................... C=1000.0, total=  31.2s\n",
      "[CV] C=10000.0 .......................................................\n",
      "[CV] ......................................... C=1000.0, total=  31.4s\n",
      "[CV] C=10000.0 .......................................................\n",
      "[CV] ......................................... C=1000.0, total=  29.0s\n",
      "[CV] C=10000.0 .......................................................\n",
      "[CV] ........................................ C=10000.0, total=  32.2s\n",
      "[CV] C=10000.0 .......................................................\n",
      "[CV] ........................................ C=10000.0, total=  31.2s\n",
      "[CV] C=10000.0 .......................................................\n",
      "[CV] ........................................ C=10000.0, total=  30.9s\n",
      "[CV] ........................................ C=10000.0, total=  31.5s\n"
     ]
    },
    {
     "name": "stdout",
     "output_type": "stream",
     "text": [
      "[CV] ........................................ C=10000.0, total=  30.9s\n",
      "[CV] ........................................ C=10000.0, total=  32.8s\n",
      "[CV] ........................................ C=10000.0, total=  29.6s\n",
      "[CV] ........................................ C=10000.0, total=  30.2s\n",
      "[CV] ........................................ C=10000.0, total=  28.0s\n",
      "[CV] ........................................ C=10000.0, total=  31.8s\n"
     ]
    },
    {
     "name": "stderr",
     "output_type": "stream",
     "text": [
      "[Parallel(n_jobs=8)]: Done  90 out of  90 | elapsed:  5.3min finished\n"
     ]
    },
    {
     "data": {
      "text/plain": [
       "GridSearchCV(cv=StratifiedKFold(n_splits=10, random_state=None, shuffle=False),\n",
       "       error_score='raise',\n",
       "       estimator=LogisticRegression(C=1.0, class_weight=None, dual=False, fit_intercept=True,\n",
       "          intercept_scaling=1, max_iter=100, multi_class='ovr', n_jobs=1,\n",
       "          penalty='l2', random_state=42, solver='saga', tol=0.0001,\n",
       "          verbose=0, warm_start=False),\n",
       "       fit_params=None, iid=True, n_jobs=8,\n",
       "       param_grid={'C': [0.0001, 0.001, 0.01, 0.1, 1.0, 10.0, 100.0, 1000.0, 10000.0]},\n",
       "       pre_dispatch='2*n_jobs', refit='f1', return_train_score=True,\n",
       "       scoring={'recall', 'accuracy', 'f1', 'precision'}, verbose=2)"
      ]
     },
     "execution_count": 125,
     "metadata": {},
     "output_type": "execute_result"
    }
   ],
   "source": [
    "grid.fit(features, labels)"
   ]
  },
  {
   "cell_type": "code",
   "execution_count": 126,
   "metadata": {},
   "outputs": [
    {
     "data": {
      "text/html": [
       "<div>\n",
       "<style scoped>\n",
       "    .dataframe tbody tr th:only-of-type {\n",
       "        vertical-align: middle;\n",
       "    }\n",
       "\n",
       "    .dataframe tbody tr th {\n",
       "        vertical-align: top;\n",
       "    }\n",
       "\n",
       "    .dataframe thead th {\n",
       "        text-align: right;\n",
       "    }\n",
       "</style>\n",
       "<table border=\"1\" class=\"dataframe\">\n",
       "  <thead>\n",
       "    <tr style=\"text-align: right;\">\n",
       "      <th></th>\n",
       "      <th>Iter #</th>\n",
       "      <th>train_recall</th>\n",
       "      <th>test_recall</th>\n",
       "      <th>train_accuracy</th>\n",
       "      <th>test_accuracy</th>\n",
       "      <th>train_f1</th>\n",
       "      <th>test_f1</th>\n",
       "      <th>train_precision</th>\n",
       "      <th>test_precision</th>\n",
       "      <th>fit_time</th>\n",
       "      <th>score_time</th>\n",
       "      <th>C</th>\n",
       "    </tr>\n",
       "  </thead>\n",
       "  <tbody>\n",
       "    <tr>\n",
       "      <th>0</th>\n",
       "      <td>1</td>\n",
       "      <td>0.984919</td>\n",
       "      <td>0.984797</td>\n",
       "      <td>0.876393</td>\n",
       "      <td>0.876249</td>\n",
       "      <td>0.931314</td>\n",
       "      <td>0.931233</td>\n",
       "      <td>0.883243</td>\n",
       "      <td>0.883214</td>\n",
       "      <td>8.061984</td>\n",
       "      <td>0.132092</td>\n",
       "      <td>0.0001</td>\n",
       "    </tr>\n",
       "    <tr>\n",
       "      <th>1</th>\n",
       "      <td>2</td>\n",
       "      <td>0.975908</td>\n",
       "      <td>0.975846</td>\n",
       "      <td>0.887593</td>\n",
       "      <td>0.887462</td>\n",
       "      <td>0.936603</td>\n",
       "      <td>0.936532</td>\n",
       "      <td>0.900341</td>\n",
       "      <td>0.900299</td>\n",
       "      <td>15.204970</td>\n",
       "      <td>0.060756</td>\n",
       "      <td>0.0010</td>\n",
       "    </tr>\n",
       "    <tr>\n",
       "      <th>2</th>\n",
       "      <td>3</td>\n",
       "      <td>0.973016</td>\n",
       "      <td>0.972743</td>\n",
       "      <td>0.890005</td>\n",
       "      <td>0.889706</td>\n",
       "      <td>0.937705</td>\n",
       "      <td>0.937532</td>\n",
       "      <td>0.904867</td>\n",
       "      <td>0.904822</td>\n",
       "      <td>26.974514</td>\n",
       "      <td>0.051922</td>\n",
       "      <td>0.0100</td>\n",
       "    </tr>\n",
       "    <tr>\n",
       "      <th>3</th>\n",
       "      <td>4</td>\n",
       "      <td>0.972543</td>\n",
       "      <td>0.972295</td>\n",
       "      <td>0.890389</td>\n",
       "      <td>0.890075</td>\n",
       "      <td>0.937881</td>\n",
       "      <td>0.937700</td>\n",
       "      <td>0.905605</td>\n",
       "      <td>0.905524</td>\n",
       "      <td>30.949615</td>\n",
       "      <td>0.067455</td>\n",
       "      <td>0.1000</td>\n",
       "    </tr>\n",
       "    <tr>\n",
       "      <th>4</th>\n",
       "      <td>5</td>\n",
       "      <td>0.972506</td>\n",
       "      <td>0.972240</td>\n",
       "      <td>0.890437</td>\n",
       "      <td>0.890118</td>\n",
       "      <td>0.937904</td>\n",
       "      <td>0.937720</td>\n",
       "      <td>0.905681</td>\n",
       "      <td>0.905608</td>\n",
       "      <td>31.201063</td>\n",
       "      <td>0.063763</td>\n",
       "      <td>1.0000</td>\n",
       "    </tr>\n",
       "    <tr>\n",
       "      <th>5</th>\n",
       "      <td>6</td>\n",
       "      <td>0.972501</td>\n",
       "      <td>0.972231</td>\n",
       "      <td>0.890445</td>\n",
       "      <td>0.890114</td>\n",
       "      <td>0.937908</td>\n",
       "      <td>0.937717</td>\n",
       "      <td>0.905692</td>\n",
       "      <td>0.905611</td>\n",
       "      <td>32.059676</td>\n",
       "      <td>0.089651</td>\n",
       "      <td>10.0000</td>\n",
       "    </tr>\n",
       "    <tr>\n",
       "      <th>6</th>\n",
       "      <td>7</td>\n",
       "      <td>0.972502</td>\n",
       "      <td>0.972231</td>\n",
       "      <td>0.890446</td>\n",
       "      <td>0.890114</td>\n",
       "      <td>0.937909</td>\n",
       "      <td>0.937717</td>\n",
       "      <td>0.905692</td>\n",
       "      <td>0.905611</td>\n",
       "      <td>31.458450</td>\n",
       "      <td>0.077560</td>\n",
       "      <td>100.0000</td>\n",
       "    </tr>\n",
       "    <tr>\n",
       "      <th>7</th>\n",
       "      <td>8</td>\n",
       "      <td>0.972502</td>\n",
       "      <td>0.972231</td>\n",
       "      <td>0.890446</td>\n",
       "      <td>0.890114</td>\n",
       "      <td>0.937909</td>\n",
       "      <td>0.937717</td>\n",
       "      <td>0.905692</td>\n",
       "      <td>0.905611</td>\n",
       "      <td>31.561316</td>\n",
       "      <td>0.052030</td>\n",
       "      <td>1000.0000</td>\n",
       "    </tr>\n",
       "    <tr>\n",
       "      <th>8</th>\n",
       "      <td>9</td>\n",
       "      <td>0.972502</td>\n",
       "      <td>0.972231</td>\n",
       "      <td>0.890446</td>\n",
       "      <td>0.890114</td>\n",
       "      <td>0.937909</td>\n",
       "      <td>0.937717</td>\n",
       "      <td>0.905692</td>\n",
       "      <td>0.905611</td>\n",
       "      <td>30.872852</td>\n",
       "      <td>0.046854</td>\n",
       "      <td>10000.0000</td>\n",
       "    </tr>\n",
       "  </tbody>\n",
       "</table>\n",
       "</div>"
      ],
      "text/plain": [
       "   Iter #  train_recall  test_recall  train_accuracy  test_accuracy  train_f1  \\\n",
       "0       1      0.984919     0.984797        0.876393       0.876249  0.931314   \n",
       "1       2      0.975908     0.975846        0.887593       0.887462  0.936603   \n",
       "2       3      0.973016     0.972743        0.890005       0.889706  0.937705   \n",
       "3       4      0.972543     0.972295        0.890389       0.890075  0.937881   \n",
       "4       5      0.972506     0.972240        0.890437       0.890118  0.937904   \n",
       "5       6      0.972501     0.972231        0.890445       0.890114  0.937908   \n",
       "6       7      0.972502     0.972231        0.890446       0.890114  0.937909   \n",
       "7       8      0.972502     0.972231        0.890446       0.890114  0.937909   \n",
       "8       9      0.972502     0.972231        0.890446       0.890114  0.937909   \n",
       "\n",
       "    test_f1  train_precision  test_precision   fit_time  score_time  \\\n",
       "0  0.931233         0.883243        0.883214   8.061984    0.132092   \n",
       "1  0.936532         0.900341        0.900299  15.204970    0.060756   \n",
       "2  0.937532         0.904867        0.904822  26.974514    0.051922   \n",
       "3  0.937700         0.905605        0.905524  30.949615    0.067455   \n",
       "4  0.937720         0.905681        0.905608  31.201063    0.063763   \n",
       "5  0.937717         0.905692        0.905611  32.059676    0.089651   \n",
       "6  0.937717         0.905692        0.905611  31.458450    0.077560   \n",
       "7  0.937717         0.905692        0.905611  31.561316    0.052030   \n",
       "8  0.937717         0.905692        0.905611  30.872852    0.046854   \n",
       "\n",
       "            C  \n",
       "0      0.0001  \n",
       "1      0.0010  \n",
       "2      0.0100  \n",
       "3      0.1000  \n",
       "4      1.0000  \n",
       "5     10.0000  \n",
       "6    100.0000  \n",
       "7   1000.0000  \n",
       "8  10000.0000  "
      ]
     },
     "execution_count": 126,
     "metadata": {},
     "output_type": "execute_result"
    }
   ],
   "source": [
    "get_summary(grid)"
   ]
  },
  {
   "cell_type": "code",
   "execution_count": 127,
   "metadata": {},
   "outputs": [
    {
     "data": {
      "text/plain": [
       "LogisticRegression(C=1.0, class_weight=None, dual=False, fit_intercept=True,\n",
       "          intercept_scaling=1, max_iter=100, multi_class='ovr', n_jobs=1,\n",
       "          penalty='l2', random_state=42, solver='saga', tol=0.0001,\n",
       "          verbose=0, warm_start=False)"
      ]
     },
     "execution_count": 127,
     "metadata": {},
     "output_type": "execute_result"
    }
   ],
   "source": [
    "grid.best_estimator_"
   ]
  },
  {
   "cell_type": "markdown",
   "metadata": {},
   "source": [
    "Finally we can see for C = 1, we get the best estimator with 0.937904 as the F1 score"
   ]
  },
  {
   "cell_type": "markdown",
   "metadata": {},
   "source": [
    "## Saving the best estimator"
   ]
  },
  {
   "cell_type": "code",
   "execution_count": 128,
   "metadata": {},
   "outputs": [],
   "source": [
    "from sklearn.externals import joblib"
   ]
  },
  {
   "cell_type": "code",
   "execution_count": 129,
   "metadata": {},
   "outputs": [
    {
     "data": {
      "text/plain": [
       "['best_w2v_tfidf.model']"
      ]
     },
     "execution_count": 129,
     "metadata": {},
     "output_type": "execute_result"
    }
   ],
   "source": [
    "joblib.dump(grid.best_estimator_, 'best_w2v_tfidf.model')"
   ]
  },
  {
   "cell_type": "markdown",
   "metadata": {},
   "source": [
    "## Loading the best estimator"
   ]
  },
  {
   "cell_type": "code",
   "execution_count": 130,
   "metadata": {},
   "outputs": [],
   "source": [
    "clf = joblib.load('best_w2v_tfidf.model')"
   ]
  },
  {
   "cell_type": "code",
   "execution_count": 131,
   "metadata": {},
   "outputs": [],
   "source": [
    "xTest = Dtest_scaled\n",
    "actuals = data_test.Polarity.apply(lambda x: 1 if x == 'positive' else 0).values"
   ]
  },
  {
   "cell_type": "code",
   "execution_count": 132,
   "metadata": {},
   "outputs": [],
   "source": [
    "preds = clf.predict(xTest)"
   ]
  },
  {
   "cell_type": "markdown",
   "metadata": {},
   "source": [
    "## Reporting Evaluation metrics for best estimator accoring to F1 score"
   ]
  },
  {
   "cell_type": "code",
   "execution_count": 133,
   "metadata": {},
   "outputs": [],
   "source": [
    "from sklearn.metrics import (\n",
    "    accuracy_score,\n",
    "    precision_score,\n",
    "    recall_score,\n",
    "    f1_score\n",
    ")"
   ]
  },
  {
   "cell_type": "code",
   "execution_count": 134,
   "metadata": {},
   "outputs": [
    {
     "name": "stdout",
     "output_type": "stream",
     "text": [
      "Avg W2V.ipynb\t      BOW -- Logistic Regression.ipynb\tTFIDF.ipynb\r\n",
      "best.model\t      README.md\t\t\t\tTFIDF W2v.ipynb\r\n",
      "best_w2v_tfidf.model  tfidf_best.model\r\n"
     ]
    }
   ],
   "source": [
    "!ls"
   ]
  },
  {
   "cell_type": "code",
   "execution_count": 136,
   "metadata": {},
   "outputs": [
    {
     "name": "stdout",
     "output_type": "stream",
     "text": [
      "+---------------+--------------------+--------------------+--------------------+--------------------+\n",
      "| Vectorization |      Accuracy      |     Precision      |       Recall       |         F1         |\n",
      "+---------------+--------------------+--------------------+--------------------+--------------------+\n",
      "|      BOW      | 0.8963253872349775 | 0.9077152225405725 | 0.9733473824312333 | 0.9393863165613174 |\n",
      "|     TFIDF     | 0.899932256765169  | 0.9132666367610086 | 0.9709738243123336 | 0.9412365536483224 |\n",
      "|    Avg. W2v   |  0.88492804569922  | 0.9978506179473401 |        1.0         | 0.9320202582549146 |\n",
      "|   w2v-TFIDF   | 0.8726518730088981 | 0.883704076497232  | 0.973855556664781  | 0.9265921911526467 |\n",
      "+---------------+--------------------+--------------------+--------------------+--------------------+\n"
     ]
    }
   ],
   "source": [
    "acs = accuracy_score(actuals, preds)\n",
    "pre = precision_score(actuals, preds)\n",
    "rec = recall_score(actuals, preds)\n",
    "f1 = f1_score(actuals, preds)\n",
    "\n",
    "from prettytable import PrettyTable\n",
    "\n",
    "x = PrettyTable()\n",
    "\n",
    "x.field_names = ['Vectorization', 'Accuracy', 'Precision', 'Recall', 'F1']\n",
    "x.add_row(['BOW', 0.8963253872349775, 0.9077152225405725, 0.9733473824312333, 0.9393863165613174])\n",
    "x.add_row(['TFIDF', 0.899932256765169, 0.9132666367610086, 0.9709738243123336, 0.9412365536483224])\n",
    "x.add_row(['Avg. W2v', 0.88492804569922, 0.9978506179473401, 1.0, 0.9320202582549146])\n",
    "x.add_row(['w2v-TFIDF', acs, pre, rec, f1])\n",
    "\n",
    "print(x)\n"
   ]
  },
  {
   "cell_type": "markdown",
   "metadata": {},
   "source": [
    "## Sparsity and Latency"
   ]
  },
  {
   "cell_type": "code",
   "execution_count": 135,
   "metadata": {},
   "outputs": [],
   "source": [
    "features = Dtrain_scaled\n",
    "labels = data_train.Polarity.apply(lambda x: 1 if x == 'positive' else 0).values"
   ]
  },
  {
   "cell_type": "code",
   "execution_count": 137,
   "metadata": {},
   "outputs": [],
   "source": [
    "estimators = []"
   ]
  },
  {
   "cell_type": "code",
   "execution_count": 138,
   "metadata": {},
   "outputs": [
    {
     "name": "stdout",
     "output_type": "stream",
     "text": [
      "convergence after 15 epochs took 10 seconds\n",
      "Done for c=0.0001\n"
     ]
    },
    {
     "name": "stderr",
     "output_type": "stream",
     "text": [
      "[Parallel(n_jobs=1)]: Done   1 out of   1 | elapsed:   10.4s remaining:    0.0s\n",
      "[Parallel(n_jobs=1)]: Done   1 out of   1 | elapsed:   10.4s finished\n"
     ]
    },
    {
     "name": "stdout",
     "output_type": "stream",
     "text": [
      "convergence after 20 epochs took 14 seconds\n",
      "Done for c=0.001\n"
     ]
    },
    {
     "name": "stderr",
     "output_type": "stream",
     "text": [
      "[Parallel(n_jobs=1)]: Done   1 out of   1 | elapsed:   13.5s remaining:    0.0s\n",
      "[Parallel(n_jobs=1)]: Done   1 out of   1 | elapsed:   13.5s finished\n"
     ]
    },
    {
     "name": "stdout",
     "output_type": "stream",
     "text": [
      "convergence after 34 epochs took 23 seconds\n",
      "Done for c=0.01\n"
     ]
    },
    {
     "name": "stderr",
     "output_type": "stream",
     "text": [
      "[Parallel(n_jobs=1)]: Done   1 out of   1 | elapsed:   23.2s remaining:    0.0s\n",
      "[Parallel(n_jobs=1)]: Done   1 out of   1 | elapsed:   23.2s finished\n"
     ]
    },
    {
     "name": "stdout",
     "output_type": "stream",
     "text": [
      "convergence after 37 epochs took 26 seconds\n",
      "Done for c=0.1\n"
     ]
    },
    {
     "name": "stderr",
     "output_type": "stream",
     "text": [
      "[Parallel(n_jobs=1)]: Done   1 out of   1 | elapsed:   26.0s remaining:    0.0s\n",
      "[Parallel(n_jobs=1)]: Done   1 out of   1 | elapsed:   26.0s finished\n"
     ]
    },
    {
     "name": "stdout",
     "output_type": "stream",
     "text": [
      "convergence after 34 epochs took 25 seconds\n",
      "Done for c=1.0\n"
     ]
    },
    {
     "name": "stderr",
     "output_type": "stream",
     "text": [
      "[Parallel(n_jobs=1)]: Done   1 out of   1 | elapsed:   25.2s remaining:    0.0s\n",
      "[Parallel(n_jobs=1)]: Done   1 out of   1 | elapsed:   25.2s finished\n"
     ]
    },
    {
     "name": "stdout",
     "output_type": "stream",
     "text": [
      "convergence after 31 epochs took 22 seconds\n",
      "Done for c=10.0\n"
     ]
    },
    {
     "name": "stderr",
     "output_type": "stream",
     "text": [
      "[Parallel(n_jobs=1)]: Done   1 out of   1 | elapsed:   22.0s remaining:    0.0s\n",
      "[Parallel(n_jobs=1)]: Done   1 out of   1 | elapsed:   22.0s finished\n"
     ]
    },
    {
     "name": "stdout",
     "output_type": "stream",
     "text": [
      "convergence after 30 epochs took 23 seconds\n",
      "Done for c=100.0\n"
     ]
    },
    {
     "name": "stderr",
     "output_type": "stream",
     "text": [
      "[Parallel(n_jobs=1)]: Done   1 out of   1 | elapsed:   22.5s remaining:    0.0s\n",
      "[Parallel(n_jobs=1)]: Done   1 out of   1 | elapsed:   22.5s finished\n"
     ]
    },
    {
     "name": "stdout",
     "output_type": "stream",
     "text": [
      "convergence after 30 epochs took 24 seconds\n",
      "Done for c=1000.0\n"
     ]
    },
    {
     "name": "stderr",
     "output_type": "stream",
     "text": [
      "[Parallel(n_jobs=1)]: Done   1 out of   1 | elapsed:   24.0s remaining:    0.0s\n",
      "[Parallel(n_jobs=1)]: Done   1 out of   1 | elapsed:   24.0s finished\n"
     ]
    },
    {
     "name": "stdout",
     "output_type": "stream",
     "text": [
      "convergence after 30 epochs took 24 seconds\n",
      "Done for c=10000.0\n"
     ]
    },
    {
     "name": "stderr",
     "output_type": "stream",
     "text": [
      "[Parallel(n_jobs=1)]: Done   1 out of   1 | elapsed:   23.8s remaining:    0.0s\n",
      "[Parallel(n_jobs=1)]: Done   1 out of   1 | elapsed:   23.8s finished\n"
     ]
    }
   ],
   "source": [
    "for c in [1e-4, 1e-3, 1e-2, 1e-1, 1e0, 1e1, 1e2, 1e3, 1e4]:\n",
    "    clf = LogisticRegression(penalty='l1', C=c, solver='saga', verbose=2)\n",
    "    clf.fit(features, labels)\n",
    "    estimators.append(clf)\n",
    "    print(f\"Done for c={c}\")"
   ]
  },
  {
   "cell_type": "code",
   "execution_count": 139,
   "metadata": {},
   "outputs": [],
   "source": [
    "latency = pd.DataFrame(columns=['C', 'sparsity', 'latency'])\n"
   ]
  },
  {
   "cell_type": "code",
   "execution_count": 140,
   "metadata": {},
   "outputs": [],
   "source": [
    "xTest = Dtest_scaled\n",
    "actuals = data_test.Polarity.apply(lambda x: 1 if x == 'positive' else 0).values"
   ]
  },
  {
   "cell_type": "code",
   "execution_count": 141,
   "metadata": {},
   "outputs": [],
   "source": [
    "spr = [np.nonzero(estimator.coef_.ravel())[0].shape[0] for estimator in estimators]\n",
    "C = [1e-4, 1e-3, 1e-2, 1e-1, 1e0, 1e1, 1e2, 1e3, 1e4]"
   ]
  },
  {
   "cell_type": "code",
   "execution_count": 142,
   "metadata": {},
   "outputs": [],
   "source": [
    "import time"
   ]
  },
  {
   "cell_type": "code",
   "execution_count": 143,
   "metadata": {},
   "outputs": [],
   "source": [
    "latn = []"
   ]
  },
  {
   "cell_type": "code",
   "execution_count": 144,
   "metadata": {},
   "outputs": [],
   "source": [
    "for estimator in estimators:\n",
    "    start = time.clock()\n",
    "    estimator.predict(xTrain)\n",
    "    latn.append(time.clock() - start)"
   ]
  },
  {
   "cell_type": "code",
   "execution_count": 145,
   "metadata": {},
   "outputs": [],
   "source": [
    "latency['C'] = C\n",
    "latency['sparsity'] = spr\n",
    "latency['latency'] = latn"
   ]
  },
  {
   "cell_type": "code",
   "execution_count": 146,
   "metadata": {},
   "outputs": [
    {
     "data": {
      "text/html": [
       "<div>\n",
       "<style scoped>\n",
       "    .dataframe tbody tr th:only-of-type {\n",
       "        vertical-align: middle;\n",
       "    }\n",
       "\n",
       "    .dataframe tbody tr th {\n",
       "        vertical-align: top;\n",
       "    }\n",
       "\n",
       "    .dataframe thead th {\n",
       "        text-align: right;\n",
       "    }\n",
       "</style>\n",
       "<table border=\"1\" class=\"dataframe\">\n",
       "  <thead>\n",
       "    <tr style=\"text-align: right;\">\n",
       "      <th></th>\n",
       "      <th>C</th>\n",
       "      <th>sparsity</th>\n",
       "      <th>latency</th>\n",
       "    </tr>\n",
       "  </thead>\n",
       "  <tbody>\n",
       "    <tr>\n",
       "      <th>0</th>\n",
       "      <td>0.0001</td>\n",
       "      <td>9</td>\n",
       "      <td>0.739715</td>\n",
       "    </tr>\n",
       "    <tr>\n",
       "      <th>1</th>\n",
       "      <td>0.0010</td>\n",
       "      <td>49</td>\n",
       "      <td>0.319007</td>\n",
       "    </tr>\n",
       "    <tr>\n",
       "      <th>2</th>\n",
       "      <td>0.0100</td>\n",
       "      <td>92</td>\n",
       "      <td>0.163876</td>\n",
       "    </tr>\n",
       "    <tr>\n",
       "      <th>3</th>\n",
       "      <td>0.1000</td>\n",
       "      <td>100</td>\n",
       "      <td>0.167309</td>\n",
       "    </tr>\n",
       "    <tr>\n",
       "      <th>4</th>\n",
       "      <td>1.0000</td>\n",
       "      <td>100</td>\n",
       "      <td>0.163344</td>\n",
       "    </tr>\n",
       "    <tr>\n",
       "      <th>5</th>\n",
       "      <td>10.0000</td>\n",
       "      <td>100</td>\n",
       "      <td>0.162150</td>\n",
       "    </tr>\n",
       "    <tr>\n",
       "      <th>6</th>\n",
       "      <td>100.0000</td>\n",
       "      <td>100</td>\n",
       "      <td>0.164987</td>\n",
       "    </tr>\n",
       "    <tr>\n",
       "      <th>7</th>\n",
       "      <td>1000.0000</td>\n",
       "      <td>100</td>\n",
       "      <td>0.165414</td>\n",
       "    </tr>\n",
       "    <tr>\n",
       "      <th>8</th>\n",
       "      <td>10000.0000</td>\n",
       "      <td>100</td>\n",
       "      <td>0.164082</td>\n",
       "    </tr>\n",
       "  </tbody>\n",
       "</table>\n",
       "</div>"
      ],
      "text/plain": [
       "            C  sparsity   latency\n",
       "0      0.0001         9  0.739715\n",
       "1      0.0010        49  0.319007\n",
       "2      0.0100        92  0.163876\n",
       "3      0.1000       100  0.167309\n",
       "4      1.0000       100  0.163344\n",
       "5     10.0000       100  0.162150\n",
       "6    100.0000       100  0.164987\n",
       "7   1000.0000       100  0.165414\n",
       "8  10000.0000       100  0.164082"
      ]
     },
     "execution_count": 146,
     "metadata": {},
     "output_type": "execute_result"
    }
   ],
   "source": [
    "latency"
   ]
  },
  {
   "cell_type": "markdown",
   "metadata": {},
   "source": [
    "The behavious is bit strange. The sparsity(non zero elements) is incresing and latency is also increasing. This is not expected."
   ]
  }
 ],
 "metadata": {
  "kernelspec": {
   "display_name": "Python 3",
   "language": "python",
   "name": "python3"
  },
  "language_info": {
   "codemirror_mode": {
    "name": "ipython",
    "version": 3
   },
   "file_extension": ".py",
   "mimetype": "text/x-python",
   "name": "python",
   "nbconvert_exporter": "python",
   "pygments_lexer": "ipython3",
   "version": "3.6.6"
  }
 },
 "nbformat": 4,
 "nbformat_minor": 2
}
