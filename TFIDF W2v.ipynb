{
 "cells": [
  {
   "cell_type": "code",
   "execution_count": 1,
   "metadata": {},
   "outputs": [],
   "source": [
    "import numpy as np\n",
    "import pandas as pd\n",
    "import matplotlib.pyplot as plt\n",
    "import seaborn as sns\n",
    "import sqlite3\n",
    "%config InlineBackend.figure_format = 'retina'"
   ]
  },
  {
   "cell_type": "code",
   "execution_count": 4,
   "metadata": {},
   "outputs": [
    {
     "name": "stdout",
     "output_type": "stream",
     "text": [
      "Amazon-Review----Logistic-Regression  cert\t Processed Datasets.zip\r\n",
      "Amazon-Review---Naive-Bayes\t      Databases  Tools\r\n",
      "anaconda3\t\t\t      __MACOSX\r\n"
     ]
    }
   ],
   "source": [
    "!ls .."
   ]
  },
  {
   "cell_type": "markdown",
   "metadata": {},
   "source": [
    "## 1. Loading the dataset"
   ]
  },
  {
   "cell_type": "code",
   "execution_count": 43,
   "metadata": {},
   "outputs": [],
   "source": [
    "with sqlite3.connect('../Databases/reviewsV1.db') as conn:\n",
    "    data = pd.read_sql_query('SELECT * FROM Review', conn)"
   ]
  },
  {
   "cell_type": "code",
   "execution_count": 44,
   "metadata": {},
   "outputs": [],
   "source": [
    "data.drop('index', inplace=True, axis=1)\n",
    "data = data[data.index != 258456]"
   ]
  },
  {
   "cell_type": "markdown",
   "metadata": {},
   "source": [
    "## 2. Time Based Splitting"
   ]
  },
  {
   "cell_type": "code",
   "execution_count": 45,
   "metadata": {},
   "outputs": [],
   "source": [
    "data.sort_values(by='Time', inplace=True)\n",
    "data.reset_index(drop=True, inplace=True)"
   ]
  },
  {
   "cell_type": "code",
   "execution_count": 46,
   "metadata": {},
   "outputs": [],
   "source": [
    "TRAIN_SIZE = int(data.shape[0] * 0.7)\n",
    "TEST_SIZE = data.shape[0] - TRAIN_SIZE"
   ]
  },
  {
   "cell_type": "code",
   "execution_count": 47,
   "metadata": {},
   "outputs": [
    {
     "data": {
      "text/plain": [
       "254882"
      ]
     },
     "execution_count": 47,
     "metadata": {},
     "output_type": "execute_result"
    }
   ],
   "source": [
    "TRAIN_SIZE"
   ]
  },
  {
   "cell_type": "code",
   "execution_count": 48,
   "metadata": {},
   "outputs": [
    {
     "data": {
      "text/plain": [
       "109236"
      ]
     },
     "execution_count": 48,
     "metadata": {},
     "output_type": "execute_result"
    }
   ],
   "source": [
    "TEST_SIZE"
   ]
  },
  {
   "cell_type": "code",
   "execution_count": 49,
   "metadata": {},
   "outputs": [],
   "source": [
    "data_train = data[0: TRAIN_SIZE]\n",
    "data_test = data[TRAIN_SIZE:]"
   ]
  },
  {
   "cell_type": "markdown",
   "metadata": {},
   "source": [
    "#### 2.1 Check if the Splitting was performed properly"
   ]
  },
  {
   "cell_type": "code",
   "execution_count": 50,
   "metadata": {},
   "outputs": [],
   "source": [
    "assert(data_train.shape[0] == TRAIN_SIZE)\n",
    "assert(data_test.shape[0] == TEST_SIZE)"
   ]
  },
  {
   "cell_type": "code",
   "execution_count": 51,
   "metadata": {},
   "outputs": [],
   "source": [
    "assert(data.Time.max() == data_test.Time.reset_index(drop=True)[TEST_SIZE -1])"
   ]
  },
  {
   "cell_type": "code",
   "execution_count": 52,
   "metadata": {},
   "outputs": [],
   "source": [
    "assert(data.Time.min() == data_train.Time.reset_index(drop=True)[0])\n"
   ]
  },
  {
   "cell_type": "markdown",
   "metadata": {},
   "source": [
    "## Training Word2Vec Model on data_train"
   ]
  },
  {
   "cell_type": "markdown",
   "metadata": {},
   "source": [
    "#### Preparing a corpus to create a Word2Vec model"
   ]
  },
  {
   "cell_type": "code",
   "execution_count": 53,
   "metadata": {},
   "outputs": [],
   "source": [
    "corpus = [review.split() for review in data_train.Text.values]\n"
   ]
  },
  {
   "cell_type": "code",
   "execution_count": 54,
   "metadata": {},
   "outputs": [],
   "source": [
    "assert(len(corpus) == TRAIN_SIZE)"
   ]
  },
  {
   "cell_type": "code",
   "execution_count": 55,
   "metadata": {},
   "outputs": [
    {
     "name": "stdout",
     "output_type": "stream",
     "text": [
      "special acting effects movie well written everything delighted view chose beetlejuice\n",
      "*****************************************************************\n",
      "['special', 'acting', 'effects', 'movie', 'well', 'written', 'everything', 'delighted', 'view', 'chose', 'beetlejuice']\n"
     ]
    }
   ],
   "source": [
    "print(data.Text.values[0])\n",
    "print(\"*****************************************************************\")\n",
    "print(corpus[0])"
   ]
  },
  {
   "cell_type": "markdown",
   "metadata": {},
   "source": [
    "#### Training Word2Vec on train data"
   ]
  },
  {
   "cell_type": "code",
   "execution_count": 56,
   "metadata": {},
   "outputs": [],
   "source": [
    "import multiprocessing\n",
    "from gensim.models.word2vec import Word2Vec\n",
    "params = {\n",
    "    'size': 100,\n",
    "    'min_count': 5, \n",
    "    'workers': max(1, multiprocessing.cpu_count()),}\n",
    "model = Word2Vec(corpus, **params)"
   ]
  },
  {
   "cell_type": "code",
   "execution_count": 57,
   "metadata": {},
   "outputs": [
    {
     "data": {
      "text/plain": [
       "[('sadly', 0.8150196671485901),\n",
       " ('pictured', 0.7997119426727295),\n",
       " ('calling', 0.7924827933311462),\n",
       " ('description', 0.7873637080192566),\n",
       " ('marked', 0.7853572368621826),\n",
       " ('expectations', 0.7799867391586304),\n",
       " ('earlier', 0.7767242789268494),\n",
       " ('writing', 0.7761337757110596),\n",
       " ('returning', 0.7696765065193176),\n",
       " ('wrote', 0.7684863805770874)]"
      ]
     },
     "execution_count": 57,
     "metadata": {},
     "output_type": "execute_result"
    }
   ],
   "source": [
    "model.wv.most_similar('disappointed')"
   ]
  },
  {
   "cell_type": "code",
   "execution_count": 58,
   "metadata": {},
   "outputs": [
    {
     "data": {
      "text/plain": [
       "[('lots', 0.6477276086807251),\n",
       " ('excellent', 0.638221263885498),\n",
       " ('enjoy', 0.6336777806282043),\n",
       " ('beat', 0.6081674098968506),\n",
       " ('enough', 0.6070799827575684),\n",
       " ('creamy', 0.6005898714065552),\n",
       " ('remember', 0.5996477007865906),\n",
       " ('enjoying', 0.5981705188751221),\n",
       " ('unlike', 0.5971493721008301),\n",
       " ('hooked', 0.5941672325134277)]"
      ]
     },
     "execution_count": 58,
     "metadata": {},
     "output_type": "execute_result"
    }
   ],
   "source": [
    "model.wv.most_similar('love')"
   ]
  },
  {
   "cell_type": "markdown",
   "metadata": {},
   "source": [
    "## Creating our feature sets"
   ]
  },
  {
   "cell_type": "code",
   "execution_count": 59,
   "metadata": {},
   "outputs": [],
   "source": [
    "from sklearn.feature_extraction.text import TfidfVectorizer"
   ]
  },
  {
   "cell_type": "markdown",
   "metadata": {},
   "source": [
    "#### Fitting TFIDF vectorizer on train data"
   ]
  },
  {
   "cell_type": "code",
   "execution_count": 60,
   "metadata": {},
   "outputs": [],
   "source": [
    "features = data_train.Text\n",
    "labels = data_train.Polarity"
   ]
  },
  {
   "cell_type": "code",
   "execution_count": 61,
   "metadata": {},
   "outputs": [],
   "source": [
    "tfidf = TfidfVectorizer(ngram_range=(1, 2))\n",
    "tf_idf_vect = tfidf.fit_transform(features.values)\n",
    "tfidf_feat = tfidf.get_feature_names()"
   ]
  },
  {
   "cell_type": "code",
   "execution_count": 62,
   "metadata": {},
   "outputs": [
    {
     "data": {
      "text/plain": [
       "(254882, 1864296)"
      ]
     },
     "execution_count": 62,
     "metadata": {},
     "output_type": "execute_result"
    }
   ],
   "source": [
    "tf_idf_vect.get_shape()"
   ]
  },
  {
   "cell_type": "code",
   "execution_count": 63,
   "metadata": {},
   "outputs": [
    {
     "data": {
      "text/plain": [
       "['auto ryvita',\n",
       " 'auto said',\n",
       " 'auto sealed',\n",
       " 'auto seaseme',\n",
       " 'auto selection',\n",
       " 'auto sent',\n",
       " 'auto separate',\n",
       " 'auto service',\n",
       " 'auto setting',\n",
       " 'auto ship']"
      ]
     },
     "execution_count": 63,
     "metadata": {},
     "output_type": "execute_result"
    }
   ],
   "source": [
    "tfidf_feat[100000:100010]"
   ]
  },
  {
   "cell_type": "code",
   "execution_count": 64,
   "metadata": {},
   "outputs": [
    {
     "data": {
      "text/plain": [
       "'special acting effects movie well written everything delighted view chose beetlejuice'"
      ]
     },
     "execution_count": 64,
     "metadata": {},
     "output_type": "execute_result"
    }
   ],
   "source": [
    "features[0]\n"
   ]
  },
  {
   "cell_type": "code",
   "execution_count": 65,
   "metadata": {},
   "outputs": [
    {
     "data": {
      "text/plain": [
       "0.118903489844112"
      ]
     },
     "execution_count": 65,
     "metadata": {},
     "output_type": "execute_result"
    }
   ],
   "source": [
    "tf_idf_vect[0, tfidf_feat.index('special')]"
   ]
  },
  {
   "cell_type": "markdown",
   "metadata": {},
   "source": [
    "#### Creating a hashmap to find the index of the tfidf vector for a review"
   ]
  },
  {
   "cell_type": "code",
   "execution_count": 66,
   "metadata": {},
   "outputs": [],
   "source": [
    "z = pd.DataFrame(tfidf_feat).reset_index()\n",
    "z.columns = ['index', 'word']\n",
    "z = z.set_index('word')\n",
    "zd = z.to_dict()['index']"
   ]
  },
  {
   "cell_type": "code",
   "execution_count": 67,
   "metadata": {},
   "outputs": [
    {
     "name": "stdout",
     "output_type": "stream",
     "text": [
      "45.5 ns ± 1.16 ns per loop (mean ± std. dev. of 7 runs, 10000000 loops each)\n"
     ]
    }
   ],
   "source": [
    "%%timeit\n",
    "zd['well']"
   ]
  },
  {
   "cell_type": "code",
   "execution_count": 68,
   "metadata": {},
   "outputs": [],
   "source": [
    "from tqdm import tqdm_notebook as tqdm"
   ]
  },
  {
   "cell_type": "code",
   "execution_count": 69,
   "metadata": {},
   "outputs": [],
   "source": [
    "def process_tfidf_word2vec(corpus, table):\n",
    "    global review_vec\n",
    "    global rejected\n",
    "    row = 0\n",
    "    for doc in tqdm(corpus):\n",
    "        review = [model.wv[word] for word in doc \n",
    "                  if model.wv.__contains__(word)]\n",
    "        review = np.array(review)\n",
    "        if review.shape[0] == 0:\n",
    "#             print(doc)\n",
    "#             print(review)\n",
    "#             print(row)\n",
    "            rejected.append(row)\n",
    "            row += 1\n",
    "            continue\n",
    "        tfidfs = [tf_idf_vect[row, table[word]] for word in doc \n",
    "                  if model.wv.__contains__(word)]\n",
    "        tfidfs = np.array(tfidfs)\n",
    "        if tfidfs.shape[0] == 0:\n",
    "#             print(doc)\n",
    "#             print(tfidfs)\n",
    "#             print(row)\n",
    "            rejected.append(row)\n",
    "            row += 1\n",
    "            continue\n",
    "        denominator = tfidfs.sum()\n",
    "        if denominator == 0.0:\n",
    "#             print(doc)\n",
    "#             print(tfidfs)\n",
    "#             print(row)\n",
    "            rejected.append(row)\n",
    "            row += 1\n",
    "            continue\n",
    "        numerator = review * tfidfs.reshape(review.shape[0], 1)\n",
    "\n",
    "        all_vecs = numerator / denominator\n",
    "        avg = np.sum(review, axis=0)\n",
    "        avg_list = avg.tolist()\n",
    "        review_vec.append(avg_list)\n",
    "        row += 1"
   ]
  },
  {
   "cell_type": "markdown",
   "metadata": {},
   "source": [
    "#### Creating training data"
   ]
  },
  {
   "cell_type": "code",
   "execution_count": 70,
   "metadata": {},
   "outputs": [],
   "source": [
    "review_vec = []\n",
    "rejected = []"
   ]
  },
  {
   "cell_type": "code",
   "execution_count": 71,
   "metadata": {},
   "outputs": [
    {
     "data": {
      "application/vnd.jupyter.widget-view+json": {
       "model_id": "6237edc928a44ede84d5077980627cf7",
       "version_major": 2,
       "version_minor": 0
      },
      "text/plain": [
       "HBox(children=(IntProgress(value=0, max=254882), HTML(value='')))"
      ]
     },
     "metadata": {},
     "output_type": "display_data"
    },
    {
     "name": "stdout",
     "output_type": "stream",
     "text": [
      "\n"
     ]
    }
   ],
   "source": [
    "process_tfidf_word2vec(corpus, zd)"
   ]
  },
  {
   "cell_type": "code",
   "execution_count": 72,
   "metadata": {},
   "outputs": [
    {
     "data": {
      "text/plain": [
       "[]"
      ]
     },
     "execution_count": 72,
     "metadata": {},
     "output_type": "execute_result"
    }
   ],
   "source": [
    "rejected"
   ]
  },
  {
   "cell_type": "code",
   "execution_count": 73,
   "metadata": {},
   "outputs": [],
   "source": [
    "assert(len(review_vec) == TRAIN_SIZE - len(rejected))"
   ]
  },
  {
   "cell_type": "code",
   "execution_count": 74,
   "metadata": {},
   "outputs": [],
   "source": [
    "Dtrain = pd.DataFrame(review_vec)"
   ]
  },
  {
   "cell_type": "code",
   "execution_count": 75,
   "metadata": {},
   "outputs": [],
   "source": [
    "Dtrain['Label'] = data_train.Polarity.values"
   ]
  },
  {
   "cell_type": "code",
   "execution_count": 76,
   "metadata": {},
   "outputs": [
    {
     "data": {
      "text/html": [
       "<div>\n",
       "<style scoped>\n",
       "    .dataframe tbody tr th:only-of-type {\n",
       "        vertical-align: middle;\n",
       "    }\n",
       "\n",
       "    .dataframe tbody tr th {\n",
       "        vertical-align: top;\n",
       "    }\n",
       "\n",
       "    .dataframe thead th {\n",
       "        text-align: right;\n",
       "    }\n",
       "</style>\n",
       "<table border=\"1\" class=\"dataframe\">\n",
       "  <thead>\n",
       "    <tr style=\"text-align: right;\">\n",
       "      <th></th>\n",
       "      <th>0</th>\n",
       "      <th>1</th>\n",
       "      <th>2</th>\n",
       "      <th>3</th>\n",
       "      <th>4</th>\n",
       "      <th>5</th>\n",
       "      <th>6</th>\n",
       "      <th>7</th>\n",
       "      <th>8</th>\n",
       "      <th>9</th>\n",
       "      <th>...</th>\n",
       "      <th>91</th>\n",
       "      <th>92</th>\n",
       "      <th>93</th>\n",
       "      <th>94</th>\n",
       "      <th>95</th>\n",
       "      <th>96</th>\n",
       "      <th>97</th>\n",
       "      <th>98</th>\n",
       "      <th>99</th>\n",
       "      <th>Label</th>\n",
       "    </tr>\n",
       "  </thead>\n",
       "  <tbody>\n",
       "    <tr>\n",
       "      <th>0</th>\n",
       "      <td>-3.919083</td>\n",
       "      <td>6.698974</td>\n",
       "      <td>-1.606934</td>\n",
       "      <td>2.167706</td>\n",
       "      <td>-1.569327</td>\n",
       "      <td>-3.441705</td>\n",
       "      <td>-2.344378</td>\n",
       "      <td>3.434829</td>\n",
       "      <td>-3.354669</td>\n",
       "      <td>-6.088552</td>\n",
       "      <td>...</td>\n",
       "      <td>3.079075</td>\n",
       "      <td>0.838742</td>\n",
       "      <td>2.306767</td>\n",
       "      <td>6.725860</td>\n",
       "      <td>-3.526942</td>\n",
       "      <td>13.108291</td>\n",
       "      <td>-10.133601</td>\n",
       "      <td>5.196177</td>\n",
       "      <td>3.032531</td>\n",
       "      <td>positive</td>\n",
       "    </tr>\n",
       "    <tr>\n",
       "      <th>1</th>\n",
       "      <td>-2.563767</td>\n",
       "      <td>0.373244</td>\n",
       "      <td>2.188727</td>\n",
       "      <td>0.788589</td>\n",
       "      <td>0.456519</td>\n",
       "      <td>0.843408</td>\n",
       "      <td>-5.964007</td>\n",
       "      <td>-1.396787</td>\n",
       "      <td>-1.616609</td>\n",
       "      <td>2.659016</td>\n",
       "      <td>...</td>\n",
       "      <td>-0.127668</td>\n",
       "      <td>0.461477</td>\n",
       "      <td>-0.251318</td>\n",
       "      <td>0.438959</td>\n",
       "      <td>1.208000</td>\n",
       "      <td>4.025536</td>\n",
       "      <td>-4.070363</td>\n",
       "      <td>-2.498171</td>\n",
       "      <td>-0.258417</td>\n",
       "      <td>positive</td>\n",
       "    </tr>\n",
       "    <tr>\n",
       "      <th>2</th>\n",
       "      <td>-4.769782</td>\n",
       "      <td>15.742468</td>\n",
       "      <td>2.814626</td>\n",
       "      <td>0.801279</td>\n",
       "      <td>5.544626</td>\n",
       "      <td>1.043070</td>\n",
       "      <td>-2.063164</td>\n",
       "      <td>4.071217</td>\n",
       "      <td>-5.034811</td>\n",
       "      <td>-0.271394</td>\n",
       "      <td>...</td>\n",
       "      <td>4.492488</td>\n",
       "      <td>-6.571737</td>\n",
       "      <td>-5.140901</td>\n",
       "      <td>3.777081</td>\n",
       "      <td>5.010118</td>\n",
       "      <td>17.393679</td>\n",
       "      <td>-9.799546</td>\n",
       "      <td>1.904413</td>\n",
       "      <td>-0.260088</td>\n",
       "      <td>positive</td>\n",
       "    </tr>\n",
       "    <tr>\n",
       "      <th>3</th>\n",
       "      <td>-3.174931</td>\n",
       "      <td>1.728552</td>\n",
       "      <td>3.800104</td>\n",
       "      <td>0.411368</td>\n",
       "      <td>8.071153</td>\n",
       "      <td>0.473030</td>\n",
       "      <td>-3.728433</td>\n",
       "      <td>-1.721413</td>\n",
       "      <td>-7.125080</td>\n",
       "      <td>-3.926273</td>\n",
       "      <td>...</td>\n",
       "      <td>5.894567</td>\n",
       "      <td>-3.641558</td>\n",
       "      <td>-7.267379</td>\n",
       "      <td>3.751650</td>\n",
       "      <td>5.668237</td>\n",
       "      <td>13.071115</td>\n",
       "      <td>-6.745919</td>\n",
       "      <td>-1.734539</td>\n",
       "      <td>-1.152124</td>\n",
       "      <td>positive</td>\n",
       "    </tr>\n",
       "    <tr>\n",
       "      <th>4</th>\n",
       "      <td>-11.398147</td>\n",
       "      <td>4.173595</td>\n",
       "      <td>17.720469</td>\n",
       "      <td>5.839493</td>\n",
       "      <td>11.931543</td>\n",
       "      <td>-0.803510</td>\n",
       "      <td>-4.289410</td>\n",
       "      <td>-2.616890</td>\n",
       "      <td>-13.540527</td>\n",
       "      <td>-4.709617</td>\n",
       "      <td>...</td>\n",
       "      <td>9.431850</td>\n",
       "      <td>-7.322816</td>\n",
       "      <td>-16.493114</td>\n",
       "      <td>11.266760</td>\n",
       "      <td>5.345065</td>\n",
       "      <td>17.641626</td>\n",
       "      <td>-7.568055</td>\n",
       "      <td>0.206682</td>\n",
       "      <td>-6.126608</td>\n",
       "      <td>negative</td>\n",
       "    </tr>\n",
       "  </tbody>\n",
       "</table>\n",
       "<p>5 rows × 101 columns</p>\n",
       "</div>"
      ],
      "text/plain": [
       "           0          1          2         3          4         5         6  \\\n",
       "0  -3.919083   6.698974  -1.606934  2.167706  -1.569327 -3.441705 -2.344378   \n",
       "1  -2.563767   0.373244   2.188727  0.788589   0.456519  0.843408 -5.964007   \n",
       "2  -4.769782  15.742468   2.814626  0.801279   5.544626  1.043070 -2.063164   \n",
       "3  -3.174931   1.728552   3.800104  0.411368   8.071153  0.473030 -3.728433   \n",
       "4 -11.398147   4.173595  17.720469  5.839493  11.931543 -0.803510 -4.289410   \n",
       "\n",
       "          7          8         9    ...           91        92         93  \\\n",
       "0  3.434829  -3.354669 -6.088552    ...     3.079075  0.838742   2.306767   \n",
       "1 -1.396787  -1.616609  2.659016    ...    -0.127668  0.461477  -0.251318   \n",
       "2  4.071217  -5.034811 -0.271394    ...     4.492488 -6.571737  -5.140901   \n",
       "3 -1.721413  -7.125080 -3.926273    ...     5.894567 -3.641558  -7.267379   \n",
       "4 -2.616890 -13.540527 -4.709617    ...     9.431850 -7.322816 -16.493114   \n",
       "\n",
       "          94        95         96         97        98        99     Label  \n",
       "0   6.725860 -3.526942  13.108291 -10.133601  5.196177  3.032531  positive  \n",
       "1   0.438959  1.208000   4.025536  -4.070363 -2.498171 -0.258417  positive  \n",
       "2   3.777081  5.010118  17.393679  -9.799546  1.904413 -0.260088  positive  \n",
       "3   3.751650  5.668237  13.071115  -6.745919 -1.734539 -1.152124  positive  \n",
       "4  11.266760  5.345065  17.641626  -7.568055  0.206682 -6.126608  negative  \n",
       "\n",
       "[5 rows x 101 columns]"
      ]
     },
     "execution_count": 76,
     "metadata": {},
     "output_type": "execute_result"
    }
   ],
   "source": [
    "Dtrain.head()"
   ]
  },
  {
   "cell_type": "markdown",
   "metadata": {},
   "source": [
    "#### Fitting TFIDF vectorizer on test data"
   ]
  },
  {
   "cell_type": "code",
   "execution_count": 77,
   "metadata": {},
   "outputs": [
    {
     "data": {
      "text/plain": [
       "(109236, 1036883)"
      ]
     },
     "execution_count": 77,
     "metadata": {},
     "output_type": "execute_result"
    }
   ],
   "source": [
    "features = data_test.Text.reset_index(drop=True)\n",
    "labels = data_test.Polarity.reset_index(drop=True)\n",
    "\n",
    "tfidf = TfidfVectorizer(ngram_range=(1, 2))\n",
    "tf_idf_vect = tfidf.fit_transform(features.values)\n",
    "tfidf_feat = tfidf.get_feature_names()\n",
    "\n",
    "tf_idf_vect.get_shape()"
   ]
  },
  {
   "cell_type": "code",
   "execution_count": 78,
   "metadata": {},
   "outputs": [
    {
     "data": {
      "text/plain": [
       "['bowl overjoyed',\n",
       " 'bowl packets',\n",
       " 'bowl pains',\n",
       " 'bowl pair',\n",
       " 'bowl papaya',\n",
       " 'bowl paranoia',\n",
       " 'bowl parents',\n",
       " 'bowl peanut',\n",
       " 'bowl peculiar',\n",
       " 'bowl peterson']"
      ]
     },
     "execution_count": 78,
     "metadata": {},
     "output_type": "execute_result"
    }
   ],
   "source": [
    "tfidf_feat[100000:100010]"
   ]
  },
  {
   "cell_type": "code",
   "execution_count": 79,
   "metadata": {},
   "outputs": [
    {
     "data": {
      "text/plain": [
       "'stop semi could worth chips extra like husband taste ghirardelli sweet eating chocolate'"
      ]
     },
     "execution_count": 79,
     "metadata": {},
     "output_type": "execute_result"
    }
   ],
   "source": [
    "features[0]"
   ]
  },
  {
   "cell_type": "code",
   "execution_count": 80,
   "metadata": {},
   "outputs": [
    {
     "data": {
      "text/plain": [
       "0.135775381865707"
      ]
     },
     "execution_count": 80,
     "metadata": {},
     "output_type": "execute_result"
    }
   ],
   "source": [
    "tf_idf_vect[0, tfidf_feat.index('chips')]"
   ]
  },
  {
   "cell_type": "markdown",
   "metadata": {},
   "source": [
    "#### Creating a hashmap to find the index of the tfidf vector for a review"
   ]
  },
  {
   "cell_type": "code",
   "execution_count": 81,
   "metadata": {},
   "outputs": [],
   "source": [
    "z = pd.DataFrame(tfidf_feat).reset_index()\n",
    "z.columns = ['index', 'word']\n",
    "z = z.set_index('word')\n",
    "zd = z.to_dict()['index']"
   ]
  },
  {
   "cell_type": "markdown",
   "metadata": {},
   "source": [
    "#### Creating testing data"
   ]
  },
  {
   "cell_type": "code",
   "execution_count": 82,
   "metadata": {},
   "outputs": [
    {
     "data": {
      "application/vnd.jupyter.widget-view+json": {
       "model_id": "f84f204ced254419b5707f383af1fa42",
       "version_major": 2,
       "version_minor": 0
      },
      "text/plain": [
       "HBox(children=(IntProgress(value=0, max=109236), HTML(value='')))"
      ]
     },
     "metadata": {},
     "output_type": "display_data"
    },
    {
     "name": "stdout",
     "output_type": "stream",
     "text": [
      "\n"
     ]
    }
   ],
   "source": [
    "review_vec = []\n",
    "rejected = []\n",
    "corpus = [review.split() for review in features]\n",
    "process_tfidf_word2vec(corpus, zd)"
   ]
  },
  {
   "cell_type": "code",
   "execution_count": 83,
   "metadata": {},
   "outputs": [
    {
     "data": {
      "text/plain": [
       "[]"
      ]
     },
     "execution_count": 83,
     "metadata": {},
     "output_type": "execute_result"
    }
   ],
   "source": [
    "rejected"
   ]
  },
  {
   "cell_type": "code",
   "execution_count": 84,
   "metadata": {},
   "outputs": [],
   "source": [
    "assert(len(review_vec) == TEST_SIZE)"
   ]
  },
  {
   "cell_type": "code",
   "execution_count": 85,
   "metadata": {},
   "outputs": [],
   "source": [
    "Dtest = pd.DataFrame(review_vec)\n",
    "Dtest['Label'] = labels"
   ]
  },
  {
   "cell_type": "code",
   "execution_count": 86,
   "metadata": {},
   "outputs": [
    {
     "data": {
      "text/html": [
       "<div>\n",
       "<style scoped>\n",
       "    .dataframe tbody tr th:only-of-type {\n",
       "        vertical-align: middle;\n",
       "    }\n",
       "\n",
       "    .dataframe tbody tr th {\n",
       "        vertical-align: top;\n",
       "    }\n",
       "\n",
       "    .dataframe thead th {\n",
       "        text-align: right;\n",
       "    }\n",
       "</style>\n",
       "<table border=\"1\" class=\"dataframe\">\n",
       "  <thead>\n",
       "    <tr style=\"text-align: right;\">\n",
       "      <th></th>\n",
       "      <th>0</th>\n",
       "      <th>1</th>\n",
       "      <th>2</th>\n",
       "      <th>3</th>\n",
       "      <th>4</th>\n",
       "      <th>5</th>\n",
       "      <th>6</th>\n",
       "      <th>7</th>\n",
       "      <th>8</th>\n",
       "      <th>9</th>\n",
       "      <th>...</th>\n",
       "      <th>91</th>\n",
       "      <th>92</th>\n",
       "      <th>93</th>\n",
       "      <th>94</th>\n",
       "      <th>95</th>\n",
       "      <th>96</th>\n",
       "      <th>97</th>\n",
       "      <th>98</th>\n",
       "      <th>99</th>\n",
       "      <th>Label</th>\n",
       "    </tr>\n",
       "  </thead>\n",
       "  <tbody>\n",
       "    <tr>\n",
       "      <th>0</th>\n",
       "      <td>2.488526</td>\n",
       "      <td>20.701178</td>\n",
       "      <td>-8.581582</td>\n",
       "      <td>0.195872</td>\n",
       "      <td>4.095670</td>\n",
       "      <td>4.767016</td>\n",
       "      <td>-3.030686</td>\n",
       "      <td>-5.081410</td>\n",
       "      <td>8.403255</td>\n",
       "      <td>-2.266223</td>\n",
       "      <td>...</td>\n",
       "      <td>3.838959</td>\n",
       "      <td>-5.953161</td>\n",
       "      <td>-8.748277</td>\n",
       "      <td>0.449905</td>\n",
       "      <td>10.146443</td>\n",
       "      <td>1.176590</td>\n",
       "      <td>0.427269</td>\n",
       "      <td>-5.266908</td>\n",
       "      <td>0.472882</td>\n",
       "      <td>positive</td>\n",
       "    </tr>\n",
       "    <tr>\n",
       "      <th>1</th>\n",
       "      <td>-5.746807</td>\n",
       "      <td>22.576071</td>\n",
       "      <td>-11.535794</td>\n",
       "      <td>3.042543</td>\n",
       "      <td>2.957444</td>\n",
       "      <td>12.293008</td>\n",
       "      <td>12.642280</td>\n",
       "      <td>-4.397332</td>\n",
       "      <td>12.586325</td>\n",
       "      <td>-0.635215</td>\n",
       "      <td>...</td>\n",
       "      <td>6.599420</td>\n",
       "      <td>7.905776</td>\n",
       "      <td>-36.465202</td>\n",
       "      <td>3.938663</td>\n",
       "      <td>15.171597</td>\n",
       "      <td>13.696743</td>\n",
       "      <td>-14.310510</td>\n",
       "      <td>0.122235</td>\n",
       "      <td>-7.225564</td>\n",
       "      <td>positive</td>\n",
       "    </tr>\n",
       "    <tr>\n",
       "      <th>2</th>\n",
       "      <td>6.782385</td>\n",
       "      <td>19.200939</td>\n",
       "      <td>-1.147379</td>\n",
       "      <td>8.869946</td>\n",
       "      <td>-2.341001</td>\n",
       "      <td>10.697120</td>\n",
       "      <td>-3.938172</td>\n",
       "      <td>-1.970506</td>\n",
       "      <td>-3.708237</td>\n",
       "      <td>-9.499657</td>\n",
       "      <td>...</td>\n",
       "      <td>2.247544</td>\n",
       "      <td>-6.149432</td>\n",
       "      <td>-7.272695</td>\n",
       "      <td>-0.844343</td>\n",
       "      <td>5.667860</td>\n",
       "      <td>-1.665368</td>\n",
       "      <td>-7.349421</td>\n",
       "      <td>-6.404699</td>\n",
       "      <td>8.484426</td>\n",
       "      <td>positive</td>\n",
       "    </tr>\n",
       "    <tr>\n",
       "      <th>3</th>\n",
       "      <td>3.630759</td>\n",
       "      <td>19.670630</td>\n",
       "      <td>1.481296</td>\n",
       "      <td>8.434503</td>\n",
       "      <td>-3.862170</td>\n",
       "      <td>-0.274631</td>\n",
       "      <td>-1.422816</td>\n",
       "      <td>5.987234</td>\n",
       "      <td>-7.538827</td>\n",
       "      <td>-9.865144</td>\n",
       "      <td>...</td>\n",
       "      <td>-2.878778</td>\n",
       "      <td>-11.124446</td>\n",
       "      <td>4.355464</td>\n",
       "      <td>7.803609</td>\n",
       "      <td>1.964467</td>\n",
       "      <td>6.491103</td>\n",
       "      <td>-13.555345</td>\n",
       "      <td>8.298500</td>\n",
       "      <td>12.504223</td>\n",
       "      <td>positive</td>\n",
       "    </tr>\n",
       "    <tr>\n",
       "      <th>4</th>\n",
       "      <td>-5.435309</td>\n",
       "      <td>37.838650</td>\n",
       "      <td>-8.913232</td>\n",
       "      <td>21.145014</td>\n",
       "      <td>4.484749</td>\n",
       "      <td>8.219103</td>\n",
       "      <td>-2.975430</td>\n",
       "      <td>9.300751</td>\n",
       "      <td>-8.307211</td>\n",
       "      <td>-5.729055</td>\n",
       "      <td>...</td>\n",
       "      <td>17.301378</td>\n",
       "      <td>-4.348619</td>\n",
       "      <td>-23.882622</td>\n",
       "      <td>14.147071</td>\n",
       "      <td>16.473051</td>\n",
       "      <td>37.749058</td>\n",
       "      <td>-21.590834</td>\n",
       "      <td>5.346241</td>\n",
       "      <td>18.967165</td>\n",
       "      <td>positive</td>\n",
       "    </tr>\n",
       "  </tbody>\n",
       "</table>\n",
       "<p>5 rows × 101 columns</p>\n",
       "</div>"
      ],
      "text/plain": [
       "          0          1          2          3         4          5          6  \\\n",
       "0  2.488526  20.701178  -8.581582   0.195872  4.095670   4.767016  -3.030686   \n",
       "1 -5.746807  22.576071 -11.535794   3.042543  2.957444  12.293008  12.642280   \n",
       "2  6.782385  19.200939  -1.147379   8.869946 -2.341001  10.697120  -3.938172   \n",
       "3  3.630759  19.670630   1.481296   8.434503 -3.862170  -0.274631  -1.422816   \n",
       "4 -5.435309  37.838650  -8.913232  21.145014  4.484749   8.219103  -2.975430   \n",
       "\n",
       "          7          8         9    ...            91         92         93  \\\n",
       "0 -5.081410   8.403255 -2.266223    ...      3.838959  -5.953161  -8.748277   \n",
       "1 -4.397332  12.586325 -0.635215    ...      6.599420   7.905776 -36.465202   \n",
       "2 -1.970506  -3.708237 -9.499657    ...      2.247544  -6.149432  -7.272695   \n",
       "3  5.987234  -7.538827 -9.865144    ...     -2.878778 -11.124446   4.355464   \n",
       "4  9.300751  -8.307211 -5.729055    ...     17.301378  -4.348619 -23.882622   \n",
       "\n",
       "          94         95         96         97        98         99     Label  \n",
       "0   0.449905  10.146443   1.176590   0.427269 -5.266908   0.472882  positive  \n",
       "1   3.938663  15.171597  13.696743 -14.310510  0.122235  -7.225564  positive  \n",
       "2  -0.844343   5.667860  -1.665368  -7.349421 -6.404699   8.484426  positive  \n",
       "3   7.803609   1.964467   6.491103 -13.555345  8.298500  12.504223  positive  \n",
       "4  14.147071  16.473051  37.749058 -21.590834  5.346241  18.967165  positive  \n",
       "\n",
       "[5 rows x 101 columns]"
      ]
     },
     "execution_count": 86,
     "metadata": {},
     "output_type": "execute_result"
    }
   ],
   "source": [
    "Dtest.head()\n"
   ]
  },
  {
   "cell_type": "markdown",
   "metadata": {},
   "source": [
    "## Scaling the data"
   ]
  },
  {
   "cell_type": "code",
   "execution_count": 87,
   "metadata": {},
   "outputs": [],
   "source": [
    "from sklearn.preprocessing import StandardScaler"
   ]
  },
  {
   "cell_type": "code",
   "execution_count": 89,
   "metadata": {},
   "outputs": [],
   "source": [
    "sclr = StandardScaler(copy=True)"
   ]
  },
  {
   "cell_type": "code",
   "execution_count": 91,
   "metadata": {},
   "outputs": [],
   "source": [
    "Dtrain.drop(['Label'], inplace=True, axis=1)"
   ]
  },
  {
   "cell_type": "code",
   "execution_count": 92,
   "metadata": {},
   "outputs": [],
   "source": [
    "Dtest.drop(['Label'], inplace=True, axis=1)"
   ]
  },
  {
   "cell_type": "code",
   "execution_count": 93,
   "metadata": {},
   "outputs": [],
   "source": [
    "Dtrain_scaled = sclr.fit_transform(Dtrain)"
   ]
  },
  {
   "cell_type": "code",
   "execution_count": 94,
   "metadata": {},
   "outputs": [],
   "source": [
    "Dtest_scaled = sclr.fit_transform(Dtest)"
   ]
  },
  {
   "cell_type": "code",
   "execution_count": 95,
   "metadata": {},
   "outputs": [],
   "source": [
    "from sklearn.linear_model import LogisticRegression\n",
    "from sklearn.model_selection import GridSearchCV"
   ]
  },
  {
   "cell_type": "code",
   "execution_count": 96,
   "metadata": {},
   "outputs": [],
   "source": [
    "params = {\n",
    "    'C': [1e-4, 1e-3, 1e-2, 1e-1, 1e0, 1e1, 1e2, 1e3, 1e4]\n",
    "}"
   ]
  },
  {
   "cell_type": "code",
   "execution_count": 98,
   "metadata": {},
   "outputs": [
    {
     "data": {
      "text/plain": [
       "positive    216859\n",
       "negative     38023\n",
       "Name: Polarity, dtype: int64"
      ]
     },
     "execution_count": 98,
     "metadata": {},
     "output_type": "execute_result"
    }
   ],
   "source": [
    "data_train.Polarity.value_counts()"
   ]
  },
  {
   "cell_type": "markdown",
   "metadata": {},
   "source": [
    "As we can see that it is highly imbalanced dataset, we can use class_weights to manage that"
   ]
  },
  {
   "cell_type": "code",
   "execution_count": 99,
   "metadata": {},
   "outputs": [
    {
     "data": {
      "text/plain": [
       "5"
      ]
     },
     "execution_count": 99,
     "metadata": {},
     "output_type": "execute_result"
    }
   ],
   "source": [
    "216859 // 38023"
   ]
  },
  {
   "cell_type": "code",
   "execution_count": 100,
   "metadata": {},
   "outputs": [],
   "source": [
    "estimator = LogisticRegression(random_state=42, class_weight={0: 5, 1: 1}, solver='saga')"
   ]
  },
  {
   "cell_type": "code",
   "execution_count": 101,
   "metadata": {},
   "outputs": [
    {
     "data": {
      "text/plain": [
       "LogisticRegression(C=1.0, class_weight={0: 5, 1: 1}, dual=False,\n",
       "          fit_intercept=True, intercept_scaling=1, max_iter=100,\n",
       "          multi_class='ovr', n_jobs=1, penalty='l2', random_state=42,\n",
       "          solver='saga', tol=0.0001, verbose=0, warm_start=False)"
      ]
     },
     "execution_count": 101,
     "metadata": {},
     "output_type": "execute_result"
    }
   ],
   "source": [
    "estimator"
   ]
  },
  {
   "cell_type": "code",
   "execution_count": 102,
   "metadata": {},
   "outputs": [],
   "source": [
    "grid = GridSearchCV(estimator=estimator,\n",
    "                    param_grid=params,\n",
    "                    scoring={'accuracy', 'precision', 'f1', 'recall'},\n",
    "                    refit='f1', # Because we are using multiple evaluation metrics\n",
    "                    cv=10,\n",
    "                    return_train_score=True,\n",
    "                    verbose=2,\n",
    "                    n_jobs=8)  ## Using only 8 cores out of 12 cores"
   ]
  },
  {
   "cell_type": "code",
   "execution_count": 103,
   "metadata": {},
   "outputs": [],
   "source": [
    "features = Dtrain_scaled\n",
    "labels = data_train.Polarity.apply(lambda x: 1 if x == 'positive' else 0).values"
   ]
  },
  {
   "cell_type": "code",
   "execution_count": 104,
   "metadata": {},
   "outputs": [
    {
     "data": {
      "text/plain": [
       "(254882, 100)"
      ]
     },
     "execution_count": 104,
     "metadata": {},
     "output_type": "execute_result"
    }
   ],
   "source": [
    "features.shape\n"
   ]
  },
  {
   "cell_type": "code",
   "execution_count": 105,
   "metadata": {},
   "outputs": [
    {
     "data": {
      "text/plain": [
       "254882"
      ]
     },
     "execution_count": 105,
     "metadata": {},
     "output_type": "execute_result"
    }
   ],
   "source": [
    "len(labels)\n"
   ]
  },
  {
   "cell_type": "code",
   "execution_count": 106,
   "metadata": {
    "collapsed": true
   },
   "outputs": [
    {
     "name": "stdout",
     "output_type": "stream",
     "text": [
      "Fitting 10 folds for each of 9 candidates, totalling 90 fits\n",
      "[CV] C=0.0001 ........................................................\n",
      "[CV] C=0.0001 ........................................................\n",
      "[CV] C=0.0001 ........................................................\n",
      "[CV] C=0.0001 ........................................................\n",
      "[CV] C=0.0001 ........................................................\n",
      "[CV] C=0.0001 ........................................................\n",
      "[CV] C=0.0001 ........................................................\n",
      "[CV] C=0.0001 ........................................................\n",
      "[CV] ......................................... C=0.0001, total=   7.6s\n",
      "[CV] C=0.0001 ........................................................\n",
      "[CV] ......................................... C=0.0001, total=   7.5s\n",
      "[CV] C=0.0001 ........................................................\n",
      "[CV] ......................................... C=0.0001, total=   8.3s\n",
      "[CV] C=0.001 .........................................................\n",
      "[CV] ......................................... C=0.0001, total=   8.5s\n",
      "[CV] C=0.001 .........................................................\n",
      "[CV] ......................................... C=0.0001, total=   8.4s\n",
      "[CV] C=0.001 .........................................................\n",
      "[CV] ......................................... C=0.0001, total=   9.2s\n",
      "[CV] C=0.001 .........................................................\n",
      "[CV] ......................................... C=0.0001, total=   9.5s\n",
      "[CV] C=0.001 .........................................................\n",
      "[CV] ......................................... C=0.0001, total=  10.9s\n",
      "[CV] C=0.001 .........................................................\n",
      "[CV] ......................................... C=0.0001, total=  10.2s\n",
      "[CV] C=0.001 .........................................................\n",
      "[CV] ......................................... C=0.0001, total=  10.1s\n",
      "[CV] C=0.001 .........................................................\n",
      "[CV] .......................................... C=0.001, total=  11.1s\n",
      "[CV] C=0.001 .........................................................\n",
      "[CV] .......................................... C=0.001, total=  11.8s\n",
      "[CV] C=0.001 .........................................................\n",
      "[CV] .......................................... C=0.001, total=  11.5s\n",
      "[CV] C=0.01 ..........................................................\n",
      "[CV] .......................................... C=0.001, total=  13.9s\n",
      "[CV] C=0.01 ..........................................................\n",
      "[CV] .......................................... C=0.001, total=  13.8s\n",
      "[CV] C=0.01 ..........................................................\n",
      "[CV] .......................................... C=0.001, total=  13.7s\n",
      "[CV] C=0.01 ..........................................................\n",
      "[CV] .......................................... C=0.001, total=  11.9s\n",
      "[CV] C=0.01 ..........................................................\n",
      "[CV] .......................................... C=0.001, total=  13.0s\n",
      "[CV] C=0.01 ..........................................................\n",
      "[CV] .......................................... C=0.001, total=  11.8s\n",
      "[CV] C=0.01 ..........................................................\n",
      "[CV] .......................................... C=0.001, total=  10.5s\n",
      "[CV] C=0.01 ..........................................................\n",
      "[CV] ........................................... C=0.01, total=  15.8s\n",
      "[CV] C=0.01 ..........................................................\n",
      "[CV] ........................................... C=0.01, total=  15.5s\n",
      "[CV] C=0.01 ..........................................................\n",
      "[CV] ........................................... C=0.01, total=  15.5s\n",
      "[CV] C=0.1 ...........................................................\n",
      "[CV] ........................................... C=0.01, total=  16.2s\n",
      "[CV] C=0.1 ...........................................................\n",
      "[CV] ........................................... C=0.01, total=  16.4s\n",
      "[CV] C=0.1 ...........................................................\n",
      "[CV] ........................................... C=0.01, total=  16.1s\n"
     ]
    },
    {
     "name": "stderr",
     "output_type": "stream",
     "text": [
      "[Parallel(n_jobs=8)]: Done  25 tasks      | elapsed:   49.6s\n"
     ]
    },
    {
     "name": "stdout",
     "output_type": "stream",
     "text": [
      "[CV] C=0.1 ...........................................................\n",
      "[CV] ........................................... C=0.01, total=  14.9s\n",
      "[CV] C=0.1 ...........................................................\n",
      "[CV] ........................................... C=0.01, total=  16.7s\n",
      "[CV] C=0.1 ...........................................................\n",
      "[CV] ........................................... C=0.01, total=  14.7s\n",
      "[CV] C=0.1 ...........................................................\n",
      "[CV] ........................................... C=0.01, total=  16.5s\n",
      "[CV] C=0.1 ...........................................................\n",
      "[CV] ............................................ C=0.1, total=  18.6s\n",
      "[CV] C=0.1 ...........................................................\n",
      "[CV] ............................................ C=0.1, total=  17.3s\n",
      "[CV] C=0.1 ...........................................................\n",
      "[CV] ............................................ C=0.1, total=  16.6s\n",
      "[CV] C=1.0 ...........................................................\n",
      "[CV] ............................................ C=0.1, total=  16.5s\n",
      "[CV] C=1.0 ...........................................................\n",
      "[CV] ............................................ C=0.1, total=  16.8s\n",
      "[CV] C=1.0 ...........................................................\n",
      "[CV] ............................................ C=0.1, total=  17.4s\n",
      "[CV] C=1.0 ...........................................................\n",
      "[CV] ............................................ C=0.1, total=  18.0s\n",
      "[CV] C=1.0 ...........................................................\n",
      "[CV] ............................................ C=0.1, total=  17.0s\n",
      "[CV] C=1.0 ...........................................................\n",
      "[CV] ............................................ C=0.1, total=  14.1s\n",
      "[CV] C=1.0 ...........................................................\n",
      "[CV] ............................................ C=0.1, total=  17.4s\n",
      "[CV] C=1.0 ...........................................................\n",
      "[CV] ............................................ C=1.0, total=  16.2s\n",
      "[CV] C=1.0 ...........................................................\n",
      "[CV] ............................................ C=1.0, total=  16.6s\n",
      "[CV] C=1.0 ...........................................................\n",
      "[CV] ............................................ C=1.0, total=  17.0s\n",
      "[CV] C=10.0 ..........................................................\n",
      "[CV] ............................................ C=1.0, total=  17.2s\n",
      "[CV] C=10.0 ..........................................................\n",
      "[CV] ............................................ C=1.0, total=  16.9s\n",
      "[CV] C=10.0 ..........................................................\n",
      "[CV] ............................................ C=1.0, total=  16.6s\n",
      "[CV] C=10.0 ..........................................................\n",
      "[CV] ............................................ C=1.0, total=  18.2s\n",
      "[CV] C=10.0 ..........................................................\n",
      "[CV] ............................................ C=1.0, total=  18.4s\n",
      "[CV] C=10.0 ..........................................................\n",
      "[CV] ............................................ C=1.0, total=  15.1s\n",
      "[CV] C=10.0 ..........................................................\n",
      "[CV] ............................................ C=1.0, total=  16.8s\n",
      "[CV] C=10.0 ..........................................................\n",
      "[CV] ........................................... C=10.0, total=  16.3s\n",
      "[CV] C=10.0 ..........................................................\n",
      "[CV] ........................................... C=10.0, total=  15.5s\n",
      "[CV] C=10.0 ..........................................................\n",
      "[CV] ........................................... C=10.0, total=  17.7s\n",
      "[CV] C=100.0 .........................................................\n",
      "[CV] ........................................... C=10.0, total=  16.3s\n",
      "[CV] C=100.0 .........................................................\n",
      "[CV] ........................................... C=10.0, total=  16.2s\n",
      "[CV] C=100.0 .........................................................\n",
      "[CV] ........................................... C=10.0, total=  16.5s\n",
      "[CV] C=100.0 .........................................................\n",
      "[CV] ........................................... C=10.0, total=  16.6s\n",
      "[CV] C=100.0 .........................................................\n",
      "[CV] ........................................... C=10.0, total=  16.4s\n",
      "[CV] C=100.0 .........................................................\n",
      "[CV] ........................................... C=10.0, total=  15.4s\n",
      "[CV] C=100.0 .........................................................\n",
      "[CV] ........................................... C=10.0, total=  17.5s\n",
      "[CV] C=100.0 .........................................................\n",
      "[CV] .......................................... C=100.0, total=  16.2s\n",
      "[CV] C=100.0 .........................................................\n",
      "[CV] .......................................... C=100.0, total=  16.6s\n",
      "[CV] C=100.0 .........................................................\n",
      "[CV] .......................................... C=100.0, total=  15.6s\n",
      "[CV] C=1000.0 ........................................................\n",
      "[CV] .......................................... C=100.0, total=  21.1s\n",
      "[CV] C=1000.0 ........................................................\n",
      "[CV] .......................................... C=100.0, total=  18.6s\n",
      "[CV] C=1000.0 ........................................................\n",
      "[CV] .......................................... C=100.0, total=  14.7s\n",
      "[CV] C=1000.0 ........................................................\n",
      "[CV] .......................................... C=100.0, total=  18.5s\n",
      "[CV] C=1000.0 ........................................................\n",
      "[CV] .......................................... C=100.0, total=  17.4s\n",
      "[CV] C=1000.0 ........................................................\n",
      "[CV] .......................................... C=100.0, total=  16.9s\n",
      "[CV] C=1000.0 ........................................................\n",
      "[CV] .......................................... C=100.0, total=  16.0s\n",
      "[CV] C=1000.0 ........................................................\n",
      "[CV] ......................................... C=1000.0, total=  16.5s\n",
      "[CV] C=1000.0 ........................................................\n",
      "[CV] ......................................... C=1000.0, total=  15.2s\n",
      "[CV] C=1000.0 ........................................................\n",
      "[CV] ......................................... C=1000.0, total=  18.5s\n",
      "[CV] C=10000.0 .......................................................\n",
      "[CV] ......................................... C=1000.0, total=  15.9s\n",
      "[CV] ......................................... C=1000.0, total=  16.7s\n",
      "[CV] C=10000.0 .......................................................\n",
      "[CV] ......................................... C=1000.0, total=  19.3s\n",
      "[CV] C=10000.0 .......................................................\n",
      "[CV] C=10000.0 .......................................................\n",
      "[CV] ......................................... C=1000.0, total=  16.8s\n",
      "[CV] C=10000.0 .......................................................\n",
      "[CV] ......................................... C=1000.0, total=  17.3s\n",
      "[CV] C=10000.0 .......................................................\n",
      "[CV] ......................................... C=1000.0, total=  16.2s\n",
      "[CV] C=10000.0 .......................................................\n",
      "[CV] ......................................... C=1000.0, total=  15.3s\n",
      "[CV] C=10000.0 .......................................................\n",
      "[CV] ........................................ C=10000.0, total=  15.3s\n",
      "[CV] C=10000.0 .......................................................\n",
      "[CV] ........................................ C=10000.0, total=  15.8s\n",
      "[CV] C=10000.0 .......................................................\n",
      "[CV] ........................................ C=10000.0, total=  18.1s\n",
      "[CV] ........................................ C=10000.0, total=  18.4s\n",
      "[CV] ........................................ C=10000.0, total=  15.9s\n"
     ]
    },
    {
     "name": "stdout",
     "output_type": "stream",
     "text": [
      "[CV] ........................................ C=10000.0, total=  15.1s\n",
      "[CV] ........................................ C=10000.0, total=  15.9s\n",
      "[CV] ........................................ C=10000.0, total=  16.0s\n",
      "[CV] ........................................ C=10000.0, total=  13.3s\n",
      "[CV] ........................................ C=10000.0, total=  14.7s\n"
     ]
    },
    {
     "name": "stderr",
     "output_type": "stream",
     "text": [
      "[Parallel(n_jobs=8)]: Done  90 out of  90 | elapsed:  3.1min finished\n"
     ]
    },
    {
     "data": {
      "text/plain": [
       "GridSearchCV(cv=10, error_score='raise',\n",
       "       estimator=LogisticRegression(C=1.0, class_weight={0: 5, 1: 1}, dual=False,\n",
       "          fit_intercept=True, intercept_scaling=1, max_iter=100,\n",
       "          multi_class='ovr', n_jobs=1, penalty='l2', random_state=42,\n",
       "          solver='saga', tol=0.0001, verbose=0, warm_start=False),\n",
       "       fit_params=None, iid=True, n_jobs=8,\n",
       "       param_grid={'C': [0.0001, 0.001, 0.01, 0.1, 1.0, 10.0, 100.0, 1000.0, 10000.0]},\n",
       "       pre_dispatch='2*n_jobs', refit='f1', return_train_score=True,\n",
       "       scoring={'f1', 'recall', 'precision', 'accuracy'}, verbose=2)"
      ]
     },
     "execution_count": 106,
     "metadata": {},
     "output_type": "execute_result"
    }
   ],
   "source": [
    "grid.fit(features, labels)"
   ]
  },
  {
   "cell_type": "code",
   "execution_count": 107,
   "metadata": {},
   "outputs": [],
   "source": [
    "from collections import defaultdict"
   ]
  },
  {
   "cell_type": "code",
   "execution_count": 108,
   "metadata": {},
   "outputs": [],
   "source": [
    "def get_summary(grid):\n",
    "    parms = list(grid.param_grid.keys())\n",
    "    columns = ['Iter #']\n",
    "    scorings = grid.scoring\n",
    "    for scoring in scorings:\n",
    "        for typ in ['train', 'test']:\n",
    "            columns.append(f'{typ}_{scoring}')\n",
    "    columns.extend(['fit_time', 'score_time'])\n",
    "    for param in grid.param_grid.keys():\n",
    "        columns.append(param)\n",
    "    df = pd.DataFrame(columns=columns)\n",
    "    cv_res = grid.cv_results_\n",
    "    for col in columns[1:-len(parms)]:\n",
    "        df[col] = cv_res['mean_' + col]\n",
    "    items = 1\n",
    "    for k, v in grid.param_grid.items():\n",
    "        items *= len(v)\n",
    "    df['Iter #'] = np.array(range(items)) + 1\n",
    "    res = defaultdict(list)\n",
    "    for each in grid.cv_results_['params']:\n",
    "        for p in parms:\n",
    "            res[p].append(each[p])\n",
    "    for k, v in res.items():\n",
    "        df[k] = v\n",
    "    return df"
   ]
  },
  {
   "cell_type": "code",
   "execution_count": 109,
   "metadata": {},
   "outputs": [
    {
     "data": {
      "text/html": [
       "<div>\n",
       "<style scoped>\n",
       "    .dataframe tbody tr th:only-of-type {\n",
       "        vertical-align: middle;\n",
       "    }\n",
       "\n",
       "    .dataframe tbody tr th {\n",
       "        vertical-align: top;\n",
       "    }\n",
       "\n",
       "    .dataframe thead th {\n",
       "        text-align: right;\n",
       "    }\n",
       "</style>\n",
       "<table border=\"1\" class=\"dataframe\">\n",
       "  <thead>\n",
       "    <tr style=\"text-align: right;\">\n",
       "      <th></th>\n",
       "      <th>Iter #</th>\n",
       "      <th>train_f1</th>\n",
       "      <th>test_f1</th>\n",
       "      <th>train_recall</th>\n",
       "      <th>test_recall</th>\n",
       "      <th>train_precision</th>\n",
       "      <th>test_precision</th>\n",
       "      <th>train_accuracy</th>\n",
       "      <th>test_accuracy</th>\n",
       "      <th>fit_time</th>\n",
       "      <th>score_time</th>\n",
       "      <th>C</th>\n",
       "    </tr>\n",
       "  </thead>\n",
       "  <tbody>\n",
       "    <tr>\n",
       "      <th>0</th>\n",
       "      <td>1</td>\n",
       "      <td>0.897138</td>\n",
       "      <td>0.896777</td>\n",
       "      <td>0.842333</td>\n",
       "      <td>0.841865</td>\n",
       "      <td>0.959570</td>\n",
       "      <td>0.959531</td>\n",
       "      <td>0.835658</td>\n",
       "      <td>0.835190</td>\n",
       "      <td>8.903398</td>\n",
       "      <td>0.119493</td>\n",
       "      <td>0.0001</td>\n",
       "    </tr>\n",
       "    <tr>\n",
       "      <th>1</th>\n",
       "      <td>2</td>\n",
       "      <td>0.896312</td>\n",
       "      <td>0.895947</td>\n",
       "      <td>0.839583</td>\n",
       "      <td>0.839209</td>\n",
       "      <td>0.961262</td>\n",
       "      <td>0.961065</td>\n",
       "      <td>0.834727</td>\n",
       "      <td>0.834221</td>\n",
       "      <td>12.243578</td>\n",
       "      <td>0.067481</td>\n",
       "      <td>0.0010</td>\n",
       "    </tr>\n",
       "    <tr>\n",
       "      <th>2</th>\n",
       "      <td>3</td>\n",
       "      <td>0.895802</td>\n",
       "      <td>0.895470</td>\n",
       "      <td>0.838566</td>\n",
       "      <td>0.838227</td>\n",
       "      <td>0.961423</td>\n",
       "      <td>0.961252</td>\n",
       "      <td>0.834021</td>\n",
       "      <td>0.833566</td>\n",
       "      <td>15.762055</td>\n",
       "      <td>0.073786</td>\n",
       "      <td>0.0100</td>\n",
       "    </tr>\n",
       "    <tr>\n",
       "      <th>3</th>\n",
       "      <td>4</td>\n",
       "      <td>0.895741</td>\n",
       "      <td>0.895359</td>\n",
       "      <td>0.838446</td>\n",
       "      <td>0.838019</td>\n",
       "      <td>0.961441</td>\n",
       "      <td>0.961269</td>\n",
       "      <td>0.833936</td>\n",
       "      <td>0.833409</td>\n",
       "      <td>16.892130</td>\n",
       "      <td>0.073409</td>\n",
       "      <td>0.1000</td>\n",
       "    </tr>\n",
       "    <tr>\n",
       "      <th>4</th>\n",
       "      <td>5</td>\n",
       "      <td>0.895735</td>\n",
       "      <td>0.895350</td>\n",
       "      <td>0.838432</td>\n",
       "      <td>0.838001</td>\n",
       "      <td>0.961446</td>\n",
       "      <td>0.961273</td>\n",
       "      <td>0.833929</td>\n",
       "      <td>0.833397</td>\n",
       "      <td>16.810234</td>\n",
       "      <td>0.088442</td>\n",
       "      <td>1.0000</td>\n",
       "    </tr>\n",
       "    <tr>\n",
       "      <th>5</th>\n",
       "      <td>6</td>\n",
       "      <td>0.895733</td>\n",
       "      <td>0.895358</td>\n",
       "      <td>0.838429</td>\n",
       "      <td>0.838010</td>\n",
       "      <td>0.961444</td>\n",
       "      <td>0.961279</td>\n",
       "      <td>0.833925</td>\n",
       "      <td>0.833409</td>\n",
       "      <td>16.364698</td>\n",
       "      <td>0.073310</td>\n",
       "      <td>10.0000</td>\n",
       "    </tr>\n",
       "    <tr>\n",
       "      <th>6</th>\n",
       "      <td>7</td>\n",
       "      <td>0.895733</td>\n",
       "      <td>0.895358</td>\n",
       "      <td>0.838429</td>\n",
       "      <td>0.838010</td>\n",
       "      <td>0.961444</td>\n",
       "      <td>0.961279</td>\n",
       "      <td>0.833925</td>\n",
       "      <td>0.833409</td>\n",
       "      <td>17.083408</td>\n",
       "      <td>0.066737</td>\n",
       "      <td>100.0000</td>\n",
       "    </tr>\n",
       "    <tr>\n",
       "      <th>7</th>\n",
       "      <td>8</td>\n",
       "      <td>0.895732</td>\n",
       "      <td>0.895358</td>\n",
       "      <td>0.838429</td>\n",
       "      <td>0.838010</td>\n",
       "      <td>0.961444</td>\n",
       "      <td>0.961279</td>\n",
       "      <td>0.833925</td>\n",
       "      <td>0.833409</td>\n",
       "      <td>16.663428</td>\n",
       "      <td>0.098894</td>\n",
       "      <td>1000.0000</td>\n",
       "    </tr>\n",
       "    <tr>\n",
       "      <th>8</th>\n",
       "      <td>9</td>\n",
       "      <td>0.895732</td>\n",
       "      <td>0.895358</td>\n",
       "      <td>0.838429</td>\n",
       "      <td>0.838010</td>\n",
       "      <td>0.961444</td>\n",
       "      <td>0.961279</td>\n",
       "      <td>0.833925</td>\n",
       "      <td>0.833409</td>\n",
       "      <td>15.791569</td>\n",
       "      <td>0.058040</td>\n",
       "      <td>10000.0000</td>\n",
       "    </tr>\n",
       "  </tbody>\n",
       "</table>\n",
       "</div>"
      ],
      "text/plain": [
       "   Iter #  train_f1   test_f1  train_recall  test_recall  train_precision  \\\n",
       "0       1  0.897138  0.896777      0.842333     0.841865         0.959570   \n",
       "1       2  0.896312  0.895947      0.839583     0.839209         0.961262   \n",
       "2       3  0.895802  0.895470      0.838566     0.838227         0.961423   \n",
       "3       4  0.895741  0.895359      0.838446     0.838019         0.961441   \n",
       "4       5  0.895735  0.895350      0.838432     0.838001         0.961446   \n",
       "5       6  0.895733  0.895358      0.838429     0.838010         0.961444   \n",
       "6       7  0.895733  0.895358      0.838429     0.838010         0.961444   \n",
       "7       8  0.895732  0.895358      0.838429     0.838010         0.961444   \n",
       "8       9  0.895732  0.895358      0.838429     0.838010         0.961444   \n",
       "\n",
       "   test_precision  train_accuracy  test_accuracy   fit_time  score_time  \\\n",
       "0        0.959531        0.835658       0.835190   8.903398    0.119493   \n",
       "1        0.961065        0.834727       0.834221  12.243578    0.067481   \n",
       "2        0.961252        0.834021       0.833566  15.762055    0.073786   \n",
       "3        0.961269        0.833936       0.833409  16.892130    0.073409   \n",
       "4        0.961273        0.833929       0.833397  16.810234    0.088442   \n",
       "5        0.961279        0.833925       0.833409  16.364698    0.073310   \n",
       "6        0.961279        0.833925       0.833409  17.083408    0.066737   \n",
       "7        0.961279        0.833925       0.833409  16.663428    0.098894   \n",
       "8        0.961279        0.833925       0.833409  15.791569    0.058040   \n",
       "\n",
       "            C  \n",
       "0      0.0001  \n",
       "1      0.0010  \n",
       "2      0.0100  \n",
       "3      0.1000  \n",
       "4      1.0000  \n",
       "5     10.0000  \n",
       "6    100.0000  \n",
       "7   1000.0000  \n",
       "8  10000.0000  "
      ]
     },
     "execution_count": 109,
     "metadata": {},
     "output_type": "execute_result"
    }
   ],
   "source": [
    "get_summary(grid)"
   ]
  },
  {
   "cell_type": "code",
   "execution_count": 110,
   "metadata": {},
   "outputs": [
    {
     "data": {
      "text/plain": [
       "LogisticRegression(C=0.0001, class_weight={0: 5, 1: 1}, dual=False,\n",
       "          fit_intercept=True, intercept_scaling=1, max_iter=100,\n",
       "          multi_class='ovr', n_jobs=1, penalty='l2', random_state=42,\n",
       "          solver='saga', tol=0.0001, verbose=0, warm_start=False)"
      ]
     },
     "execution_count": 110,
     "metadata": {},
     "output_type": "execute_result"
    }
   ],
   "source": [
    "grid.best_estimator_"
   ]
  },
  {
   "cell_type": "markdown",
   "metadata": {},
   "source": [
    "Stange the class weights didn't imporove the recall and f1 score but it drastically improved the precision. Lets try decresing the penalty of negative class see if it improves"
   ]
  },
  {
   "cell_type": "code",
   "execution_count": 111,
   "metadata": {},
   "outputs": [],
   "source": [
    "estimator = LogisticRegression(random_state=42, class_weight={0: 3, 1: 1}, solver='saga')"
   ]
  },
  {
   "cell_type": "code",
   "execution_count": 112,
   "metadata": {},
   "outputs": [
    {
     "name": "stdout",
     "output_type": "stream",
     "text": [
      "Fitting 10 folds for each of 9 candidates, totalling 90 fits\n",
      "[CV] C=0.0001 ........................................................\n",
      "[CV] C=0.0001 ........................................................\n",
      "[CV] C=0.0001 ........................................................\n",
      "[CV] C=0.0001 ........................................................\n",
      "[CV] C=0.0001 ........................................................\n",
      "[CV] C=0.0001 ........................................................\n",
      "[CV] C=0.0001 ........................................................\n",
      "[CV] C=0.0001 ........................................................\n",
      "[CV] ......................................... C=0.0001, total=   7.9s\n",
      "[CV] C=0.0001 ........................................................\n",
      "[CV] ......................................... C=0.0001, total=   7.5s\n",
      "[CV] C=0.0001 ........................................................\n",
      "[CV] ......................................... C=0.0001, total=   7.8s\n",
      "[CV] C=0.001 .........................................................\n",
      "[CV] ......................................... C=0.0001, total=   9.7s\n",
      "[CV] C=0.001 .........................................................\n",
      "[CV] ......................................... C=0.0001, total=  10.1s\n",
      "[CV] ......................................... C=0.0001, total=   9.1s\n",
      "[CV] ......................................... C=0.0001, total=   8.4s\n",
      "[CV] C=0.001 .........................................................\n",
      "[CV] C=0.001 .........................................................\n",
      "[CV] C=0.001 .........................................................\n",
      "[CV] ......................................... C=0.0001, total=  10.5s\n",
      "[CV] C=0.001 .........................................................\n",
      "[CV] ......................................... C=0.0001, total=   9.0s\n",
      "[CV] C=0.001 .........................................................\n",
      "[CV] ......................................... C=0.0001, total=  10.5s\n",
      "[CV] C=0.001 .........................................................\n",
      "[CV] .......................................... C=0.001, total=  11.7s\n",
      "[CV] C=0.001 .........................................................\n",
      "[CV] .......................................... C=0.001, total=  11.9s\n",
      "[CV] C=0.001 .........................................................\n",
      "[CV] .......................................... C=0.001, total=  11.9s\n",
      "[CV] C=0.01 ..........................................................\n",
      "[CV] .......................................... C=0.001, total=  12.3s\n",
      "[CV] C=0.01 ..........................................................\n",
      "[CV] .......................................... C=0.001, total=  12.2s\n",
      "[CV] C=0.01 ..........................................................\n",
      "[CV] .......................................... C=0.001, total=  14.2s\n",
      "[CV] C=0.01 ..........................................................\n",
      "[CV] .......................................... C=0.001, total=  11.3s\n",
      "[CV] C=0.01 ..........................................................\n",
      "[CV] .......................................... C=0.001, total=  13.6s\n",
      "[CV] C=0.01 ..........................................................\n",
      "[CV] .......................................... C=0.001, total=  10.9s\n",
      "[CV] C=0.01 ..........................................................\n",
      "[CV] .......................................... C=0.001, total=  13.0s\n",
      "[CV] C=0.01 ..........................................................\n",
      "[CV] ........................................... C=0.01, total=  15.4s\n",
      "[CV] C=0.01 ..........................................................\n",
      "[CV] ........................................... C=0.01, total=  16.7s\n",
      "[CV] C=0.01 ..........................................................\n",
      "[CV] ........................................... C=0.01, total=  16.5s\n",
      "[CV] C=0.1 ...........................................................\n",
      "[CV] ........................................... C=0.01, total=  16.5s\n",
      "[CV] C=0.1 ...........................................................\n",
      "[CV] ........................................... C=0.01, total=  15.3s\n",
      "[CV] C=0.1 ...........................................................\n"
     ]
    },
    {
     "name": "stderr",
     "output_type": "stream",
     "text": [
      "[Parallel(n_jobs=8)]: Done  25 tasks      | elapsed:   47.7s\n"
     ]
    },
    {
     "name": "stdout",
     "output_type": "stream",
     "text": [
      "[CV] ........................................... C=0.01, total=  16.6s\n",
      "[CV] C=0.1 ...........................................................\n",
      "[CV] ........................................... C=0.01, total=  16.2s\n",
      "[CV] C=0.1 ...........................................................\n",
      "[CV] ........................................... C=0.01, total=  16.5s\n",
      "[CV] C=0.1 ...........................................................\n",
      "[CV] ........................................... C=0.01, total=  15.9s\n",
      "[CV] C=0.1 ...........................................................\n",
      "[CV] ........................................... C=0.01, total=  14.4s\n",
      "[CV] C=0.1 ...........................................................\n",
      "[CV] ............................................ C=0.1, total=  16.8s\n",
      "[CV] C=0.1 ...........................................................\n",
      "[CV] ............................................ C=0.1, total=  16.8s\n",
      "[CV] C=0.1 ...........................................................\n",
      "[CV] ............................................ C=0.1, total=  15.6s\n",
      "[CV] C=1.0 ...........................................................\n",
      "[CV] ............................................ C=0.1, total=  16.3s\n",
      "[CV] C=1.0 ...........................................................\n",
      "[CV] ............................................ C=0.1, total=  16.4s\n",
      "[CV] C=1.0 ...........................................................\n",
      "[CV] ............................................ C=0.1, total=  17.7s\n",
      "[CV] C=1.0 ...........................................................\n",
      "[CV] ............................................ C=0.1, total=  16.5s\n",
      "[CV] C=1.0 ...........................................................\n",
      "[CV] ............................................ C=0.1, total=  16.9s\n",
      "[CV] C=1.0 ...........................................................\n",
      "[CV] ............................................ C=0.1, total=  14.3s\n",
      "[CV] C=1.0 ...........................................................\n",
      "[CV] ............................................ C=0.1, total=  16.7s\n",
      "[CV] C=1.0 ...........................................................\n",
      "[CV] ............................................ C=1.0, total=  16.5s\n",
      "[CV] C=1.0 ...........................................................\n",
      "[CV] ............................................ C=1.0, total=  16.6s\n",
      "[CV] C=1.0 ...........................................................\n",
      "[CV] ............................................ C=1.0, total=  16.4s\n",
      "[CV] C=10.0 ..........................................................\n",
      "[CV] ............................................ C=1.0, total=  15.9s\n",
      "[CV] C=10.0 ..........................................................\n",
      "[CV] ............................................ C=1.0, total=  16.5s\n",
      "[CV] C=10.0 ..........................................................\n",
      "[CV] ............................................ C=1.0, total=  16.2s\n",
      "[CV] C=10.0 ..........................................................\n",
      "[CV] ............................................ C=1.0, total=  16.4s\n",
      "[CV] C=10.0 ..........................................................\n",
      "[CV] ............................................ C=1.0, total=  16.8s\n",
      "[CV] C=10.0 ..........................................................\n",
      "[CV] ............................................ C=1.0, total=  17.2s\n",
      "[CV] C=10.0 ..........................................................\n",
      "[CV] ............................................ C=1.0, total=  15.2s\n",
      "[CV] C=10.0 ..........................................................\n",
      "[CV] ........................................... C=10.0, total=  16.2s\n",
      "[CV] C=10.0 ..........................................................\n",
      "[CV] ........................................... C=10.0, total=  15.6s\n",
      "[CV] C=10.0 ..........................................................\n",
      "[CV] ........................................... C=10.0, total=  15.9s\n",
      "[CV] C=100.0 .........................................................\n",
      "[CV] ........................................... C=10.0, total=  16.1s\n",
      "[CV] C=100.0 .........................................................\n",
      "[CV] ........................................... C=10.0, total=  16.6s\n",
      "[CV] C=100.0 .........................................................\n",
      "[CV] ........................................... C=10.0, total=  17.4s\n",
      "[CV] C=100.0 .........................................................\n",
      "[CV] ........................................... C=10.0, total=  16.8s\n",
      "[CV] C=100.0 .........................................................\n",
      "[CV] ........................................... C=10.0, total=  16.1s\n",
      "[CV] C=100.0 .........................................................\n",
      "[CV] ........................................... C=10.0, total=  15.9s\n",
      "[CV] C=100.0 .........................................................\n",
      "[CV] ........................................... C=10.0, total=  15.1s\n",
      "[CV] C=100.0 .........................................................\n",
      "[CV] .......................................... C=100.0, total=  16.8s\n",
      "[CV] C=100.0 .........................................................\n",
      "[CV] .......................................... C=100.0, total=  16.5s\n",
      "[CV] C=100.0 .........................................................\n",
      "[CV] .......................................... C=100.0, total=  17.3s\n",
      "[CV] C=1000.0 ........................................................\n",
      "[CV] .......................................... C=100.0, total=  15.6s\n",
      "[CV] C=1000.0 ........................................................\n",
      "[CV] .......................................... C=100.0, total=  16.5s\n",
      "[CV] C=1000.0 ........................................................\n",
      "[CV] .......................................... C=100.0, total=  16.9s\n",
      "[CV] C=1000.0 ........................................................\n",
      "[CV] .......................................... C=100.0, total=  16.4s\n",
      "[CV] C=1000.0 ........................................................\n",
      "[CV] .......................................... C=100.0, total=  18.3s\n",
      "[CV] C=1000.0 ........................................................\n",
      "[CV] .......................................... C=100.0, total=  14.8s\n",
      "[CV] C=1000.0 ........................................................\n",
      "[CV] .......................................... C=100.0, total=  16.5s\n",
      "[CV] C=1000.0 ........................................................\n",
      "[CV] ......................................... C=1000.0, total=  16.3s\n",
      "[CV] C=1000.0 ........................................................\n",
      "[CV] ......................................... C=1000.0, total=  17.0s\n",
      "[CV] C=1000.0 ........................................................\n",
      "[CV] ......................................... C=1000.0, total=  16.4s\n",
      "[CV] C=10000.0 .......................................................\n",
      "[CV] ......................................... C=1000.0, total=  18.6s\n",
      "[CV] C=10000.0 .......................................................\n",
      "[CV] ......................................... C=1000.0, total=  16.5s\n",
      "[CV] C=10000.0 .......................................................\n",
      "[CV] ......................................... C=1000.0, total=  17.8s\n",
      "[CV] C=10000.0 .......................................................\n",
      "[CV] ......................................... C=1000.0, total=  16.4s\n",
      "[CV] C=10000.0 .......................................................\n",
      "[CV] ......................................... C=1000.0, total=  16.7s\n",
      "[CV] C=10000.0 .......................................................\n",
      "[CV] ......................................... C=1000.0, total=  16.6s\n",
      "[CV] C=10000.0 .......................................................\n",
      "[CV] ......................................... C=1000.0, total=  15.3s\n",
      "[CV] C=10000.0 .......................................................\n",
      "[CV] ........................................ C=10000.0, total=  15.0s\n",
      "[CV] C=10000.0 .......................................................\n",
      "[CV] ........................................ C=10000.0, total=  17.4s\n",
      "[CV] C=10000.0 .......................................................\n",
      "[CV] ........................................ C=10000.0, total=  16.1s\n",
      "[CV] ........................................ C=10000.0, total=  16.4s\n"
     ]
    },
    {
     "name": "stdout",
     "output_type": "stream",
     "text": [
      "[CV] ........................................ C=10000.0, total=  16.4s\n",
      "[CV] ........................................ C=10000.0, total=  16.1s\n",
      "[CV] ........................................ C=10000.0, total=  16.2s\n",
      "[CV] ........................................ C=10000.0, total=  15.9s\n",
      "[CV] ........................................ C=10000.0, total=  14.7s\n",
      "[CV] ........................................ C=10000.0, total=  13.5s\n"
     ]
    },
    {
     "name": "stderr",
     "output_type": "stream",
     "text": [
      "[Parallel(n_jobs=8)]: Done  90 out of  90 | elapsed:  3.1min finished\n"
     ]
    },
    {
     "data": {
      "text/plain": [
       "GridSearchCV(cv=10, error_score='raise',\n",
       "       estimator=LogisticRegression(C=1.0, class_weight={0: 5, 1: 1}, dual=False,\n",
       "          fit_intercept=True, intercept_scaling=1, max_iter=100,\n",
       "          multi_class='ovr', n_jobs=1, penalty='l2', random_state=42,\n",
       "          solver='saga', tol=0.0001, verbose=0, warm_start=False),\n",
       "       fit_params=None, iid=True, n_jobs=8,\n",
       "       param_grid={'C': [0.0001, 0.001, 0.01, 0.1, 1.0, 10.0, 100.0, 1000.0, 10000.0]},\n",
       "       pre_dispatch='2*n_jobs', refit='f1', return_train_score=True,\n",
       "       scoring={'f1', 'recall', 'precision', 'accuracy'}, verbose=2)"
      ]
     },
     "execution_count": 112,
     "metadata": {},
     "output_type": "execute_result"
    }
   ],
   "source": [
    "grid.fit(features, labels)"
   ]
  },
  {
   "cell_type": "code",
   "execution_count": 113,
   "metadata": {},
   "outputs": [
    {
     "data": {
      "text/html": [
       "<div>\n",
       "<style scoped>\n",
       "    .dataframe tbody tr th:only-of-type {\n",
       "        vertical-align: middle;\n",
       "    }\n",
       "\n",
       "    .dataframe tbody tr th {\n",
       "        vertical-align: top;\n",
       "    }\n",
       "\n",
       "    .dataframe thead th {\n",
       "        text-align: right;\n",
       "    }\n",
       "</style>\n",
       "<table border=\"1\" class=\"dataframe\">\n",
       "  <thead>\n",
       "    <tr style=\"text-align: right;\">\n",
       "      <th></th>\n",
       "      <th>Iter #</th>\n",
       "      <th>train_f1</th>\n",
       "      <th>test_f1</th>\n",
       "      <th>train_recall</th>\n",
       "      <th>test_recall</th>\n",
       "      <th>train_precision</th>\n",
       "      <th>test_precision</th>\n",
       "      <th>train_accuracy</th>\n",
       "      <th>test_accuracy</th>\n",
       "      <th>fit_time</th>\n",
       "      <th>score_time</th>\n",
       "      <th>C</th>\n",
       "    </tr>\n",
       "  </thead>\n",
       "  <tbody>\n",
       "    <tr>\n",
       "      <th>0</th>\n",
       "      <td>1</td>\n",
       "      <td>0.897138</td>\n",
       "      <td>0.896777</td>\n",
       "      <td>0.842333</td>\n",
       "      <td>0.841865</td>\n",
       "      <td>0.959570</td>\n",
       "      <td>0.959531</td>\n",
       "      <td>0.835658</td>\n",
       "      <td>0.835190</td>\n",
       "      <td>8.935793</td>\n",
       "      <td>0.118431</td>\n",
       "      <td>0.0001</td>\n",
       "    </tr>\n",
       "    <tr>\n",
       "      <th>1</th>\n",
       "      <td>2</td>\n",
       "      <td>0.896312</td>\n",
       "      <td>0.895947</td>\n",
       "      <td>0.839583</td>\n",
       "      <td>0.839209</td>\n",
       "      <td>0.961262</td>\n",
       "      <td>0.961065</td>\n",
       "      <td>0.834727</td>\n",
       "      <td>0.834221</td>\n",
       "      <td>12.219735</td>\n",
       "      <td>0.070869</td>\n",
       "      <td>0.0010</td>\n",
       "    </tr>\n",
       "    <tr>\n",
       "      <th>2</th>\n",
       "      <td>3</td>\n",
       "      <td>0.895802</td>\n",
       "      <td>0.895470</td>\n",
       "      <td>0.838566</td>\n",
       "      <td>0.838227</td>\n",
       "      <td>0.961423</td>\n",
       "      <td>0.961252</td>\n",
       "      <td>0.834021</td>\n",
       "      <td>0.833566</td>\n",
       "      <td>15.906968</td>\n",
       "      <td>0.077983</td>\n",
       "      <td>0.0100</td>\n",
       "    </tr>\n",
       "    <tr>\n",
       "      <th>3</th>\n",
       "      <td>4</td>\n",
       "      <td>0.895741</td>\n",
       "      <td>0.895359</td>\n",
       "      <td>0.838446</td>\n",
       "      <td>0.838019</td>\n",
       "      <td>0.961441</td>\n",
       "      <td>0.961269</td>\n",
       "      <td>0.833936</td>\n",
       "      <td>0.833409</td>\n",
       "      <td>16.322985</td>\n",
       "      <td>0.068721</td>\n",
       "      <td>0.1000</td>\n",
       "    </tr>\n",
       "    <tr>\n",
       "      <th>4</th>\n",
       "      <td>5</td>\n",
       "      <td>0.895735</td>\n",
       "      <td>0.895350</td>\n",
       "      <td>0.838432</td>\n",
       "      <td>0.838001</td>\n",
       "      <td>0.961446</td>\n",
       "      <td>0.961273</td>\n",
       "      <td>0.833929</td>\n",
       "      <td>0.833397</td>\n",
       "      <td>16.294483</td>\n",
       "      <td>0.082232</td>\n",
       "      <td>1.0000</td>\n",
       "    </tr>\n",
       "    <tr>\n",
       "      <th>5</th>\n",
       "      <td>6</td>\n",
       "      <td>0.895733</td>\n",
       "      <td>0.895358</td>\n",
       "      <td>0.838429</td>\n",
       "      <td>0.838010</td>\n",
       "      <td>0.961444</td>\n",
       "      <td>0.961279</td>\n",
       "      <td>0.833925</td>\n",
       "      <td>0.833409</td>\n",
       "      <td>16.095374</td>\n",
       "      <td>0.078157</td>\n",
       "      <td>10.0000</td>\n",
       "    </tr>\n",
       "    <tr>\n",
       "      <th>6</th>\n",
       "      <td>7</td>\n",
       "      <td>0.895733</td>\n",
       "      <td>0.895358</td>\n",
       "      <td>0.838429</td>\n",
       "      <td>0.838010</td>\n",
       "      <td>0.961444</td>\n",
       "      <td>0.961279</td>\n",
       "      <td>0.833925</td>\n",
       "      <td>0.833409</td>\n",
       "      <td>16.489736</td>\n",
       "      <td>0.066706</td>\n",
       "      <td>100.0000</td>\n",
       "    </tr>\n",
       "    <tr>\n",
       "      <th>7</th>\n",
       "      <td>8</td>\n",
       "      <td>0.895732</td>\n",
       "      <td>0.895358</td>\n",
       "      <td>0.838429</td>\n",
       "      <td>0.838010</td>\n",
       "      <td>0.961444</td>\n",
       "      <td>0.961279</td>\n",
       "      <td>0.833925</td>\n",
       "      <td>0.833409</td>\n",
       "      <td>16.680834</td>\n",
       "      <td>0.080976</td>\n",
       "      <td>1000.0000</td>\n",
       "    </tr>\n",
       "    <tr>\n",
       "      <th>8</th>\n",
       "      <td>9</td>\n",
       "      <td>0.895732</td>\n",
       "      <td>0.895358</td>\n",
       "      <td>0.838429</td>\n",
       "      <td>0.838010</td>\n",
       "      <td>0.961444</td>\n",
       "      <td>0.961279</td>\n",
       "      <td>0.833925</td>\n",
       "      <td>0.833409</td>\n",
       "      <td>15.692518</td>\n",
       "      <td>0.069746</td>\n",
       "      <td>10000.0000</td>\n",
       "    </tr>\n",
       "  </tbody>\n",
       "</table>\n",
       "</div>"
      ],
      "text/plain": [
       "   Iter #  train_f1   test_f1  train_recall  test_recall  train_precision  \\\n",
       "0       1  0.897138  0.896777      0.842333     0.841865         0.959570   \n",
       "1       2  0.896312  0.895947      0.839583     0.839209         0.961262   \n",
       "2       3  0.895802  0.895470      0.838566     0.838227         0.961423   \n",
       "3       4  0.895741  0.895359      0.838446     0.838019         0.961441   \n",
       "4       5  0.895735  0.895350      0.838432     0.838001         0.961446   \n",
       "5       6  0.895733  0.895358      0.838429     0.838010         0.961444   \n",
       "6       7  0.895733  0.895358      0.838429     0.838010         0.961444   \n",
       "7       8  0.895732  0.895358      0.838429     0.838010         0.961444   \n",
       "8       9  0.895732  0.895358      0.838429     0.838010         0.961444   \n",
       "\n",
       "   test_precision  train_accuracy  test_accuracy   fit_time  score_time  \\\n",
       "0        0.959531        0.835658       0.835190   8.935793    0.118431   \n",
       "1        0.961065        0.834727       0.834221  12.219735    0.070869   \n",
       "2        0.961252        0.834021       0.833566  15.906968    0.077983   \n",
       "3        0.961269        0.833936       0.833409  16.322985    0.068721   \n",
       "4        0.961273        0.833929       0.833397  16.294483    0.082232   \n",
       "5        0.961279        0.833925       0.833409  16.095374    0.078157   \n",
       "6        0.961279        0.833925       0.833409  16.489736    0.066706   \n",
       "7        0.961279        0.833925       0.833409  16.680834    0.080976   \n",
       "8        0.961279        0.833925       0.833409  15.692518    0.069746   \n",
       "\n",
       "            C  \n",
       "0      0.0001  \n",
       "1      0.0010  \n",
       "2      0.0100  \n",
       "3      0.1000  \n",
       "4      1.0000  \n",
       "5     10.0000  \n",
       "6    100.0000  \n",
       "7   1000.0000  \n",
       "8  10000.0000  "
      ]
     },
     "execution_count": 113,
     "metadata": {},
     "output_type": "execute_result"
    }
   ],
   "source": [
    "get_summary(grid)"
   ]
  },
  {
   "cell_type": "code",
   "execution_count": 114,
   "metadata": {
    "scrolled": true
   },
   "outputs": [
    {
     "data": {
      "text/plain": [
       "LogisticRegression(C=0.0001, class_weight={0: 5, 1: 1}, dual=False,\n",
       "          fit_intercept=True, intercept_scaling=1, max_iter=100,\n",
       "          multi_class='ovr', n_jobs=1, penalty='l2', random_state=42,\n",
       "          solver='saga', tol=0.0001, verbose=0, warm_start=False)"
      ]
     },
     "execution_count": 114,
     "metadata": {},
     "output_type": "execute_result"
    }
   ],
   "source": [
    "grid.best_estimator_"
   ]
  },
  {
   "cell_type": "markdown",
   "metadata": {},
   "source": [
    "Let's also try with no class weights but straitified cross validations"
   ]
  },
  {
   "cell_type": "code",
   "execution_count": 115,
   "metadata": {},
   "outputs": [],
   "source": [
    "estimator = LogisticRegression(random_state=42, solver='saga')"
   ]
  },
  {
   "cell_type": "code",
   "execution_count": 116,
   "metadata": {},
   "outputs": [],
   "source": [
    "from sklearn.model_selection import StratifiedKFold"
   ]
  },
  {
   "cell_type": "code",
   "execution_count": 118,
   "metadata": {},
   "outputs": [],
   "source": [
    "skf = StratifiedKFold(n_splits=10)"
   ]
  },
  {
   "cell_type": "code",
   "execution_count": 119,
   "metadata": {},
   "outputs": [],
   "source": [
    "grid = GridSearchCV(estimator=estimator,\n",
    "                    param_grid=params,\n",
    "                    scoring={'accuracy', 'precision', 'f1', 'recall'},\n",
    "                    refit='f1', # Because we are using multiple evaluation metrics\n",
    "                    cv=skf,\n",
    "                    return_train_score=True,\n",
    "                    verbose=2,\n",
    "                    n_jobs=8)  ## Using only 8 cores out of 12 cores"
   ]
  },
  {
   "cell_type": "code",
   "execution_count": 120,
   "metadata": {},
   "outputs": [],
   "source": [
    "features = Dtrain_scaled\n",
    "labels = data_train.Polarity.apply(lambda x: 1 if x == 'positive' else 0).values"
   ]
  },
  {
   "cell_type": "code",
   "execution_count": 121,
   "metadata": {
    "scrolled": false
   },
   "outputs": [
    {
     "name": "stdout",
     "output_type": "stream",
     "text": [
      "Fitting 10 folds for each of 9 candidates, totalling 90 fits\n",
      "[CV] C=0.0001 ........................................................\n",
      "[CV] C=0.0001 ........................................................\n",
      "[CV] C=0.0001 ........................................................\n",
      "[CV] C=0.0001 ........................................................\n",
      "[CV] C=0.0001 ........................................................\n",
      "[CV] C=0.0001 ........................................................\n",
      "[CV] C=0.0001 ........................................................\n",
      "[CV] C=0.0001 ........................................................\n",
      "[CV] ......................................... C=0.0001, total=   7.4s\n",
      "[CV] C=0.0001 ........................................................\n",
      "[CV] ......................................... C=0.0001, total=   7.4s\n",
      "[CV] C=0.0001 ........................................................\n",
      "[CV] ......................................... C=0.0001, total=   8.3s\n",
      "[CV] ......................................... C=0.0001, total=   7.6s\n",
      "[CV] ......................................... C=0.0001, total=   7.6s\n",
      "[CV] C=0.001 .........................................................\n",
      "[CV] C=0.001 .........................................................\n",
      "[CV] ......................................... C=0.0001, total=   8.1s\n",
      "[CV] C=0.001 .........................................................\n",
      "[CV] ......................................... C=0.0001, total=   9.2s\n",
      "[CV] C=0.001 .........................................................\n",
      "[CV] C=0.001 .........................................................\n",
      "[CV] ......................................... C=0.0001, total=   9.5s\n",
      "[CV] C=0.001 .........................................................\n",
      "[CV] ......................................... C=0.0001, total=   8.5s\n",
      "[CV] C=0.001 .........................................................\n",
      "[CV] ......................................... C=0.0001, total=   8.7s\n",
      "[CV] C=0.001 .........................................................\n",
      "[CV] .......................................... C=0.001, total=  14.9s\n",
      "[CV] C=0.001 .........................................................\n",
      "[CV] .......................................... C=0.001, total=  13.7s\n",
      "[CV] C=0.001 .........................................................\n",
      "[CV] .......................................... C=0.001, total=  15.2s\n",
      "[CV] C=0.01 ..........................................................\n",
      "[CV] .......................................... C=0.001, total=  16.0s\n",
      "[CV] .......................................... C=0.001, total=  16.9s\n",
      "[CV] C=0.01 ..........................................................\n",
      "[CV] .......................................... C=0.001, total=  16.0s\n",
      "[CV] C=0.01 ..........................................................\n",
      "[CV] C=0.01 ..........................................................\n",
      "[CV] .......................................... C=0.001, total=  15.4s\n",
      "[CV] C=0.01 ..........................................................\n",
      "[CV] .......................................... C=0.001, total=  16.0s\n",
      "[CV] C=0.01 ..........................................................\n",
      "[CV] .......................................... C=0.001, total=  13.3s\n",
      "[CV] C=0.01 ..........................................................\n",
      "[CV] .......................................... C=0.001, total=  15.2s\n",
      "[CV] C=0.01 ..........................................................\n",
      "[CV] ........................................... C=0.01, total=  26.8s\n",
      "[CV] C=0.01 ..........................................................\n",
      "[CV] ........................................... C=0.01, total=  30.1s\n",
      "[CV] C=0.01 ..........................................................\n",
      "[CV] ........................................... C=0.01, total=  28.7s\n",
      "[CV] C=0.1 ...........................................................\n",
      "[CV] ........................................... C=0.01, total=  30.7s\n",
      "[CV] C=0.1 ...........................................................\n",
      "[CV] ........................................... C=0.01, total=  28.7s\n",
      "[CV] C=0.1 ...........................................................\n"
     ]
    },
    {
     "name": "stderr",
     "output_type": "stream",
     "text": [
      "[Parallel(n_jobs=8)]: Done  25 tasks      | elapsed:  1.0min\n"
     ]
    },
    {
     "name": "stdout",
     "output_type": "stream",
     "text": [
      "[CV] ........................................... C=0.01, total=  29.6s\n",
      "[CV] C=0.1 ...........................................................\n",
      "[CV] ........................................... C=0.01, total=  28.4s\n",
      "[CV] C=0.1 ...........................................................\n",
      "[CV] ........................................... C=0.01, total=  28.9s\n",
      "[CV] C=0.1 ...........................................................\n",
      "[CV] ........................................... C=0.01, total=  25.6s\n",
      "[CV] C=0.1 ...........................................................\n",
      "[CV] ........................................... C=0.01, total=  33.4s\n",
      "[CV] C=0.1 ...........................................................\n",
      "[CV] ............................................ C=0.1, total=  32.3s\n",
      "[CV] C=0.1 ...........................................................\n",
      "[CV] ............................................ C=0.1, total=  33.3s\n",
      "[CV] C=0.1 ...........................................................\n",
      "[CV] ............................................ C=0.1, total=  33.0s\n",
      "[CV] C=1.0 ...........................................................\n",
      "[CV] ............................................ C=0.1, total=  32.4s\n",
      "[CV] C=1.0 ...........................................................\n",
      "[CV] ............................................ C=0.1, total=  32.9s\n",
      "[CV] C=1.0 ...........................................................\n",
      "[CV] ............................................ C=0.1, total=  34.6s\n",
      "[CV] C=1.0 ...........................................................\n",
      "[CV] ............................................ C=0.1, total=  34.1s\n",
      "[CV] C=1.0 ...........................................................\n",
      "[CV] ............................................ C=0.1, total=  29.9s\n",
      "[CV] C=1.0 ...........................................................\n",
      "[CV] ............................................ C=0.1, total=  33.6s\n",
      "[CV] C=1.0 ...........................................................\n",
      "[CV] ............................................ C=0.1, total=  36.7s\n",
      "[CV] C=1.0 ...........................................................\n",
      "[CV] ............................................ C=1.0, total=  34.0s\n",
      "[CV] C=1.0 ...........................................................\n",
      "[CV] ............................................ C=1.0, total=  33.9s\n",
      "[CV] C=1.0 ...........................................................\n",
      "[CV] ............................................ C=1.0, total=  35.0s\n",
      "[CV] C=10.0 ..........................................................\n",
      "[CV] ............................................ C=1.0, total=  34.1s\n",
      "[CV] C=10.0 ..........................................................\n",
      "[CV] ............................................ C=1.0, total=  33.0s\n",
      "[CV] C=10.0 ..........................................................\n",
      "[CV] ............................................ C=1.0, total=  32.2s\n",
      "[CV] C=10.0 ..........................................................\n",
      "[CV] ............................................ C=1.0, total=  32.5s\n",
      "[CV] C=10.0 ..........................................................\n",
      "[CV] ............................................ C=1.0, total=  32.1s\n",
      "[CV] C=10.0 ..........................................................\n",
      "[CV] ............................................ C=1.0, total=  30.8s\n",
      "[CV] C=10.0 ..........................................................\n",
      "[CV] ............................................ C=1.0, total=  39.1s\n",
      "[CV] C=10.0 ..........................................................\n",
      "[CV] ........................................... C=10.0, total=  33.1s\n",
      "[CV] C=10.0 ..........................................................\n",
      "[CV] ........................................... C=10.0, total=  31.7s\n",
      "[CV] C=10.0 ..........................................................\n",
      "[CV] ........................................... C=10.0, total=  33.6s\n",
      "[CV] C=100.0 .........................................................\n",
      "[CV] ........................................... C=10.0, total=  34.6s\n",
      "[CV] C=100.0 .........................................................\n",
      "[CV] ........................................... C=10.0, total=  36.2s\n",
      "[CV] C=100.0 .........................................................\n",
      "[CV] ........................................... C=10.0, total=  32.7s\n",
      "[CV] C=100.0 .........................................................\n",
      "[CV] ........................................... C=10.0, total=  32.3s\n",
      "[CV] C=100.0 .........................................................\n",
      "[CV] ........................................... C=10.0, total=  38.3s\n",
      "[CV] C=100.0 .........................................................\n",
      "[CV] ........................................... C=10.0, total=  31.3s\n",
      "[CV] C=100.0 .........................................................\n",
      "[CV] ........................................... C=10.0, total=  32.4s\n",
      "[CV] C=100.0 .........................................................\n",
      "[CV] .......................................... C=100.0, total=  33.4s\n",
      "[CV] C=100.0 .........................................................\n",
      "[CV] .......................................... C=100.0, total=  33.8s\n",
      "[CV] C=100.0 .........................................................\n",
      "[CV] .......................................... C=100.0, total=  33.2s\n",
      "[CV] C=1000.0 ........................................................\n",
      "[CV] .......................................... C=100.0, total=  33.8s\n",
      "[CV] C=1000.0 ........................................................\n",
      "[CV] .......................................... C=100.0, total=  33.9s\n",
      "[CV] C=1000.0 ........................................................\n",
      "[CV] .......................................... C=100.0, total=  37.6s\n",
      "[CV] C=1000.0 ........................................................\n",
      "[CV] .......................................... C=100.0, total=  32.6s\n",
      "[CV] C=1000.0 ........................................................\n",
      "[CV] .......................................... C=100.0, total=  34.3s\n",
      "[CV] C=1000.0 ........................................................\n",
      "[CV] .......................................... C=100.0, total=  32.9s\n",
      "[CV] C=1000.0 ........................................................\n",
      "[CV] .......................................... C=100.0, total=  31.4s\n",
      "[CV] C=1000.0 ........................................................\n",
      "[CV] ......................................... C=1000.0, total=  32.6s\n",
      "[CV] C=1000.0 ........................................................\n",
      "[CV] ......................................... C=1000.0, total=  34.5s\n",
      "[CV] C=1000.0 ........................................................\n",
      "[CV] ......................................... C=1000.0, total=  32.9s\n",
      "[CV] C=10000.0 .......................................................\n",
      "[CV] ......................................... C=1000.0, total=  32.6s\n",
      "[CV] C=10000.0 .......................................................\n",
      "[CV] ......................................... C=1000.0, total=  34.3s\n",
      "[CV] C=10000.0 .......................................................\n",
      "[CV] ......................................... C=1000.0, total=  33.4s\n",
      "[CV] C=10000.0 .......................................................\n",
      "[CV] ......................................... C=1000.0, total=  32.8s\n",
      "[CV] C=10000.0 .......................................................\n",
      "[CV] ......................................... C=1000.0, total=  33.7s\n",
      "[CV] C=10000.0 .......................................................\n",
      "[CV] ......................................... C=1000.0, total=  32.6s\n",
      "[CV] C=10000.0 .......................................................\n",
      "[CV] ......................................... C=1000.0, total=  38.6s\n",
      "[CV] C=10000.0 .......................................................\n",
      "[CV] ........................................ C=10000.0, total=  33.3s\n",
      "[CV] C=10000.0 .......................................................\n",
      "[CV] ........................................ C=10000.0, total=  34.2s\n",
      "[CV] C=10000.0 .......................................................\n",
      "[CV] ........................................ C=10000.0, total=  34.1s\n",
      "[CV] ........................................ C=10000.0, total=  39.2s\n"
     ]
    },
    {
     "name": "stdout",
     "output_type": "stream",
     "text": [
      "[CV] ........................................ C=10000.0, total=  35.8s\n",
      "[CV] ........................................ C=10000.0, total=  32.9s\n",
      "[CV] ........................................ C=10000.0, total=  32.0s\n",
      "[CV] ........................................ C=10000.0, total=  31.0s\n",
      "[CV] ........................................ C=10000.0, total=  29.8s\n",
      "[CV] ........................................ C=10000.0, total=  28.0s\n"
     ]
    },
    {
     "name": "stderr",
     "output_type": "stream",
     "text": [
      "[Parallel(n_jobs=8)]: Done  90 out of  90 | elapsed:  5.6min finished\n"
     ]
    },
    {
     "data": {
      "text/plain": [
       "GridSearchCV(cv=StratifiedKFold(n_splits=10, random_state=None, shuffle=False),\n",
       "       error_score='raise',\n",
       "       estimator=LogisticRegression(C=1.0, class_weight=None, dual=False, fit_intercept=True,\n",
       "          intercept_scaling=1, max_iter=100, multi_class='ovr', n_jobs=1,\n",
       "          penalty='l2', random_state=42, solver='saga', tol=0.0001,\n",
       "          verbose=0, warm_start=False),\n",
       "       fit_params=None, iid=True, n_jobs=8,\n",
       "       param_grid={'C': [0.0001, 0.001, 0.01, 0.1, 1.0, 10.0, 100.0, 1000.0, 10000.0]},\n",
       "       pre_dispatch='2*n_jobs', refit='f1', return_train_score=True,\n",
       "       scoring={'f1', 'recall', 'precision', 'accuracy'}, verbose=2)"
      ]
     },
     "execution_count": 121,
     "metadata": {},
     "output_type": "execute_result"
    }
   ],
   "source": [
    "grid.fit(features, labels)"
   ]
  },
  {
   "cell_type": "code",
   "execution_count": 122,
   "metadata": {},
   "outputs": [
    {
     "data": {
      "text/html": [
       "<div>\n",
       "<style scoped>\n",
       "    .dataframe tbody tr th:only-of-type {\n",
       "        vertical-align: middle;\n",
       "    }\n",
       "\n",
       "    .dataframe tbody tr th {\n",
       "        vertical-align: top;\n",
       "    }\n",
       "\n",
       "    .dataframe thead th {\n",
       "        text-align: right;\n",
       "    }\n",
       "</style>\n",
       "<table border=\"1\" class=\"dataframe\">\n",
       "  <thead>\n",
       "    <tr style=\"text-align: right;\">\n",
       "      <th></th>\n",
       "      <th>Iter #</th>\n",
       "      <th>train_f1</th>\n",
       "      <th>test_f1</th>\n",
       "      <th>train_recall</th>\n",
       "      <th>test_recall</th>\n",
       "      <th>train_precision</th>\n",
       "      <th>test_precision</th>\n",
       "      <th>train_accuracy</th>\n",
       "      <th>test_accuracy</th>\n",
       "      <th>fit_time</th>\n",
       "      <th>score_time</th>\n",
       "      <th>C</th>\n",
       "    </tr>\n",
       "  </thead>\n",
       "  <tbody>\n",
       "    <tr>\n",
       "      <th>0</th>\n",
       "      <td>1</td>\n",
       "      <td>0.931444</td>\n",
       "      <td>0.931336</td>\n",
       "      <td>0.985193</td>\n",
       "      <td>0.985101</td>\n",
       "      <td>0.883257</td>\n",
       "      <td>0.883154</td>\n",
       "      <td>0.876610</td>\n",
       "      <td>0.876409</td>\n",
       "      <td>8.069294</td>\n",
       "      <td>0.153777</td>\n",
       "      <td>0.0001</td>\n",
       "    </tr>\n",
       "    <tr>\n",
       "      <th>1</th>\n",
       "      <td>2</td>\n",
       "      <td>0.936629</td>\n",
       "      <td>0.936528</td>\n",
       "      <td>0.975514</td>\n",
       "      <td>0.975376</td>\n",
       "      <td>0.900725</td>\n",
       "      <td>0.900693</td>\n",
       "      <td>0.887688</td>\n",
       "      <td>0.887509</td>\n",
       "      <td>15.173029</td>\n",
       "      <td>0.080283</td>\n",
       "      <td>0.0010</td>\n",
       "    </tr>\n",
       "    <tr>\n",
       "      <th>2</th>\n",
       "      <td>3</td>\n",
       "      <td>0.937527</td>\n",
       "      <td>0.937240</td>\n",
       "      <td>0.972654</td>\n",
       "      <td>0.972259</td>\n",
       "      <td>0.904849</td>\n",
       "      <td>0.904695</td>\n",
       "      <td>0.889710</td>\n",
       "      <td>0.889211</td>\n",
       "      <td>29.016176</td>\n",
       "      <td>0.072158</td>\n",
       "      <td>0.0100</td>\n",
       "    </tr>\n",
       "    <tr>\n",
       "      <th>3</th>\n",
       "      <td>4</td>\n",
       "      <td>0.937629</td>\n",
       "      <td>0.937447</td>\n",
       "      <td>0.972175</td>\n",
       "      <td>0.971927</td>\n",
       "      <td>0.905454</td>\n",
       "      <td>0.905370</td>\n",
       "      <td>0.889956</td>\n",
       "      <td>0.889639</td>\n",
       "      <td>33.197467</td>\n",
       "      <td>0.074760</td>\n",
       "      <td>0.1000</td>\n",
       "    </tr>\n",
       "    <tr>\n",
       "      <th>4</th>\n",
       "      <td>5</td>\n",
       "      <td>0.937637</td>\n",
       "      <td>0.937458</td>\n",
       "      <td>0.972120</td>\n",
       "      <td>0.971899</td>\n",
       "      <td>0.905517</td>\n",
       "      <td>0.905415</td>\n",
       "      <td>0.889978</td>\n",
       "      <td>0.889663</td>\n",
       "      <td>33.639132</td>\n",
       "      <td>0.055022</td>\n",
       "      <td>1.0000</td>\n",
       "    </tr>\n",
       "    <tr>\n",
       "      <th>5</th>\n",
       "      <td>6</td>\n",
       "      <td>0.937637</td>\n",
       "      <td>0.937457</td>\n",
       "      <td>0.972113</td>\n",
       "      <td>0.971894</td>\n",
       "      <td>0.905522</td>\n",
       "      <td>0.905418</td>\n",
       "      <td>0.889979</td>\n",
       "      <td>0.889663</td>\n",
       "      <td>33.517958</td>\n",
       "      <td>0.097441</td>\n",
       "      <td>10.0000</td>\n",
       "    </tr>\n",
       "    <tr>\n",
       "      <th>6</th>\n",
       "      <td>7</td>\n",
       "      <td>0.937637</td>\n",
       "      <td>0.937457</td>\n",
       "      <td>0.972112</td>\n",
       "      <td>0.971894</td>\n",
       "      <td>0.905522</td>\n",
       "      <td>0.905418</td>\n",
       "      <td>0.889978</td>\n",
       "      <td>0.889663</td>\n",
       "      <td>33.617094</td>\n",
       "      <td>0.068962</td>\n",
       "      <td>100.0000</td>\n",
       "    </tr>\n",
       "    <tr>\n",
       "      <th>7</th>\n",
       "      <td>8</td>\n",
       "      <td>0.937636</td>\n",
       "      <td>0.937457</td>\n",
       "      <td>0.972112</td>\n",
       "      <td>0.971894</td>\n",
       "      <td>0.905522</td>\n",
       "      <td>0.905418</td>\n",
       "      <td>0.889977</td>\n",
       "      <td>0.889663</td>\n",
       "      <td>33.722761</td>\n",
       "      <td>0.074197</td>\n",
       "      <td>1000.0000</td>\n",
       "    </tr>\n",
       "    <tr>\n",
       "      <th>8</th>\n",
       "      <td>9</td>\n",
       "      <td>0.937636</td>\n",
       "      <td>0.937457</td>\n",
       "      <td>0.972112</td>\n",
       "      <td>0.971894</td>\n",
       "      <td>0.905522</td>\n",
       "      <td>0.905418</td>\n",
       "      <td>0.889977</td>\n",
       "      <td>0.889663</td>\n",
       "      <td>32.952096</td>\n",
       "      <td>0.083683</td>\n",
       "      <td>10000.0000</td>\n",
       "    </tr>\n",
       "  </tbody>\n",
       "</table>\n",
       "</div>"
      ],
      "text/plain": [
       "   Iter #  train_f1   test_f1  train_recall  test_recall  train_precision  \\\n",
       "0       1  0.931444  0.931336      0.985193     0.985101         0.883257   \n",
       "1       2  0.936629  0.936528      0.975514     0.975376         0.900725   \n",
       "2       3  0.937527  0.937240      0.972654     0.972259         0.904849   \n",
       "3       4  0.937629  0.937447      0.972175     0.971927         0.905454   \n",
       "4       5  0.937637  0.937458      0.972120     0.971899         0.905517   \n",
       "5       6  0.937637  0.937457      0.972113     0.971894         0.905522   \n",
       "6       7  0.937637  0.937457      0.972112     0.971894         0.905522   \n",
       "7       8  0.937636  0.937457      0.972112     0.971894         0.905522   \n",
       "8       9  0.937636  0.937457      0.972112     0.971894         0.905522   \n",
       "\n",
       "   test_precision  train_accuracy  test_accuracy   fit_time  score_time  \\\n",
       "0        0.883154        0.876610       0.876409   8.069294    0.153777   \n",
       "1        0.900693        0.887688       0.887509  15.173029    0.080283   \n",
       "2        0.904695        0.889710       0.889211  29.016176    0.072158   \n",
       "3        0.905370        0.889956       0.889639  33.197467    0.074760   \n",
       "4        0.905415        0.889978       0.889663  33.639132    0.055022   \n",
       "5        0.905418        0.889979       0.889663  33.517958    0.097441   \n",
       "6        0.905418        0.889978       0.889663  33.617094    0.068962   \n",
       "7        0.905418        0.889977       0.889663  33.722761    0.074197   \n",
       "8        0.905418        0.889977       0.889663  32.952096    0.083683   \n",
       "\n",
       "            C  \n",
       "0      0.0001  \n",
       "1      0.0010  \n",
       "2      0.0100  \n",
       "3      0.1000  \n",
       "4      1.0000  \n",
       "5     10.0000  \n",
       "6    100.0000  \n",
       "7   1000.0000  \n",
       "8  10000.0000  "
      ]
     },
     "execution_count": 122,
     "metadata": {},
     "output_type": "execute_result"
    }
   ],
   "source": [
    "get_summary(grid)"
   ]
  },
  {
   "cell_type": "code",
   "execution_count": 123,
   "metadata": {},
   "outputs": [
    {
     "data": {
      "text/plain": [
       "LogisticRegression(C=1.0, class_weight=None, dual=False, fit_intercept=True,\n",
       "          intercept_scaling=1, max_iter=100, multi_class='ovr', n_jobs=1,\n",
       "          penalty='l2', random_state=42, solver='saga', tol=0.0001,\n",
       "          verbose=0, warm_start=False)"
      ]
     },
     "execution_count": 123,
     "metadata": {},
     "output_type": "execute_result"
    }
   ],
   "source": [
    "grid.best_estimator_"
   ]
  },
  {
   "cell_type": "markdown",
   "metadata": {},
   "source": [
    "Finally we can see for C = 1, we get the best estimator with 0.937458 as the F1 score"
   ]
  },
  {
   "cell_type": "markdown",
   "metadata": {},
   "source": [
    "## Saving the best estimator"
   ]
  },
  {
   "cell_type": "code",
   "execution_count": 124,
   "metadata": {},
   "outputs": [],
   "source": [
    "from sklearn.externals import joblib"
   ]
  },
  {
   "cell_type": "code",
   "execution_count": 125,
   "metadata": {},
   "outputs": [
    {
     "data": {
      "text/plain": [
       "['best_w2v_tfidf.model']"
      ]
     },
     "execution_count": 125,
     "metadata": {},
     "output_type": "execute_result"
    }
   ],
   "source": [
    "joblib.dump(grid.best_estimator_, 'best_w2v_tfidf.model')"
   ]
  },
  {
   "cell_type": "markdown",
   "metadata": {},
   "source": [
    "## Loading the best estimator"
   ]
  },
  {
   "cell_type": "code",
   "execution_count": 126,
   "metadata": {},
   "outputs": [],
   "source": [
    "clf = joblib.load('best_w2v_tfidf.model')"
   ]
  },
  {
   "cell_type": "code",
   "execution_count": 128,
   "metadata": {},
   "outputs": [],
   "source": [
    "xTest = Dtest_scaled\n",
    "actuals = data_test.Polarity.apply(lambda x: 1 if x == 'positive' else 0).values"
   ]
  },
  {
   "cell_type": "code",
   "execution_count": 129,
   "metadata": {},
   "outputs": [],
   "source": [
    "preds = clf.predict(xTest)"
   ]
  },
  {
   "cell_type": "markdown",
   "metadata": {},
   "source": [
    "## Reporting Evaluation metrics for best estimator accoring to F1 score"
   ]
  },
  {
   "cell_type": "code",
   "execution_count": 130,
   "metadata": {},
   "outputs": [],
   "source": [
    "from sklearn.metrics import (\n",
    "    accuracy_score,\n",
    "    precision_score,\n",
    "    recall_score,\n",
    "    f1_score\n",
    ")"
   ]
  },
  {
   "cell_type": "code",
   "execution_count": 134,
   "metadata": {},
   "outputs": [
    {
     "name": "stdout",
     "output_type": "stream",
     "text": [
      "+---------------+--------------------+--------------------+--------------------+--------------------+\n",
      "| Featurisation |   test_accuracy    |   test_precision   |    test_recall     |      test_f1       |\n",
      "+---------------+--------------------+--------------------+--------------------+--------------------+\n",
      "|      BOW      | 0.8963253872349775 | 0.9077152225405725 | 0.9733473824312333 | 0.9393863165613174 |\n",
      "|     TFIDF     | 0.899932256765169  | 0.9132666367610086 | 0.9709738243123336 | 0.9412365536483224 |\n",
      "|   w2v-TFIDF   | 0.873347614339595  | 0.8840710993014876 | 0.9742992468359345 | 0.9269947811954176 |\n",
      "+---------------+--------------------+--------------------+--------------------+--------------------+\n"
     ]
    }
   ],
   "source": [
    "acs = accuracy_score(actuals, preds)\n",
    "pre = precision_score(actuals, preds)\n",
    "rec = recall_score(actuals, preds)\n",
    "f1 = f1_score(actuals, preds)\n",
    "\n",
    "from prettytable import PrettyTable\n",
    "\n",
    "x = PrettyTable()\n",
    "\n",
    "x.field_names = ['Featurisation', 'test_accuracy', 'test_precision', 'test_recall', 'test_f1']\n",
    "x.add_row(['BOW', 0.8963253872349775, 0.9077152225405725, 0.9733473824312333, 0.9393863165613174])\n",
    "x.add_row(['TFIDF', 0.899932256765169, 0.9132666367610086, 0.9709738243123336, 0.9412365536483224])\n",
    "x.add_row(['w2v-TFIDF', acs, pre, rec, f1])\n",
    "\n",
    "print(x)\n"
   ]
  },
  {
   "cell_type": "markdown",
   "metadata": {},
   "source": [
    "## Sparsity and Latency"
   ]
  },
  {
   "cell_type": "code",
   "execution_count": 135,
   "metadata": {},
   "outputs": [],
   "source": [
    "features = Dtrain_scaled\n",
    "labels = data_train.Polarity.apply(lambda x: 1 if x == 'positive' else 0).values"
   ]
  },
  {
   "cell_type": "code",
   "execution_count": 137,
   "metadata": {},
   "outputs": [],
   "source": [
    "estimators = []"
   ]
  },
  {
   "cell_type": "code",
   "execution_count": 138,
   "metadata": {},
   "outputs": [
    {
     "name": "stdout",
     "output_type": "stream",
     "text": [
      "convergence after 15 epochs took 10 seconds\n",
      "Done for c=0.0001\n"
     ]
    },
    {
     "name": "stderr",
     "output_type": "stream",
     "text": [
      "[Parallel(n_jobs=1)]: Done   1 out of   1 | elapsed:   10.4s remaining:    0.0s\n",
      "[Parallel(n_jobs=1)]: Done   1 out of   1 | elapsed:   10.4s finished\n"
     ]
    },
    {
     "name": "stdout",
     "output_type": "stream",
     "text": [
      "convergence after 20 epochs took 14 seconds\n",
      "Done for c=0.001\n"
     ]
    },
    {
     "name": "stderr",
     "output_type": "stream",
     "text": [
      "[Parallel(n_jobs=1)]: Done   1 out of   1 | elapsed:   13.5s remaining:    0.0s\n",
      "[Parallel(n_jobs=1)]: Done   1 out of   1 | elapsed:   13.5s finished\n"
     ]
    },
    {
     "name": "stdout",
     "output_type": "stream",
     "text": [
      "convergence after 34 epochs took 23 seconds\n",
      "Done for c=0.01\n"
     ]
    },
    {
     "name": "stderr",
     "output_type": "stream",
     "text": [
      "[Parallel(n_jobs=1)]: Done   1 out of   1 | elapsed:   23.2s remaining:    0.0s\n",
      "[Parallel(n_jobs=1)]: Done   1 out of   1 | elapsed:   23.2s finished\n"
     ]
    },
    {
     "name": "stdout",
     "output_type": "stream",
     "text": [
      "convergence after 37 epochs took 26 seconds\n",
      "Done for c=0.1\n"
     ]
    },
    {
     "name": "stderr",
     "output_type": "stream",
     "text": [
      "[Parallel(n_jobs=1)]: Done   1 out of   1 | elapsed:   26.0s remaining:    0.0s\n",
      "[Parallel(n_jobs=1)]: Done   1 out of   1 | elapsed:   26.0s finished\n"
     ]
    },
    {
     "name": "stdout",
     "output_type": "stream",
     "text": [
      "convergence after 34 epochs took 25 seconds\n",
      "Done for c=1.0\n"
     ]
    },
    {
     "name": "stderr",
     "output_type": "stream",
     "text": [
      "[Parallel(n_jobs=1)]: Done   1 out of   1 | elapsed:   25.2s remaining:    0.0s\n",
      "[Parallel(n_jobs=1)]: Done   1 out of   1 | elapsed:   25.2s finished\n"
     ]
    },
    {
     "name": "stdout",
     "output_type": "stream",
     "text": [
      "convergence after 31 epochs took 22 seconds\n",
      "Done for c=10.0\n"
     ]
    },
    {
     "name": "stderr",
     "output_type": "stream",
     "text": [
      "[Parallel(n_jobs=1)]: Done   1 out of   1 | elapsed:   22.0s remaining:    0.0s\n",
      "[Parallel(n_jobs=1)]: Done   1 out of   1 | elapsed:   22.0s finished\n"
     ]
    },
    {
     "name": "stdout",
     "output_type": "stream",
     "text": [
      "convergence after 30 epochs took 23 seconds\n",
      "Done for c=100.0\n"
     ]
    },
    {
     "name": "stderr",
     "output_type": "stream",
     "text": [
      "[Parallel(n_jobs=1)]: Done   1 out of   1 | elapsed:   22.5s remaining:    0.0s\n",
      "[Parallel(n_jobs=1)]: Done   1 out of   1 | elapsed:   22.5s finished\n"
     ]
    },
    {
     "name": "stdout",
     "output_type": "stream",
     "text": [
      "convergence after 30 epochs took 24 seconds\n",
      "Done for c=1000.0\n"
     ]
    },
    {
     "name": "stderr",
     "output_type": "stream",
     "text": [
      "[Parallel(n_jobs=1)]: Done   1 out of   1 | elapsed:   24.0s remaining:    0.0s\n",
      "[Parallel(n_jobs=1)]: Done   1 out of   1 | elapsed:   24.0s finished\n"
     ]
    },
    {
     "name": "stdout",
     "output_type": "stream",
     "text": [
      "convergence after 30 epochs took 24 seconds\n",
      "Done for c=10000.0\n"
     ]
    },
    {
     "name": "stderr",
     "output_type": "stream",
     "text": [
      "[Parallel(n_jobs=1)]: Done   1 out of   1 | elapsed:   23.8s remaining:    0.0s\n",
      "[Parallel(n_jobs=1)]: Done   1 out of   1 | elapsed:   23.8s finished\n"
     ]
    }
   ],
   "source": [
    "for c in [1e-4, 1e-3, 1e-2, 1e-1, 1e0, 1e1, 1e2, 1e3, 1e4]:\n",
    "    clf = LogisticRegression(penalty='l1', C=c, solver='saga', verbose=2)\n",
    "    clf.fit(features, labels)\n",
    "    estimators.append(clf)\n",
    "    print(f\"Done for c={c}\")"
   ]
  },
  {
   "cell_type": "code",
   "execution_count": 139,
   "metadata": {},
   "outputs": [],
   "source": [
    "latency = pd.DataFrame(columns=['C', 'sparsity', 'latency'])\n"
   ]
  },
  {
   "cell_type": "code",
   "execution_count": 140,
   "metadata": {},
   "outputs": [],
   "source": [
    "xTest = Dtest_scaled\n",
    "actuals = data_test.Polarity.apply(lambda x: 1 if x == 'positive' else 0).values"
   ]
  },
  {
   "cell_type": "code",
   "execution_count": 141,
   "metadata": {},
   "outputs": [],
   "source": [
    "spr = [np.nonzero(estimator.coef_.ravel())[0].shape[0] for estimator in estimators]\n",
    "C = [1e-4, 1e-3, 1e-2, 1e-1, 1e0, 1e1, 1e2, 1e3, 1e4]"
   ]
  },
  {
   "cell_type": "code",
   "execution_count": 142,
   "metadata": {},
   "outputs": [],
   "source": [
    "import time"
   ]
  },
  {
   "cell_type": "code",
   "execution_count": 143,
   "metadata": {},
   "outputs": [],
   "source": [
    "latn = []"
   ]
  },
  {
   "cell_type": "code",
   "execution_count": 144,
   "metadata": {},
   "outputs": [],
   "source": [
    "for estimator in estimators:\n",
    "    start = time.clock()\n",
    "    estimator.predict(xTrain)\n",
    "    latn.append(time.clock() - start)"
   ]
  },
  {
   "cell_type": "code",
   "execution_count": 145,
   "metadata": {},
   "outputs": [],
   "source": [
    "latency['C'] = C\n",
    "latency['sparsity'] = spr\n",
    "latency['latency'] = latn"
   ]
  },
  {
   "cell_type": "code",
   "execution_count": 146,
   "metadata": {},
   "outputs": [
    {
     "data": {
      "text/html": [
       "<div>\n",
       "<style scoped>\n",
       "    .dataframe tbody tr th:only-of-type {\n",
       "        vertical-align: middle;\n",
       "    }\n",
       "\n",
       "    .dataframe tbody tr th {\n",
       "        vertical-align: top;\n",
       "    }\n",
       "\n",
       "    .dataframe thead th {\n",
       "        text-align: right;\n",
       "    }\n",
       "</style>\n",
       "<table border=\"1\" class=\"dataframe\">\n",
       "  <thead>\n",
       "    <tr style=\"text-align: right;\">\n",
       "      <th></th>\n",
       "      <th>C</th>\n",
       "      <th>sparsity</th>\n",
       "      <th>latency</th>\n",
       "    </tr>\n",
       "  </thead>\n",
       "  <tbody>\n",
       "    <tr>\n",
       "      <th>0</th>\n",
       "      <td>0.0001</td>\n",
       "      <td>9</td>\n",
       "      <td>0.739715</td>\n",
       "    </tr>\n",
       "    <tr>\n",
       "      <th>1</th>\n",
       "      <td>0.0010</td>\n",
       "      <td>49</td>\n",
       "      <td>0.319007</td>\n",
       "    </tr>\n",
       "    <tr>\n",
       "      <th>2</th>\n",
       "      <td>0.0100</td>\n",
       "      <td>92</td>\n",
       "      <td>0.163876</td>\n",
       "    </tr>\n",
       "    <tr>\n",
       "      <th>3</th>\n",
       "      <td>0.1000</td>\n",
       "      <td>100</td>\n",
       "      <td>0.167309</td>\n",
       "    </tr>\n",
       "    <tr>\n",
       "      <th>4</th>\n",
       "      <td>1.0000</td>\n",
       "      <td>100</td>\n",
       "      <td>0.163344</td>\n",
       "    </tr>\n",
       "    <tr>\n",
       "      <th>5</th>\n",
       "      <td>10.0000</td>\n",
       "      <td>100</td>\n",
       "      <td>0.162150</td>\n",
       "    </tr>\n",
       "    <tr>\n",
       "      <th>6</th>\n",
       "      <td>100.0000</td>\n",
       "      <td>100</td>\n",
       "      <td>0.164987</td>\n",
       "    </tr>\n",
       "    <tr>\n",
       "      <th>7</th>\n",
       "      <td>1000.0000</td>\n",
       "      <td>100</td>\n",
       "      <td>0.165414</td>\n",
       "    </tr>\n",
       "    <tr>\n",
       "      <th>8</th>\n",
       "      <td>10000.0000</td>\n",
       "      <td>100</td>\n",
       "      <td>0.164082</td>\n",
       "    </tr>\n",
       "  </tbody>\n",
       "</table>\n",
       "</div>"
      ],
      "text/plain": [
       "            C  sparsity   latency\n",
       "0      0.0001         9  0.739715\n",
       "1      0.0010        49  0.319007\n",
       "2      0.0100        92  0.163876\n",
       "3      0.1000       100  0.167309\n",
       "4      1.0000       100  0.163344\n",
       "5     10.0000       100  0.162150\n",
       "6    100.0000       100  0.164987\n",
       "7   1000.0000       100  0.165414\n",
       "8  10000.0000       100  0.164082"
      ]
     },
     "execution_count": 146,
     "metadata": {},
     "output_type": "execute_result"
    }
   ],
   "source": [
    "latency"
   ]
  },
  {
   "cell_type": "markdown",
   "metadata": {},
   "source": [
    "The behavious is bit strange. The sparsity(non zero elements) is incresing and latency is also increasing. This is not expected."
   ]
  }
 ],
 "metadata": {
  "kernelspec": {
   "display_name": "Python 3",
   "language": "python",
   "name": "python3"
  },
  "language_info": {
   "codemirror_mode": {
    "name": "ipython",
    "version": 3
   },
   "file_extension": ".py",
   "mimetype": "text/x-python",
   "name": "python",
   "nbconvert_exporter": "python",
   "pygments_lexer": "ipython3",
   "version": "3.6.6"
  }
 },
 "nbformat": 4,
 "nbformat_minor": 2
}
